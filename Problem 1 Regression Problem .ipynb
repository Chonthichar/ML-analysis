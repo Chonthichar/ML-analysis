{
 "cells": [
  {
   "cell_type": "markdown",
   "id": "d59dbced",
   "metadata": {},
   "source": [
    "## Problem 1: Regression Problem \n",
    "The data in the file regression_housedata.csv are collected from 1,000 homes being sold in\n",
    "Oslo. The response variable of interest is the Price (the price of the house). The input variables\n",
    "are bedrooms, sqft_living (the living space area), sqft_lot (the area of the land the house sits\n",
    "on), floors (the number of levels of the house), sqft_above (area of the house excluding the\n",
    "basement), sqft_basement (basement area).\n",
    "Use Multi-Linear Regressor, Decision Tree Regressor, and Support Vector Regressor to build\n",
    "a regression model for the prediction of house prices. Perform Model Evaluation using two\n",
    "metrics: Root Mean Squared Error and Coefficient of Determination. Which of the regression\n",
    "models is the best fit for the data?"
   ]
  },
  {
   "cell_type": "markdown",
   "id": "2658b5bf",
   "metadata": {},
   "source": [
    "### Importing Needed packages\n"
   ]
  },
  {
   "cell_type": "code",
   "execution_count": 37,
   "id": "2594f7e0",
   "metadata": {},
   "outputs": [],
   "source": [
    "import matplotlib.pyplot as plt\n",
    "import pandas as pd\n",
    "import pylab as pl\n",
    "import numpy as np\n",
    "from sklearn import preprocessing\n",
    "from sklearn.model_selection import train_test_split\n",
    "from sklearn.linear_model import LinearRegression\n",
    "from sklearn.metrics import mean_squared_error\n",
    "from sklearn.metrics import mean_absolute_error\n",
    "from sklearn.metrics import r2_score\n",
    "from sklearn import linear_model\n",
    "from sklearn import preprocessing\n",
    "import seaborn as sns\n",
    "from sklearn import tree\n",
    "from sklearn.tree import DecisionTreeRegressor\n",
    "\n",
    "%matplotlib inline"
   ]
  },
  {
   "cell_type": "markdown",
   "id": "6cdbd2d7",
   "metadata": {},
   "source": [
    "### Understanding the data"
   ]
  },
  {
   "cell_type": "markdown",
   "id": "1e7b3bfe",
   "metadata": {},
   "source": [
    "### regression_housedata.csv\n",
    "Collected from 1,000 homes being sold in Oslo. \n",
    "\n",
    "The response variable of interest is \n",
    "    - the Price (the price of the house). \n",
    "\n",
    "The input variables are \n",
    "    - bedrooms, \n",
    "    - sqft_living (the living space area), \n",
    "    - sqft_lot (the area of the land the house sits on), \n",
    "    - floors (the number of levels of the house), \n",
    "    - sqft_above (area of the house excluding the basement), \n",
    "    - sqft_basement (basement area). \n",
    "\n",
    "### Task\n",
    "    1) Use Multi-Linear Regressor, \n",
    "    2) Decision Tree Regressor, \n",
    "    3) and Support Vector Regressor \n",
    "\n",
    "### Goal\n",
    "    1) To build a regression model for the prediction of house prices. \n",
    "    2) Perform Model Evaluation using two metrics: Root Mean Squared Error and Coefficient of Determination. \n",
    "    3) Which of the regression models is the best fit for the data?"
   ]
  },
  {
   "cell_type": "markdown",
   "id": "0c65712e",
   "metadata": {},
   "source": [
    "### 1) Import the data"
   ]
  },
  {
   "cell_type": "code",
   "execution_count": 38,
   "id": "4bd9592d",
   "metadata": {},
   "outputs": [
    {
     "data": {
      "text/html": [
       "<div>\n",
       "<style scoped>\n",
       "    .dataframe tbody tr th:only-of-type {\n",
       "        vertical-align: middle;\n",
       "    }\n",
       "\n",
       "    .dataframe tbody tr th {\n",
       "        vertical-align: top;\n",
       "    }\n",
       "\n",
       "    .dataframe thead th {\n",
       "        text-align: right;\n",
       "    }\n",
       "</style>\n",
       "<table border=\"1\" class=\"dataframe\">\n",
       "  <thead>\n",
       "    <tr style=\"text-align: right;\">\n",
       "      <th></th>\n",
       "      <th>id</th>\n",
       "      <th>bedrooms</th>\n",
       "      <th>sqft_living</th>\n",
       "      <th>sqft_lot</th>\n",
       "      <th>floors</th>\n",
       "      <th>sqft_above</th>\n",
       "      <th>sqft_basement</th>\n",
       "      <th>price</th>\n",
       "    </tr>\n",
       "  </thead>\n",
       "  <tbody>\n",
       "    <tr>\n",
       "      <th>0</th>\n",
       "      <td>7129300520</td>\n",
       "      <td>3</td>\n",
       "      <td>1180</td>\n",
       "      <td>5650</td>\n",
       "      <td>1</td>\n",
       "      <td>1180</td>\n",
       "      <td>0</td>\n",
       "      <td>221900.0</td>\n",
       "    </tr>\n",
       "    <tr>\n",
       "      <th>1</th>\n",
       "      <td>6414100192</td>\n",
       "      <td>3</td>\n",
       "      <td>2570</td>\n",
       "      <td>7242</td>\n",
       "      <td>2</td>\n",
       "      <td>2170</td>\n",
       "      <td>400</td>\n",
       "      <td>538000.0</td>\n",
       "    </tr>\n",
       "    <tr>\n",
       "      <th>2</th>\n",
       "      <td>5631500400</td>\n",
       "      <td>2</td>\n",
       "      <td>770</td>\n",
       "      <td>10000</td>\n",
       "      <td>1</td>\n",
       "      <td>770</td>\n",
       "      <td>0</td>\n",
       "      <td>180000.0</td>\n",
       "    </tr>\n",
       "    <tr>\n",
       "      <th>3</th>\n",
       "      <td>2487200875</td>\n",
       "      <td>4</td>\n",
       "      <td>1960</td>\n",
       "      <td>5000</td>\n",
       "      <td>1</td>\n",
       "      <td>1050</td>\n",
       "      <td>910</td>\n",
       "      <td>604000.0</td>\n",
       "    </tr>\n",
       "    <tr>\n",
       "      <th>4</th>\n",
       "      <td>1954400510</td>\n",
       "      <td>3</td>\n",
       "      <td>1680</td>\n",
       "      <td>8080</td>\n",
       "      <td>1</td>\n",
       "      <td>1680</td>\n",
       "      <td>0</td>\n",
       "      <td>510000.0</td>\n",
       "    </tr>\n",
       "    <tr>\n",
       "      <th>5</th>\n",
       "      <td>7237550310</td>\n",
       "      <td>4</td>\n",
       "      <td>5420</td>\n",
       "      <td>101930</td>\n",
       "      <td>1</td>\n",
       "      <td>3890</td>\n",
       "      <td>1530</td>\n",
       "      <td>1230000.0</td>\n",
       "    </tr>\n",
       "    <tr>\n",
       "      <th>6</th>\n",
       "      <td>1321400060</td>\n",
       "      <td>3</td>\n",
       "      <td>1715</td>\n",
       "      <td>6819</td>\n",
       "      <td>2</td>\n",
       "      <td>1715</td>\n",
       "      <td>0</td>\n",
       "      <td>257500.0</td>\n",
       "    </tr>\n",
       "    <tr>\n",
       "      <th>7</th>\n",
       "      <td>2008000270</td>\n",
       "      <td>3</td>\n",
       "      <td>1060</td>\n",
       "      <td>9711</td>\n",
       "      <td>1</td>\n",
       "      <td>1060</td>\n",
       "      <td>0</td>\n",
       "      <td>291850.0</td>\n",
       "    </tr>\n",
       "    <tr>\n",
       "      <th>8</th>\n",
       "      <td>2414600126</td>\n",
       "      <td>3</td>\n",
       "      <td>1780</td>\n",
       "      <td>7470</td>\n",
       "      <td>1</td>\n",
       "      <td>1050</td>\n",
       "      <td>730</td>\n",
       "      <td>229500.0</td>\n",
       "    </tr>\n",
       "    <tr>\n",
       "      <th>9</th>\n",
       "      <td>3793500160</td>\n",
       "      <td>3</td>\n",
       "      <td>1890</td>\n",
       "      <td>6560</td>\n",
       "      <td>2</td>\n",
       "      <td>1890</td>\n",
       "      <td>0</td>\n",
       "      <td>323000.0</td>\n",
       "    </tr>\n",
       "  </tbody>\n",
       "</table>\n",
       "</div>"
      ],
      "text/plain": [
       "           id  bedrooms  sqft_living  sqft_lot  floors  sqft_above  \\\n",
       "0  7129300520         3         1180      5650       1        1180   \n",
       "1  6414100192         3         2570      7242       2        2170   \n",
       "2  5631500400         2          770     10000       1         770   \n",
       "3  2487200875         4         1960      5000       1        1050   \n",
       "4  1954400510         3         1680      8080       1        1680   \n",
       "5  7237550310         4         5420    101930       1        3890   \n",
       "6  1321400060         3         1715      6819       2        1715   \n",
       "7  2008000270         3         1060      9711       1        1060   \n",
       "8  2414600126         3         1780      7470       1        1050   \n",
       "9  3793500160         3         1890      6560       2        1890   \n",
       "\n",
       "   sqft_basement      price  \n",
       "0              0   221900.0  \n",
       "1            400   538000.0  \n",
       "2              0   180000.0  \n",
       "3            910   604000.0  \n",
       "4              0   510000.0  \n",
       "5           1530  1230000.0  \n",
       "6              0   257500.0  \n",
       "7              0   291850.0  \n",
       "8            730   229500.0  \n",
       "9              0   323000.0  "
      ]
     },
     "execution_count": 38,
     "metadata": {},
     "output_type": "execute_result"
    }
   ],
   "source": [
    "df = pd.read_csv('regression_housedata.csv', sep=';')\n",
    "\n",
    "# explore the dataset\n",
    "df.head(10)"
   ]
  },
  {
   "cell_type": "code",
   "execution_count": 39,
   "id": "d9534ef7",
   "metadata": {},
   "outputs": [
    {
     "data": {
      "text/html": [
       "<div>\n",
       "<style scoped>\n",
       "    .dataframe tbody tr th:only-of-type {\n",
       "        vertical-align: middle;\n",
       "    }\n",
       "\n",
       "    .dataframe tbody tr th {\n",
       "        vertical-align: top;\n",
       "    }\n",
       "\n",
       "    .dataframe thead th {\n",
       "        text-align: right;\n",
       "    }\n",
       "</style>\n",
       "<table border=\"1\" class=\"dataframe\">\n",
       "  <thead>\n",
       "    <tr style=\"text-align: right;\">\n",
       "      <th></th>\n",
       "      <th>bedrooms</th>\n",
       "      <th>sqft_living</th>\n",
       "      <th>sqft_lot</th>\n",
       "      <th>floors</th>\n",
       "      <th>sqft_above</th>\n",
       "      <th>sqft_basement</th>\n",
       "      <th>price</th>\n",
       "    </tr>\n",
       "  </thead>\n",
       "  <tbody>\n",
       "    <tr>\n",
       "      <th>0</th>\n",
       "      <td>3</td>\n",
       "      <td>1180</td>\n",
       "      <td>5650</td>\n",
       "      <td>1</td>\n",
       "      <td>1180</td>\n",
       "      <td>0</td>\n",
       "      <td>221900.0</td>\n",
       "    </tr>\n",
       "    <tr>\n",
       "      <th>1</th>\n",
       "      <td>3</td>\n",
       "      <td>2570</td>\n",
       "      <td>7242</td>\n",
       "      <td>2</td>\n",
       "      <td>2170</td>\n",
       "      <td>400</td>\n",
       "      <td>538000.0</td>\n",
       "    </tr>\n",
       "    <tr>\n",
       "      <th>2</th>\n",
       "      <td>2</td>\n",
       "      <td>770</td>\n",
       "      <td>10000</td>\n",
       "      <td>1</td>\n",
       "      <td>770</td>\n",
       "      <td>0</td>\n",
       "      <td>180000.0</td>\n",
       "    </tr>\n",
       "    <tr>\n",
       "      <th>3</th>\n",
       "      <td>4</td>\n",
       "      <td>1960</td>\n",
       "      <td>5000</td>\n",
       "      <td>1</td>\n",
       "      <td>1050</td>\n",
       "      <td>910</td>\n",
       "      <td>604000.0</td>\n",
       "    </tr>\n",
       "    <tr>\n",
       "      <th>4</th>\n",
       "      <td>3</td>\n",
       "      <td>1680</td>\n",
       "      <td>8080</td>\n",
       "      <td>1</td>\n",
       "      <td>1680</td>\n",
       "      <td>0</td>\n",
       "      <td>510000.0</td>\n",
       "    </tr>\n",
       "    <tr>\n",
       "      <th>5</th>\n",
       "      <td>4</td>\n",
       "      <td>5420</td>\n",
       "      <td>101930</td>\n",
       "      <td>1</td>\n",
       "      <td>3890</td>\n",
       "      <td>1530</td>\n",
       "      <td>1230000.0</td>\n",
       "    </tr>\n",
       "    <tr>\n",
       "      <th>6</th>\n",
       "      <td>3</td>\n",
       "      <td>1715</td>\n",
       "      <td>6819</td>\n",
       "      <td>2</td>\n",
       "      <td>1715</td>\n",
       "      <td>0</td>\n",
       "      <td>257500.0</td>\n",
       "    </tr>\n",
       "    <tr>\n",
       "      <th>7</th>\n",
       "      <td>3</td>\n",
       "      <td>1060</td>\n",
       "      <td>9711</td>\n",
       "      <td>1</td>\n",
       "      <td>1060</td>\n",
       "      <td>0</td>\n",
       "      <td>291850.0</td>\n",
       "    </tr>\n",
       "    <tr>\n",
       "      <th>8</th>\n",
       "      <td>3</td>\n",
       "      <td>1780</td>\n",
       "      <td>7470</td>\n",
       "      <td>1</td>\n",
       "      <td>1050</td>\n",
       "      <td>730</td>\n",
       "      <td>229500.0</td>\n",
       "    </tr>\n",
       "    <tr>\n",
       "      <th>9</th>\n",
       "      <td>3</td>\n",
       "      <td>1890</td>\n",
       "      <td>6560</td>\n",
       "      <td>2</td>\n",
       "      <td>1890</td>\n",
       "      <td>0</td>\n",
       "      <td>323000.0</td>\n",
       "    </tr>\n",
       "  </tbody>\n",
       "</table>\n",
       "</div>"
      ],
      "text/plain": [
       "   bedrooms  sqft_living  sqft_lot  floors  sqft_above  sqft_basement  \\\n",
       "0         3         1180      5650       1        1180              0   \n",
       "1         3         2570      7242       2        2170            400   \n",
       "2         2          770     10000       1         770              0   \n",
       "3         4         1960      5000       1        1050            910   \n",
       "4         3         1680      8080       1        1680              0   \n",
       "5         4         5420    101930       1        3890           1530   \n",
       "6         3         1715      6819       2        1715              0   \n",
       "7         3         1060      9711       1        1060              0   \n",
       "8         3         1780      7470       1        1050            730   \n",
       "9         3         1890      6560       2        1890              0   \n",
       "\n",
       "       price  \n",
       "0   221900.0  \n",
       "1   538000.0  \n",
       "2   180000.0  \n",
       "3   604000.0  \n",
       "4   510000.0  \n",
       "5  1230000.0  \n",
       "6   257500.0  \n",
       "7   291850.0  \n",
       "8   229500.0  \n",
       "9   323000.0  "
      ]
     },
     "execution_count": 39,
     "metadata": {},
     "output_type": "execute_result"
    }
   ],
   "source": [
    "# Drop non-informative columns, The 'id' column\n",
    "df.drop('id', inplace = True,axis=1)\n",
    "df.head(10)"
   ]
  },
  {
   "cell_type": "code",
   "execution_count": 40,
   "id": "4350ff01",
   "metadata": {},
   "outputs": [
    {
     "data": {
      "text/plain": [
       "(999, 7)"
      ]
     },
     "execution_count": 40,
     "metadata": {},
     "output_type": "execute_result"
    }
   ],
   "source": [
    "df.shape"
   ]
  },
  {
   "cell_type": "markdown",
   "id": "e71543ac",
   "metadata": {},
   "source": [
    "## 2) Data Exploration\n",
    "Firstly, explore descriptive data."
   ]
  },
  {
   "cell_type": "code",
   "execution_count": 41,
   "id": "ddd1276f",
   "metadata": {},
   "outputs": [
    {
     "data": {
      "text/html": [
       "<div>\n",
       "<style scoped>\n",
       "    .dataframe tbody tr th:only-of-type {\n",
       "        vertical-align: middle;\n",
       "    }\n",
       "\n",
       "    .dataframe tbody tr th {\n",
       "        vertical-align: top;\n",
       "    }\n",
       "\n",
       "    .dataframe thead th {\n",
       "        text-align: right;\n",
       "    }\n",
       "</style>\n",
       "<table border=\"1\" class=\"dataframe\">\n",
       "  <thead>\n",
       "    <tr style=\"text-align: right;\">\n",
       "      <th></th>\n",
       "      <th>bedrooms</th>\n",
       "      <th>sqft_living</th>\n",
       "      <th>sqft_lot</th>\n",
       "      <th>floors</th>\n",
       "      <th>sqft_above</th>\n",
       "      <th>sqft_basement</th>\n",
       "      <th>price</th>\n",
       "    </tr>\n",
       "  </thead>\n",
       "  <tbody>\n",
       "    <tr>\n",
       "      <th>count</th>\n",
       "      <td>999.000000</td>\n",
       "      <td>999.000000</td>\n",
       "      <td>999.000000</td>\n",
       "      <td>999.000000</td>\n",
       "      <td>999.000000</td>\n",
       "      <td>999.000000</td>\n",
       "      <td>9.990000e+02</td>\n",
       "    </tr>\n",
       "    <tr>\n",
       "      <th>mean</th>\n",
       "      <td>3.349349</td>\n",
       "      <td>2051.397397</td>\n",
       "      <td>14707.242242</td>\n",
       "      <td>1.397397</td>\n",
       "      <td>1750.233233</td>\n",
       "      <td>301.164164</td>\n",
       "      <td>5.207145e+05</td>\n",
       "    </tr>\n",
       "    <tr>\n",
       "      <th>std</th>\n",
       "      <td>0.852367</td>\n",
       "      <td>888.351113</td>\n",
       "      <td>28975.077254</td>\n",
       "      <td>0.527057</td>\n",
       "      <td>790.466905</td>\n",
       "      <td>451.023402</td>\n",
       "      <td>3.397491e+05</td>\n",
       "    </tr>\n",
       "    <tr>\n",
       "      <th>min</th>\n",
       "      <td>0.000000</td>\n",
       "      <td>380.000000</td>\n",
       "      <td>649.000000</td>\n",
       "      <td>1.000000</td>\n",
       "      <td>380.000000</td>\n",
       "      <td>0.000000</td>\n",
       "      <td>8.000000e+04</td>\n",
       "    </tr>\n",
       "    <tr>\n",
       "      <th>25%</th>\n",
       "      <td>3.000000</td>\n",
       "      <td>1405.000000</td>\n",
       "      <td>5419.000000</td>\n",
       "      <td>1.000000</td>\n",
       "      <td>1190.000000</td>\n",
       "      <td>0.000000</td>\n",
       "      <td>3.098000e+05</td>\n",
       "    </tr>\n",
       "    <tr>\n",
       "      <th>50%</th>\n",
       "      <td>3.000000</td>\n",
       "      <td>1900.000000</td>\n",
       "      <td>8040.000000</td>\n",
       "      <td>1.000000</td>\n",
       "      <td>1540.000000</td>\n",
       "      <td>0.000000</td>\n",
       "      <td>4.350000e+05</td>\n",
       "    </tr>\n",
       "    <tr>\n",
       "      <th>75%</th>\n",
       "      <td>4.000000</td>\n",
       "      <td>2475.000000</td>\n",
       "      <td>11508.500000</td>\n",
       "      <td>2.000000</td>\n",
       "      <td>2135.000000</td>\n",
       "      <td>580.000000</td>\n",
       "      <td>6.344625e+05</td>\n",
       "    </tr>\n",
       "    <tr>\n",
       "      <th>max</th>\n",
       "      <td>7.000000</td>\n",
       "      <td>6070.000000</td>\n",
       "      <td>315374.000000</td>\n",
       "      <td>3.000000</td>\n",
       "      <td>6070.000000</td>\n",
       "      <td>2060.000000</td>\n",
       "      <td>3.080000e+06</td>\n",
       "    </tr>\n",
       "  </tbody>\n",
       "</table>\n",
       "</div>"
      ],
      "text/plain": [
       "         bedrooms  sqft_living       sqft_lot      floors   sqft_above  \\\n",
       "count  999.000000   999.000000     999.000000  999.000000   999.000000   \n",
       "mean     3.349349  2051.397397   14707.242242    1.397397  1750.233233   \n",
       "std      0.852367   888.351113   28975.077254    0.527057   790.466905   \n",
       "min      0.000000   380.000000     649.000000    1.000000   380.000000   \n",
       "25%      3.000000  1405.000000    5419.000000    1.000000  1190.000000   \n",
       "50%      3.000000  1900.000000    8040.000000    1.000000  1540.000000   \n",
       "75%      4.000000  2475.000000   11508.500000    2.000000  2135.000000   \n",
       "max      7.000000  6070.000000  315374.000000    3.000000  6070.000000   \n",
       "\n",
       "       sqft_basement         price  \n",
       "count     999.000000  9.990000e+02  \n",
       "mean      301.164164  5.207145e+05  \n",
       "std       451.023402  3.397491e+05  \n",
       "min         0.000000  8.000000e+04  \n",
       "25%         0.000000  3.098000e+05  \n",
       "50%         0.000000  4.350000e+05  \n",
       "75%       580.000000  6.344625e+05  \n",
       "max      2060.000000  3.080000e+06  "
      ]
     },
     "execution_count": 41,
     "metadata": {},
     "output_type": "execute_result"
    }
   ],
   "source": [
    "# Summarize the data\n",
    "df.describe()"
   ]
  },
  {
   "cell_type": "code",
   "execution_count": 42,
   "id": "219c42e3",
   "metadata": {},
   "outputs": [
    {
     "data": {
      "text/plain": [
       "Index(['bedrooms', 'sqft_living', 'sqft_lot', 'floors', 'sqft_above',\n",
       "       'sqft_basement', 'price'],\n",
       "      dtype='object')"
      ]
     },
     "execution_count": 42,
     "metadata": {},
     "output_type": "execute_result"
    }
   ],
   "source": [
    "# To print all the column name.\n",
    "df.columns"
   ]
  },
  {
   "cell_type": "code",
   "execution_count": 43,
   "id": "bb7377d9",
   "metadata": {},
   "outputs": [
    {
     "data": {
      "text/plain": [
       "bedrooms         0\n",
       "sqft_living      0\n",
       "sqft_lot         0\n",
       "floors           0\n",
       "sqft_above       0\n",
       "sqft_basement    0\n",
       "price            0\n",
       "dtype: int64"
      ]
     },
     "execution_count": 43,
     "metadata": {},
     "output_type": "execute_result"
    }
   ],
   "source": [
    "# How many missing values are there in each column?\n",
    "df.isna().sum()"
   ]
  },
  {
   "cell_type": "code",
   "execution_count": 44,
   "id": "ed0a967b",
   "metadata": {},
   "outputs": [
    {
     "data": {
      "text/plain": [
       "bedrooms         0\n",
       "sqft_living      0\n",
       "sqft_lot         0\n",
       "floors           0\n",
       "sqft_above       0\n",
       "sqft_basement    0\n",
       "price            0\n",
       "dtype: int64"
      ]
     },
     "execution_count": 44,
     "metadata": {},
     "output_type": "execute_result"
    }
   ],
   "source": [
    "# Whic rows have misisng data points?\n",
    "# df.isnull().any(axis=1)\n",
    "df.isnull().sum()"
   ]
  },
  {
   "cell_type": "code",
   "execution_count": 45,
   "id": "77ebdfcb",
   "metadata": {},
   "outputs": [
    {
     "data": {
      "text/plain": [
       "bedrooms           1\n",
       "sqft_living        0\n",
       "sqft_lot           0\n",
       "floors             0\n",
       "sqft_above         0\n",
       "sqft_basement    598\n",
       "price              0\n",
       "dtype: int64"
      ]
     },
     "execution_count": 45,
     "metadata": {},
     "output_type": "execute_result"
    }
   ],
   "source": [
    "# showing the number of zeros in each column. \n",
    "# sqft_basement = 0 : It is normal for some house to have sqft_basement = 0. This indicates that that house might do not have basement.\n",
    "# Bedrooms = 0 : In this case, this can be common in certain types of properties like studio room. Hence, 0 value in 'bedrooms' will be left as it is.\n",
    "zero = (df == 0).sum()\n",
    "zero"
   ]
  },
  {
   "cell_type": "code",
   "execution_count": 46,
   "id": "f34f166b",
   "metadata": {},
   "outputs": [
    {
     "data": {
      "text/plain": [
       "(999, 7)"
      ]
     },
     "execution_count": 46,
     "metadata": {},
     "output_type": "execute_result"
    }
   ],
   "source": [
    "# Shape of the dataset.\n",
    "df.shape"
   ]
  },
  {
   "cell_type": "code",
   "execution_count": 47,
   "id": "4334bce5",
   "metadata": {},
   "outputs": [
    {
     "name": "stdout",
     "output_type": "stream",
     "text": [
      "<class 'pandas.core.frame.DataFrame'>\n",
      "RangeIndex: 999 entries, 0 to 998\n",
      "Data columns (total 7 columns):\n",
      " #   Column         Non-Null Count  Dtype  \n",
      "---  ------         --------------  -----  \n",
      " 0   bedrooms       999 non-null    int64  \n",
      " 1   sqft_living    999 non-null    int64  \n",
      " 2   sqft_lot       999 non-null    int64  \n",
      " 3   floors         999 non-null    int64  \n",
      " 4   sqft_above     999 non-null    int64  \n",
      " 5   sqft_basement  999 non-null    int64  \n",
      " 6   price          999 non-null    float64\n",
      "dtypes: float64(1), int64(6)\n",
      "memory usage: 54.8 KB\n"
     ]
    }
   ],
   "source": [
    "df.info()"
   ]
  },
  {
   "cell_type": "code",
   "execution_count": 48,
   "id": "61e91d41",
   "metadata": {},
   "outputs": [
    {
     "data": {
      "text/html": [
       "<div>\n",
       "<style scoped>\n",
       "    .dataframe tbody tr th:only-of-type {\n",
       "        vertical-align: middle;\n",
       "    }\n",
       "\n",
       "    .dataframe tbody tr th {\n",
       "        vertical-align: top;\n",
       "    }\n",
       "\n",
       "    .dataframe thead th {\n",
       "        text-align: right;\n",
       "    }\n",
       "</style>\n",
       "<table border=\"1\" class=\"dataframe\">\n",
       "  <thead>\n",
       "    <tr style=\"text-align: right;\">\n",
       "      <th></th>\n",
       "      <th>count</th>\n",
       "      <th>mean</th>\n",
       "      <th>std</th>\n",
       "      <th>min</th>\n",
       "      <th>25%</th>\n",
       "      <th>50%</th>\n",
       "      <th>75%</th>\n",
       "      <th>max</th>\n",
       "    </tr>\n",
       "    <tr>\n",
       "      <th>sqft_basement</th>\n",
       "      <th></th>\n",
       "      <th></th>\n",
       "      <th></th>\n",
       "      <th></th>\n",
       "      <th></th>\n",
       "      <th></th>\n",
       "      <th></th>\n",
       "      <th></th>\n",
       "    </tr>\n",
       "  </thead>\n",
       "  <tbody>\n",
       "    <tr>\n",
       "      <th>0</th>\n",
       "      <td>598.0</td>\n",
       "      <td>4.615237e+05</td>\n",
       "      <td>2.583386e+05</td>\n",
       "      <td>80000.0</td>\n",
       "      <td>283212.5</td>\n",
       "      <td>386350.0</td>\n",
       "      <td>563750.0</td>\n",
       "      <td>2130000.0</td>\n",
       "    </tr>\n",
       "    <tr>\n",
       "      <th>50</th>\n",
       "      <td>2.0</td>\n",
       "      <td>4.269440e+05</td>\n",
       "      <td>1.528143e+05</td>\n",
       "      <td>318888.0</td>\n",
       "      <td>372916.0</td>\n",
       "      <td>426944.0</td>\n",
       "      <td>480972.0</td>\n",
       "      <td>535000.0</td>\n",
       "    </tr>\n",
       "    <tr>\n",
       "      <th>60</th>\n",
       "      <td>1.0</td>\n",
       "      <td>2.000000e+05</td>\n",
       "      <td>NaN</td>\n",
       "      <td>200000.0</td>\n",
       "      <td>200000.0</td>\n",
       "      <td>200000.0</td>\n",
       "      <td>200000.0</td>\n",
       "      <td>200000.0</td>\n",
       "    </tr>\n",
       "    <tr>\n",
       "      <th>120</th>\n",
       "      <td>3.0</td>\n",
       "      <td>4.981667e+05</td>\n",
       "      <td>6.786076e+04</td>\n",
       "      <td>420000.0</td>\n",
       "      <td>476250.0</td>\n",
       "      <td>532500.0</td>\n",
       "      <td>537250.0</td>\n",
       "      <td>542000.0</td>\n",
       "    </tr>\n",
       "    <tr>\n",
       "      <th>130</th>\n",
       "      <td>2.0</td>\n",
       "      <td>5.697500e+05</td>\n",
       "      <td>2.259206e+05</td>\n",
       "      <td>410000.0</td>\n",
       "      <td>489875.0</td>\n",
       "      <td>569750.0</td>\n",
       "      <td>649625.0</td>\n",
       "      <td>729500.0</td>\n",
       "    </tr>\n",
       "    <tr>\n",
       "      <th>...</th>\n",
       "      <td>...</td>\n",
       "      <td>...</td>\n",
       "      <td>...</td>\n",
       "      <td>...</td>\n",
       "      <td>...</td>\n",
       "      <td>...</td>\n",
       "      <td>...</td>\n",
       "      <td>...</td>\n",
       "    </tr>\n",
       "    <tr>\n",
       "      <th>1830</th>\n",
       "      <td>1.0</td>\n",
       "      <td>1.200000e+06</td>\n",
       "      <td>NaN</td>\n",
       "      <td>1200000.0</td>\n",
       "      <td>1200000.0</td>\n",
       "      <td>1200000.0</td>\n",
       "      <td>1200000.0</td>\n",
       "      <td>1200000.0</td>\n",
       "    </tr>\n",
       "    <tr>\n",
       "      <th>1900</th>\n",
       "      <td>1.0</td>\n",
       "      <td>9.300000e+05</td>\n",
       "      <td>NaN</td>\n",
       "      <td>930000.0</td>\n",
       "      <td>930000.0</td>\n",
       "      <td>930000.0</td>\n",
       "      <td>930000.0</td>\n",
       "      <td>930000.0</td>\n",
       "    </tr>\n",
       "    <tr>\n",
       "      <th>1950</th>\n",
       "      <td>2.0</td>\n",
       "      <td>2.075000e+06</td>\n",
       "      <td>1.421285e+06</td>\n",
       "      <td>1070000.0</td>\n",
       "      <td>1572500.0</td>\n",
       "      <td>2075000.0</td>\n",
       "      <td>2577500.0</td>\n",
       "      <td>3080000.0</td>\n",
       "    </tr>\n",
       "    <tr>\n",
       "      <th>2000</th>\n",
       "      <td>1.0</td>\n",
       "      <td>1.100000e+06</td>\n",
       "      <td>NaN</td>\n",
       "      <td>1100000.0</td>\n",
       "      <td>1100000.0</td>\n",
       "      <td>1100000.0</td>\n",
       "      <td>1100000.0</td>\n",
       "      <td>1100000.0</td>\n",
       "    </tr>\n",
       "    <tr>\n",
       "      <th>2060</th>\n",
       "      <td>1.0</td>\n",
       "      <td>4.720000e+05</td>\n",
       "      <td>NaN</td>\n",
       "      <td>472000.0</td>\n",
       "      <td>472000.0</td>\n",
       "      <td>472000.0</td>\n",
       "      <td>472000.0</td>\n",
       "      <td>472000.0</td>\n",
       "    </tr>\n",
       "  </tbody>\n",
       "</table>\n",
       "<p>140 rows × 8 columns</p>\n",
       "</div>"
      ],
      "text/plain": [
       "               count          mean           std        min        25%  \\\n",
       "sqft_basement                                                            \n",
       "0              598.0  4.615237e+05  2.583386e+05    80000.0   283212.5   \n",
       "50               2.0  4.269440e+05  1.528143e+05   318888.0   372916.0   \n",
       "60               1.0  2.000000e+05           NaN   200000.0   200000.0   \n",
       "120              3.0  4.981667e+05  6.786076e+04   420000.0   476250.0   \n",
       "130              2.0  5.697500e+05  2.259206e+05   410000.0   489875.0   \n",
       "...              ...           ...           ...        ...        ...   \n",
       "1830             1.0  1.200000e+06           NaN  1200000.0  1200000.0   \n",
       "1900             1.0  9.300000e+05           NaN   930000.0   930000.0   \n",
       "1950             2.0  2.075000e+06  1.421285e+06  1070000.0  1572500.0   \n",
       "2000             1.0  1.100000e+06           NaN  1100000.0  1100000.0   \n",
       "2060             1.0  4.720000e+05           NaN   472000.0   472000.0   \n",
       "\n",
       "                     50%        75%        max  \n",
       "sqft_basement                                   \n",
       "0               386350.0   563750.0  2130000.0  \n",
       "50              426944.0   480972.0   535000.0  \n",
       "60              200000.0   200000.0   200000.0  \n",
       "120             532500.0   537250.0   542000.0  \n",
       "130             569750.0   649625.0   729500.0  \n",
       "...                  ...        ...        ...  \n",
       "1830           1200000.0  1200000.0  1200000.0  \n",
       "1900            930000.0   930000.0   930000.0  \n",
       "1950           2075000.0  2577500.0  3080000.0  \n",
       "2000           1100000.0  1100000.0  1100000.0  \n",
       "2060            472000.0   472000.0   472000.0  \n",
       "\n",
       "[140 rows x 8 columns]"
      ]
     },
     "execution_count": 48,
     "metadata": {},
     "output_type": "execute_result"
    }
   ],
   "source": [
    "# Analyzing the impact of having a basement on the price\n",
    "df.groupby('sqft_basement')['price'].describe()"
   ]
  },
  {
   "cell_type": "code",
   "execution_count": 49,
   "id": "f4fc32de",
   "metadata": {},
   "outputs": [
    {
     "data": {
      "image/png": "[encoded data removed]",
      "text/plain": [
       "<Figure size 1500x1000 with 9 Axes>"
      ]
     },
     "metadata": {},
     "output_type": "display_data"
    }
   ],
   "source": [
    "# Histogram to understand the distribution of data\n",
    "df.hist(bins=30, figsize=(15,10))\n",
    "plt.show()"
   ]
  },
  {
   "cell_type": "markdown",
   "id": "615fe2b7",
   "metadata": {},
   "source": [
    "#### Plot bedroom features against the price, to see how linear their relationship is:"
   ]
  },
  {
   "cell_type": "code",
   "execution_count": 50,
   "id": "a4bfd911",
   "metadata": {},
   "outputs": [
    {
     "data": {
      "image/png": "[encoded data removed]",
      "text/plain": [
       "<Figure size 640x480 with 1 Axes>"
      ]
     },
     "metadata": {},
     "output_type": "display_data"
    },
    {
     "name": "stdout",
     "output_type": "stream",
     "text": [
      "Slope (Price increase per bedroom): 122323.30\n"
     ]
    }
   ],
   "source": [
    "# Linear regression using numpy's polyfit\n",
    "slope, intercept = np.polyfit(df['bedrooms'], df['price'], 1)\n",
    "\n",
    "# Scatter plot\n",
    "plt.scatter(df['bedrooms'], df['price'], color='blue', label='Data points')\n",
    "plt.plot(df['bedrooms'], slope*np.array(df['bedrooms']) + intercept, color='red', label='Linear Regression')\n",
    "plt.xlabel('Bedrooms')\n",
    "plt.ylabel('Price')\n",
    "plt.legend()\n",
    "plt.title('Linear Regression of Price vs. Bedrooms')\n",
    "plt.show()\n",
    "\n",
    "print(f\"Slope (Price increase per bedroom): {slope:.2f}\")"
   ]
  },
  {
   "cell_type": "markdown",
   "id": "d4ceb568",
   "metadata": {},
   "source": [
    "The provided plot and code depict a linear regression analysis between the number of bedrooms in a house and its price. \n",
    "   - The value provided as `Slope (Price increase per bedroom): 122232.30` suggests that, on average, for each additional bedroom in a house, its price increases by $122,232.30."
   ]
  },
  {
   "cell_type": "markdown",
   "id": "9c5bce6f",
   "metadata": {},
   "source": [
    "## 3) Creating train and test dataset\n",
    "After cleaning the dataset, the next step is to split the data into segments for traning and testing, also no as split validation. The ratio of two splits is 80/20"
   ]
  },
  {
   "cell_type": "code",
   "execution_count": 51,
   "id": "abd926ad",
   "metadata": {},
   "outputs": [
    {
     "data": {
      "text/plain": [
       "Index(['bedrooms', 'sqft_living', 'sqft_lot', 'floors', 'sqft_above',\n",
       "       'sqft_basement', 'price'],\n",
       "      dtype='object')"
      ]
     },
     "execution_count": 51,
     "metadata": {},
     "output_type": "execute_result"
    }
   ],
   "source": [
    "df.columns"
   ]
  },
  {
   "cell_type": "code",
   "execution_count": 52,
   "id": "cc29c5a1",
   "metadata": {},
   "outputs": [],
   "source": [
    "X = df.drop('price', axis = 1)\n",
    "y = df['price']"
   ]
  },
  {
   "cell_type": "code",
   "execution_count": 53,
   "id": "27f7ef07",
   "metadata": {},
   "outputs": [
    {
     "name": "stdout",
     "output_type": "stream",
     "text": [
      "(999, 6)\n",
      "(999,)\n"
     ]
    }
   ],
   "source": [
    "print(X.shape)\n",
    "print(y.shape)"
   ]
  },
  {
   "cell_type": "code",
   "execution_count": 54,
   "id": "d3d37efe",
   "metadata": {},
   "outputs": [],
   "source": [
    "#Note: Randomness is often use to improve the generalization of models and avoid overlifting. \n",
    "# By setting a fix random state, you can assure that the same sequence of random numbers that will generated everytime you run algorithm.\n",
    "# A common rule of thumb is o use a random_state that is at least 42 or larger. \n",
    "# This is because 42 is the answer to ultimate question of life. \n",
    "# The universe and everything (according to Douglas Adams)"
   ]
  },
  {
   "cell_type": "code",
   "execution_count": 55,
   "id": "7743f93f",
   "metadata": {},
   "outputs": [
    {
     "name": "stdout",
     "output_type": "stream",
     "text": [
      "Train set: (799, 6) (799,)\n",
      "Test set: (200, 6) (200,)\n"
     ]
    }
   ],
   "source": [
    "X_train, X_test, y_train, y_test = train_test_split(X,y, test_size=0.2, random_state=42)\n",
    "print('Train set:', X_train.shape, y_train.shape)\n",
    "print('Test set:', X_test.shape, y_test.shape)"
   ]
  },
  {
   "cell_type": "code",
   "execution_count": 56,
   "id": "b3a65bba",
   "metadata": {},
   "outputs": [],
   "source": [
    "# This is a step in preparing data for a regression model, particulary the hosuing dataset provided, variables like\n",
    "# sqft_living, 'sqft_lot', 'sqft_above', and 'sqft_basement' could have a wide range of values, potentially\n",
    "# spanning several orders of magnitued which can skew the regresion model.\n",
    "\n",
    "from sklearn.preprocessing import MinMaxScaler\n",
    "\n",
    "# Initialize a scaler, then apply it to the features.\n",
    "scaler = MinMaxScaler()\n",
    "X_train = scaler.fit_transform(X_train)\n",
    "X_test = scaler.transform(X_test)"
   ]
  },
  {
   "cell_type": "markdown",
   "id": "9e8ab108",
   "metadata": {},
   "source": [
    "# 4) Implement algorithms model"
   ]
  },
  {
   "cell_type": "markdown",
   "id": "3aa7c229",
   "metadata": {},
   "source": [
    "## Multi Linear Regression\n"
   ]
  },
  {
   "cell_type": "code",
   "execution_count": 57,
   "id": "31a68e57",
   "metadata": {},
   "outputs": [
    {
     "data": {
      "text/html": [
       "<style>#sk-container-id-5 {color: black;}#sk-container-id-5 pre{padding: 0;}#sk-container-id-5 div.sk-toggleable {background-color: white;}#sk-container-id-5 label.sk-toggleable__label {cursor: pointer;display: block;width: 100%;margin-bottom: 0;padding: 0.3em;box-sizing: border-box;text-align: center;}#sk-container-id-5 label.sk-toggleable__label-arrow:before {content: \"▸\";float: left;margin-right: 0.25em;color: #696969;}#sk-container-id-5 label.sk-toggleable__label-arrow:hover:before {color: black;}#sk-container-id-5 div.sk-estimator:hover label.sk-toggleable__label-arrow:before {color: black;}#sk-container-id-5 div.sk-toggleable__content {max-height: 0;max-width: 0;overflow: hidden;text-align: left;background-color: #f0f8ff;}#sk-container-id-5 div.sk-toggleable__content pre {margin: 0.2em;color: black;border-radius: 0.25em;background-color: #f0f8ff;}#sk-container-id-5 input.sk-toggleable__control:checked~div.sk-toggleable__content {max-height: 200px;max-width: 100%;overflow: auto;}#sk-container-id-5 input.sk-toggleable__control:checked~label.sk-toggleable__label-arrow:before {content: \"▾\";}#sk-container-id-5 div.sk-estimator input.sk-toggleable__control:checked~label.sk-toggleable__label {background-color: #d4ebff;}#sk-container-id-5 div.sk-label input.sk-toggleable__control:checked~label.sk-toggleable__label {background-color: #d4ebff;}#sk-container-id-5 input.sk-hidden--visually {border: 0;clip: rect(1px 1px 1px 1px);clip: rect(1px, 1px, 1px, 1px);height: 1px;margin: -1px;overflow: hidden;padding: 0;position: absolute;width: 1px;}#sk-container-id-5 div.sk-estimator {font-family: monospace;background-color: #f0f8ff;border: 1px dotted black;border-radius: 0.25em;box-sizing: border-box;margin-bottom: 0.5em;}#sk-container-id-5 div.sk-estimator:hover {background-color: #d4ebff;}#sk-container-id-5 div.sk-parallel-item::after {content: \"\";width: 100%;border-bottom: 1px solid gray;flex-grow: 1;}#sk-container-id-5 div.sk-label:hover label.sk-toggleable__label {background-color: #d4ebff;}#sk-container-id-5 div.sk-serial::before {content: \"\";position: absolute;border-left: 1px solid gray;box-sizing: border-box;top: 0;bottom: 0;left: 50%;z-index: 0;}#sk-container-id-5 div.sk-serial {display: flex;flex-direction: column;align-items: center;background-color: white;padding-right: 0.2em;padding-left: 0.2em;position: relative;}#sk-container-id-5 div.sk-item {position: relative;z-index: 1;}#sk-container-id-5 div.sk-parallel {display: flex;align-items: stretch;justify-content: center;background-color: white;position: relative;}#sk-container-id-5 div.sk-item::before, #sk-container-id-5 div.sk-parallel-item::before {content: \"\";position: absolute;border-left: 1px solid gray;box-sizing: border-box;top: 0;bottom: 0;left: 50%;z-index: -1;}#sk-container-id-5 div.sk-parallel-item {display: flex;flex-direction: column;z-index: 1;position: relative;background-color: white;}#sk-container-id-5 div.sk-parallel-item:first-child::after {align-self: flex-end;width: 50%;}#sk-container-id-5 div.sk-parallel-item:last-child::after {align-self: flex-start;width: 50%;}#sk-container-id-5 div.sk-parallel-item:only-child::after {width: 0;}#sk-container-id-5 div.sk-dashed-wrapped {border: 1px dashed gray;margin: 0 0.4em 0.5em 0.4em;box-sizing: border-box;padding-bottom: 0.4em;background-color: white;}#sk-container-id-5 div.sk-label label {font-family: monospace;font-weight: bold;display: inline-block;line-height: 1.2em;}#sk-container-id-5 div.sk-label-container {text-align: center;}#sk-container-id-5 div.sk-container {/* jupyter's `normalize.less` sets `[hidden] { display: none; }` but bootstrap.min.css set `[hidden] { display: none !important; }` so we also need the `!important` here to be able to override the default hidden behavior on the sphinx rendered scikit-learn.org. See: https://github.com/scikit-learn/scikit-learn/issues/21755 */display: inline-block !important;position: relative;}#sk-container-id-5 div.sk-text-repr-fallback {display: none;}</style><div id=\"sk-container-id-5\" class=\"sk-top-container\"><div class=\"sk-text-repr-fallback\"><pre>LinearRegression()</pre><b>In a Jupyter environment, please rerun this cell to show the HTML representation or trust the notebook. <br />On GitHub, the HTML representation is unable to render, please try loading this page with nbviewer.org.</b></div><div class=\"sk-container\" hidden><div class=\"sk-item\"><div class=\"sk-estimator sk-toggleable\"><input class=\"sk-toggleable__control sk-hidden--visually\" id=\"sk-estimator-id-5\" type=\"checkbox\" checked><label for=\"sk-estimator-id-5\" class=\"sk-toggleable__label sk-toggleable__label-arrow\">LinearRegression</label><div class=\"sk-toggleable__content\"><pre>LinearRegression()</pre></div></div></div></div></div>"
      ],
      "text/plain": [
       "LinearRegression()"
      ]
     },
     "execution_count": 57,
     "metadata": {},
     "output_type": "execute_result"
    }
   ],
   "source": [
    "# Create a linear regression model\n",
    "multiple_regression = linear_model.LinearRegression()\n",
    "\n",
    "# fitting the model\n",
    "multiple_regression.fit(X_train, y_train)\n"
   ]
  },
  {
   "cell_type": "code",
   "execution_count": 58,
   "id": "e9456604",
   "metadata": {},
   "outputs": [
    {
     "name": "stdout",
     "output_type": "stream",
     "text": [
      "Coefficients: [-392644.03310305  916086.67879463  -57338.74250767  -50553.1395744\n",
      "  781401.54000925  372018.6600431 ]\n",
      "\n",
      "Intercept: 211865.4825392302\n"
     ]
    }
   ],
   "source": [
    "print('Coefficients:', multiple_regression.coef_)\n",
    "print('')\n",
    "print('Intercept:', multiple_regression.intercept_)"
   ]
  },
  {
   "cell_type": "markdown",
   "id": "1d1a6500",
   "metadata": {},
   "source": [
    "### Prediction\n",
    "we use the predict() function t run the model on the X_train data nd evaluate its performance againts teh actual y_train data."
   ]
  },
  {
   "cell_type": "code",
   "execution_count": 59,
   "id": "962e81a1",
   "metadata": {},
   "outputs": [],
   "source": [
    "y_prediction_multiple_re = multiple_regression.predict(X_test)"
   ]
  },
  {
   "cell_type": "markdown",
   "id": "566e7a1b",
   "metadata": {},
   "source": [
    "### Evaluate the model with metrics\n"
   ]
  },
  {
   "cell_type": "code",
   "execution_count": 60,
   "id": "155bd114",
   "metadata": {},
   "outputs": [
    {
     "name": "stdout",
     "output_type": "stream",
     "text": [
      "Mean squared error: 47557042059.79\n",
      "Coefficient of determination(r2): 0.47\n"
     ]
    }
   ],
   "source": [
    "# The mean squared error\n",
    "print('Mean squared error: %.2f'\n",
    "     % mean_squared_error(y_test, y_prediction_multiple_re))\n",
    "\n",
    "print('Coefficient of determination(r2): %.2f'\n",
    "      % r2_score(y_test, y_prediction_multiple_re))\n"
   ]
  },
  {
   "cell_type": "markdown",
   "id": "bb587603",
   "metadata": {},
   "source": [
    "###  The evaluation matrix: \n",
    "\n",
    "In conclusion, The model seems to be of moderate quality. An R2 of 0.47 means the model is explaining about 47% of the variance in the in dependent variable that is predictable from the indepent varaibles but suggest there might be more complex underlying patterns in the data that the model is not capturing."
   ]
  },
  {
   "cell_type": "markdown",
   "id": "0ae3512c",
   "metadata": {},
   "source": [
    "## Desition Tree Regressor\n",
    "Note : numerical Data X0 <= 1 and X0 <= 2. Divided into group of the number of example.The objective is to reduce the variance for dependence variable. Broken down by categories for continous variables.\n",
    "Decision Tree -> Decision Nodes and leaf nodes."
   ]
  },
  {
   "cell_type": "markdown",
   "id": "9f751de8",
   "metadata": {},
   "source": [
    "## Setting up the Decision Tree"
   ]
  },
  {
   "cell_type": "code",
   "execution_count": 61,
   "id": "0a0656bc",
   "metadata": {},
   "outputs": [
    {
     "data": {
      "text/html": [
       "<style>#sk-container-id-6 {color: black;}#sk-container-id-6 pre{padding: 0;}#sk-container-id-6 div.sk-toggleable {background-color: white;}#sk-container-id-6 label.sk-toggleable__label {cursor: pointer;display: block;width: 100%;margin-bottom: 0;padding: 0.3em;box-sizing: border-box;text-align: center;}#sk-container-id-6 label.sk-toggleable__label-arrow:before {content: \"▸\";float: left;margin-right: 0.25em;color: #696969;}#sk-container-id-6 label.sk-toggleable__label-arrow:hover:before {color: black;}#sk-container-id-6 div.sk-estimator:hover label.sk-toggleable__label-arrow:before {color: black;}#sk-container-id-6 div.sk-toggleable__content {max-height: 0;max-width: 0;overflow: hidden;text-align: left;background-color: #f0f8ff;}#sk-container-id-6 div.sk-toggleable__content pre {margin: 0.2em;color: black;border-radius: 0.25em;background-color: #f0f8ff;}#sk-container-id-6 input.sk-toggleable__control:checked~div.sk-toggleable__content {max-height: 200px;max-width: 100%;overflow: auto;}#sk-container-id-6 input.sk-toggleable__control:checked~label.sk-toggleable__label-arrow:before {content: \"▾\";}#sk-container-id-6 div.sk-estimator input.sk-toggleable__control:checked~label.sk-toggleable__label {background-color: #d4ebff;}#sk-container-id-6 div.sk-label input.sk-toggleable__control:checked~label.sk-toggleable__label {background-color: #d4ebff;}#sk-container-id-6 input.sk-hidden--visually {border: 0;clip: rect(1px 1px 1px 1px);clip: rect(1px, 1px, 1px, 1px);height: 1px;margin: -1px;overflow: hidden;padding: 0;position: absolute;width: 1px;}#sk-container-id-6 div.sk-estimator {font-family: monospace;background-color: #f0f8ff;border: 1px dotted black;border-radius: 0.25em;box-sizing: border-box;margin-bottom: 0.5em;}#sk-container-id-6 div.sk-estimator:hover {background-color: #d4ebff;}#sk-container-id-6 div.sk-parallel-item::after {content: \"\";width: 100%;border-bottom: 1px solid gray;flex-grow: 1;}#sk-container-id-6 div.sk-label:hover label.sk-toggleable__label {background-color: #d4ebff;}#sk-container-id-6 div.sk-serial::before {content: \"\";position: absolute;border-left: 1px solid gray;box-sizing: border-box;top: 0;bottom: 0;left: 50%;z-index: 0;}#sk-container-id-6 div.sk-serial {display: flex;flex-direction: column;align-items: center;background-color: white;padding-right: 0.2em;padding-left: 0.2em;position: relative;}#sk-container-id-6 div.sk-item {position: relative;z-index: 1;}#sk-container-id-6 div.sk-parallel {display: flex;align-items: stretch;justify-content: center;background-color: white;position: relative;}#sk-container-id-6 div.sk-item::before, #sk-container-id-6 div.sk-parallel-item::before {content: \"\";position: absolute;border-left: 1px solid gray;box-sizing: border-box;top: 0;bottom: 0;left: 50%;z-index: -1;}#sk-container-id-6 div.sk-parallel-item {display: flex;flex-direction: column;z-index: 1;position: relative;background-color: white;}#sk-container-id-6 div.sk-parallel-item:first-child::after {align-self: flex-end;width: 50%;}#sk-container-id-6 div.sk-parallel-item:last-child::after {align-self: flex-start;width: 50%;}#sk-container-id-6 div.sk-parallel-item:only-child::after {width: 0;}#sk-container-id-6 div.sk-dashed-wrapped {border: 1px dashed gray;margin: 0 0.4em 0.5em 0.4em;box-sizing: border-box;padding-bottom: 0.4em;background-color: white;}#sk-container-id-6 div.sk-label label {font-family: monospace;font-weight: bold;display: inline-block;line-height: 1.2em;}#sk-container-id-6 div.sk-label-container {text-align: center;}#sk-container-id-6 div.sk-container {/* jupyter's `normalize.less` sets `[hidden] { display: none; }` but bootstrap.min.css set `[hidden] { display: none !important; }` so we also need the `!important` here to be able to override the default hidden behavior on the sphinx rendered scikit-learn.org. See: https://github.com/scikit-learn/scikit-learn/issues/21755 */display: inline-block !important;position: relative;}#sk-container-id-6 div.sk-text-repr-fallback {display: none;}</style><div id=\"sk-container-id-6\" class=\"sk-top-container\"><div class=\"sk-text-repr-fallback\"><pre>DecisionTreeRegressor(max_depth=3)</pre><b>In a Jupyter environment, please rerun this cell to show the HTML representation or trust the notebook. <br />On GitHub, the HTML representation is unable to render, please try loading this page with nbviewer.org.</b></div><div class=\"sk-container\" hidden><div class=\"sk-item\"><div class=\"sk-estimator sk-toggleable\"><input class=\"sk-toggleable__control sk-hidden--visually\" id=\"sk-estimator-id-6\" type=\"checkbox\" checked><label for=\"sk-estimator-id-6\" class=\"sk-toggleable__label sk-toggleable__label-arrow\">DecisionTreeRegressor</label><div class=\"sk-toggleable__content\"><pre>DecisionTreeRegressor(max_depth=3)</pre></div></div></div></div></div>"
      ],
      "text/plain": [
       "DecisionTreeRegressor(max_depth=3)"
      ]
     },
     "execution_count": 61,
     "metadata": {},
     "output_type": "execute_result"
    }
   ],
   "source": [
    "from sklearn.tree import DecisionTreeRegressor\n",
    "\n",
    "regressor = DecisionTreeRegressor(max_depth=3)\n",
    "regressor\n",
    "    "
   ]
  },
  {
   "cell_type": "code",
   "execution_count": 62,
   "id": "81583bce",
   "metadata": {},
   "outputs": [],
   "source": [
    "# Next we fit the data with the trianing features matrix X and training response vector y"
   ]
  },
  {
   "cell_type": "code",
   "execution_count": 63,
   "id": "e7f9c1dd",
   "metadata": {},
   "outputs": [
    {
     "data": {
      "text/html": [
       "<style>#sk-container-id-7 {color: black;}#sk-container-id-7 pre{padding: 0;}#sk-container-id-7 div.sk-toggleable {background-color: white;}#sk-container-id-7 label.sk-toggleable__label {cursor: pointer;display: block;width: 100%;margin-bottom: 0;padding: 0.3em;box-sizing: border-box;text-align: center;}#sk-container-id-7 label.sk-toggleable__label-arrow:before {content: \"▸\";float: left;margin-right: 0.25em;color: #696969;}#sk-container-id-7 label.sk-toggleable__label-arrow:hover:before {color: black;}#sk-container-id-7 div.sk-estimator:hover label.sk-toggleable__label-arrow:before {color: black;}#sk-container-id-7 div.sk-toggleable__content {max-height: 0;max-width: 0;overflow: hidden;text-align: left;background-color: #f0f8ff;}#sk-container-id-7 div.sk-toggleable__content pre {margin: 0.2em;color: black;border-radius: 0.25em;background-color: #f0f8ff;}#sk-container-id-7 input.sk-toggleable__control:checked~div.sk-toggleable__content {max-height: 200px;max-width: 100%;overflow: auto;}#sk-container-id-7 input.sk-toggleable__control:checked~label.sk-toggleable__label-arrow:before {content: \"▾\";}#sk-container-id-7 div.sk-estimator input.sk-toggleable__control:checked~label.sk-toggleable__label {background-color: #d4ebff;}#sk-container-id-7 div.sk-label input.sk-toggleable__control:checked~label.sk-toggleable__label {background-color: #d4ebff;}#sk-container-id-7 input.sk-hidden--visually {border: 0;clip: rect(1px 1px 1px 1px);clip: rect(1px, 1px, 1px, 1px);height: 1px;margin: -1px;overflow: hidden;padding: 0;position: absolute;width: 1px;}#sk-container-id-7 div.sk-estimator {font-family: monospace;background-color: #f0f8ff;border: 1px dotted black;border-radius: 0.25em;box-sizing: border-box;margin-bottom: 0.5em;}#sk-container-id-7 div.sk-estimator:hover {background-color: #d4ebff;}#sk-container-id-7 div.sk-parallel-item::after {content: \"\";width: 100%;border-bottom: 1px solid gray;flex-grow: 1;}#sk-container-id-7 div.sk-label:hover label.sk-toggleable__label {background-color: #d4ebff;}#sk-container-id-7 div.sk-serial::before {content: \"\";position: absolute;border-left: 1px solid gray;box-sizing: border-box;top: 0;bottom: 0;left: 50%;z-index: 0;}#sk-container-id-7 div.sk-serial {display: flex;flex-direction: column;align-items: center;background-color: white;padding-right: 0.2em;padding-left: 0.2em;position: relative;}#sk-container-id-7 div.sk-item {position: relative;z-index: 1;}#sk-container-id-7 div.sk-parallel {display: flex;align-items: stretch;justify-content: center;background-color: white;position: relative;}#sk-container-id-7 div.sk-item::before, #sk-container-id-7 div.sk-parallel-item::before {content: \"\";position: absolute;border-left: 1px solid gray;box-sizing: border-box;top: 0;bottom: 0;left: 50%;z-index: -1;}#sk-container-id-7 div.sk-parallel-item {display: flex;flex-direction: column;z-index: 1;position: relative;background-color: white;}#sk-container-id-7 div.sk-parallel-item:first-child::after {align-self: flex-end;width: 50%;}#sk-container-id-7 div.sk-parallel-item:last-child::after {align-self: flex-start;width: 50%;}#sk-container-id-7 div.sk-parallel-item:only-child::after {width: 0;}#sk-container-id-7 div.sk-dashed-wrapped {border: 1px dashed gray;margin: 0 0.4em 0.5em 0.4em;box-sizing: border-box;padding-bottom: 0.4em;background-color: white;}#sk-container-id-7 div.sk-label label {font-family: monospace;font-weight: bold;display: inline-block;line-height: 1.2em;}#sk-container-id-7 div.sk-label-container {text-align: center;}#sk-container-id-7 div.sk-container {/* jupyter's `normalize.less` sets `[hidden] { display: none; }` but bootstrap.min.css set `[hidden] { display: none !important; }` so we also need the `!important` here to be able to override the default hidden behavior on the sphinx rendered scikit-learn.org. See: https://github.com/scikit-learn/scikit-learn/issues/21755 */display: inline-block !important;position: relative;}#sk-container-id-7 div.sk-text-repr-fallback {display: none;}</style><div id=\"sk-container-id-7\" class=\"sk-top-container\"><div class=\"sk-text-repr-fallback\"><pre>DecisionTreeRegressor(max_depth=3)</pre><b>In a Jupyter environment, please rerun this cell to show the HTML representation or trust the notebook. <br />On GitHub, the HTML representation is unable to render, please try loading this page with nbviewer.org.</b></div><div class=\"sk-container\" hidden><div class=\"sk-item\"><div class=\"sk-estimator sk-toggleable\"><input class=\"sk-toggleable__control sk-hidden--visually\" id=\"sk-estimator-id-7\" type=\"checkbox\" checked><label for=\"sk-estimator-id-7\" class=\"sk-toggleable__label sk-toggleable__label-arrow\">DecisionTreeRegressor</label><div class=\"sk-toggleable__content\"><pre>DecisionTreeRegressor(max_depth=3)</pre></div></div></div></div></div>"
      ],
      "text/plain": [
       "DecisionTreeRegressor(max_depth=3)"
      ]
     },
     "execution_count": 63,
     "metadata": {},
     "output_type": "execute_result"
    }
   ],
   "source": [
    "regressor.fit(X_train, y_train)"
   ]
  },
  {
   "cell_type": "code",
   "execution_count": 64,
   "id": "74bcf6d7",
   "metadata": {},
   "outputs": [
    {
     "data": {
      "text/plain": [
       "(799, 6)"
      ]
     },
     "execution_count": 64,
     "metadata": {},
     "output_type": "execute_result"
    }
   ],
   "source": [
    "X_train.shape"
   ]
  },
  {
   "cell_type": "markdown",
   "id": "53575c01",
   "metadata": {},
   "source": [
    "## Prediction\n",
    "Make some predictions on the dataset and store in variables called predTree"
   ]
  },
  {
   "cell_type": "code",
   "execution_count": 65,
   "id": "65b8426b",
   "metadata": {},
   "outputs": [
    {
     "name": "stdout",
     "output_type": "stream",
     "text": [
      "[540905.90909091 350547.95170455 540905.90909091 853640.66176471\n",
      " 540905.90909091]\n",
      "453    691100.0\n",
      "793    249950.0\n",
      "209    464000.0\n",
      "309    665000.0\n",
      "740    360000.0\n",
      "Name: price, dtype: float64\n"
     ]
    }
   ],
   "source": [
    "predTree = regressor.predict(X_test)\n",
    "print(predTree [0:5])\n",
    "print(y_test [0:5])"
   ]
  },
  {
   "cell_type": "markdown",
   "id": "9247cf3b",
   "metadata": {},
   "source": [
    "## Evaluation\n",
    "Import metrics from sklearn and check the accuracy of our model."
   ]
  },
  {
   "cell_type": "code",
   "execution_count": 66,
   "id": "2f09d635",
   "metadata": {},
   "outputs": [
    {
     "name": "stdout",
     "output_type": "stream",
     "text": [
      "Decision Tree RMSE(Mean squared error): 223529.1389434086, \n",
      "Coefficient of Determination or R2: 0.4442357290841149\n"
     ]
    }
   ],
   "source": [
    "from sklearn import metrics\n",
    "\n",
    "tree_rmse = np.sqrt(mean_squared_error(y_test, predTree))\n",
    "tree_r2 = r2_score(y_test, predTree)\n",
    "\n",
    "\n",
    "print(f'Decision Tree RMSE(Mean squared error): {tree_rmse}, \\nCoefficient of Determination or R2: {tree_r2}')"
   ]
  },
  {
   "cell_type": "markdown",
   "id": "cc8c4d0a",
   "metadata": {},
   "source": [
    "###  The evaluation matrix: \n",
    "\n",
    "A values of 0.4442 means that the model explain about 42% of the variance in the target variable in the target varaible, which is generallly considerd low.\n",
    "\n",
    "In conclusion, based on the provided metrics, the decision tree model does not appear to be a good model for this dataset."
   ]
  },
  {
   "cell_type": "markdown",
   "id": "664e20fc",
   "metadata": {},
   "source": [
    "## Support Vector Regressor "
   ]
  },
  {
   "cell_type": "code",
   "execution_count": 67,
   "id": "25dd771c",
   "metadata": {},
   "outputs": [],
   "source": [
    "from sklearn.svm import SVR\n",
    "from sklearn.pipeline import make_pipeline\n",
    "from sklearn.preprocessing import StandardScaler\n",
    "import numpy as np"
   ]
  },
  {
   "cell_type": "code",
   "execution_count": 68,
   "id": "be3180d6",
   "metadata": {},
   "outputs": [
    {
     "data": {
      "text/html": [
       "<style>#sk-container-id-8 {color: black;}#sk-container-id-8 pre{padding: 0;}#sk-container-id-8 div.sk-toggleable {background-color: white;}#sk-container-id-8 label.sk-toggleable__label {cursor: pointer;display: block;width: 100%;margin-bottom: 0;padding: 0.3em;box-sizing: border-box;text-align: center;}#sk-container-id-8 label.sk-toggleable__label-arrow:before {content: \"▸\";float: left;margin-right: 0.25em;color: #696969;}#sk-container-id-8 label.sk-toggleable__label-arrow:hover:before {color: black;}#sk-container-id-8 div.sk-estimator:hover label.sk-toggleable__label-arrow:before {color: black;}#sk-container-id-8 div.sk-toggleable__content {max-height: 0;max-width: 0;overflow: hidden;text-align: left;background-color: #f0f8ff;}#sk-container-id-8 div.sk-toggleable__content pre {margin: 0.2em;color: black;border-radius: 0.25em;background-color: #f0f8ff;}#sk-container-id-8 input.sk-toggleable__control:checked~div.sk-toggleable__content {max-height: 200px;max-width: 100%;overflow: auto;}#sk-container-id-8 input.sk-toggleable__control:checked~label.sk-toggleable__label-arrow:before {content: \"▾\";}#sk-container-id-8 div.sk-estimator input.sk-toggleable__control:checked~label.sk-toggleable__label {background-color: #d4ebff;}#sk-container-id-8 div.sk-label input.sk-toggleable__control:checked~label.sk-toggleable__label {background-color: #d4ebff;}#sk-container-id-8 input.sk-hidden--visually {border: 0;clip: rect(1px 1px 1px 1px);clip: rect(1px, 1px, 1px, 1px);height: 1px;margin: -1px;overflow: hidden;padding: 0;position: absolute;width: 1px;}#sk-container-id-8 div.sk-estimator {font-family: monospace;background-color: #f0f8ff;border: 1px dotted black;border-radius: 0.25em;box-sizing: border-box;margin-bottom: 0.5em;}#sk-container-id-8 div.sk-estimator:hover {background-color: #d4ebff;}#sk-container-id-8 div.sk-parallel-item::after {content: \"\";width: 100%;border-bottom: 1px solid gray;flex-grow: 1;}#sk-container-id-8 div.sk-label:hover label.sk-toggleable__label {background-color: #d4ebff;}#sk-container-id-8 div.sk-serial::before {content: \"\";position: absolute;border-left: 1px solid gray;box-sizing: border-box;top: 0;bottom: 0;left: 50%;z-index: 0;}#sk-container-id-8 div.sk-serial {display: flex;flex-direction: column;align-items: center;background-color: white;padding-right: 0.2em;padding-left: 0.2em;position: relative;}#sk-container-id-8 div.sk-item {position: relative;z-index: 1;}#sk-container-id-8 div.sk-parallel {display: flex;align-items: stretch;justify-content: center;background-color: white;position: relative;}#sk-container-id-8 div.sk-item::before, #sk-container-id-8 div.sk-parallel-item::before {content: \"\";position: absolute;border-left: 1px solid gray;box-sizing: border-box;top: 0;bottom: 0;left: 50%;z-index: -1;}#sk-container-id-8 div.sk-parallel-item {display: flex;flex-direction: column;z-index: 1;position: relative;background-color: white;}#sk-container-id-8 div.sk-parallel-item:first-child::after {align-self: flex-end;width: 50%;}#sk-container-id-8 div.sk-parallel-item:last-child::after {align-self: flex-start;width: 50%;}#sk-container-id-8 div.sk-parallel-item:only-child::after {width: 0;}#sk-container-id-8 div.sk-dashed-wrapped {border: 1px dashed gray;margin: 0 0.4em 0.5em 0.4em;box-sizing: border-box;padding-bottom: 0.4em;background-color: white;}#sk-container-id-8 div.sk-label label {font-family: monospace;font-weight: bold;display: inline-block;line-height: 1.2em;}#sk-container-id-8 div.sk-label-container {text-align: center;}#sk-container-id-8 div.sk-container {/* jupyter's `normalize.less` sets `[hidden] { display: none; }` but bootstrap.min.css set `[hidden] { display: none !important; }` so we also need the `!important` here to be able to override the default hidden behavior on the sphinx rendered scikit-learn.org. See: https://github.com/scikit-learn/scikit-learn/issues/21755 */display: inline-block !important;position: relative;}#sk-container-id-8 div.sk-text-repr-fallback {display: none;}</style><div id=\"sk-container-id-8\" class=\"sk-top-container\"><div class=\"sk-text-repr-fallback\"><pre>SVR(kernel=&#x27;linear&#x27;)</pre><b>In a Jupyter environment, please rerun this cell to show the HTML representation or trust the notebook. <br />On GitHub, the HTML representation is unable to render, please try loading this page with nbviewer.org.</b></div><div class=\"sk-container\" hidden><div class=\"sk-item\"><div class=\"sk-estimator sk-toggleable\"><input class=\"sk-toggleable__control sk-hidden--visually\" id=\"sk-estimator-id-8\" type=\"checkbox\" checked><label for=\"sk-estimator-id-8\" class=\"sk-toggleable__label sk-toggleable__label-arrow\">SVR</label><div class=\"sk-toggleable__content\"><pre>SVR(kernel=&#x27;linear&#x27;)</pre></div></div></div></div></div>"
      ],
      "text/plain": [
       "SVR(kernel='linear')"
      ]
     },
     "execution_count": 68,
     "metadata": {},
     "output_type": "execute_result"
    }
   ],
   "source": [
    "regressor = SVR(kernel='linear')\n",
    "regressor.fit(X_train, y_train)"
   ]
  },
  {
   "cell_type": "code",
   "execution_count": 69,
   "id": "4d2e4f1f",
   "metadata": {},
   "outputs": [],
   "source": [
    "# Preditng the new result\n",
    "y_predSV = regressor.predict(X_test)\n",
    "# print(y_predSV)"
   ]
  },
  {
   "cell_type": "code",
   "execution_count": 70,
   "id": "c2234662",
   "metadata": {},
   "outputs": [
    {
     "name": "stdout",
     "output_type": "stream",
     "text": [
      "Mean Sqaure Error: 304345.28627713077\n",
      "Coefficient of Determination R2: -0.03028052948225035\n"
     ]
    }
   ],
   "source": [
    "from sklearn import metrics\n",
    "\n",
    "# Calculating the RMSE\n",
    "rmse = np.sqrt(mean_squared_error(y_test, y_predSV))\n",
    "print(f'Mean Sqaure Error: {rmse}')\n",
    "      \n",
    "# Calculating the R^2 score\n",
    "r2 = r2_score(y_test, y_predSV)\n",
    "print(f'Coefficient of Determination R2: {r2}')\n"
   ]
  },
  {
   "cell_type": "markdown",
   "id": "500b8acd",
   "metadata": {},
   "source": [
    "###  The evaluation matrix: \n",
    "\n",
    "The evaluation of model matrix shown that the model is not performing well:\n",
    "\n",
    "The R2 values produces -0.030 accuracy. If R2 value close to 1 indicates that the model explains a sifnificant proportion of the variance in the dependent variable. A negative R2 in this case, shown that model is performing worse than a simple model that always predicts the mean of the observed values. This is a clear indicate a poor model fit.\n",
    "\n",
    "Hence, it is can be said that the model is not good and is not fitting the data well. The choice of SVR with a linear kernel may not be the best fit fot this dataset."
   ]
  },
  {
   "cell_type": "markdown",
   "id": "21790dc2",
   "metadata": {},
   "source": [
    "# Conclusion: \n",
    "\n",
    "To point out which regression model is the most apperciate fit for predicting house prices, based on variables like bedroom, sqft_living(living space area), sqft_lot(land area), floors(number of house levels), sqft_above (area excluding the basement), and sqft_basement (basement area), we evaluate using two primary metrics: Root Mean Squared error (RMSE) and the Coefficient of Determination(R2).\n",
    "\n",
    "- Multilinear regression:\n",
    "    - Mean squared error: 47557042059.79\n",
    "    - Coefficient of determination R2: 0.47\n",
    "\n",
    "\n",
    "\n",
    "- Decision tree:\n",
    "    - Mean squared error: 223529.1389434086, \n",
    "    - Coefficient of Determination R2: 0.4442357290841149\n",
    "\n",
    "\n",
    "- SVR:\n",
    "    - Mean Sqaure Error: 304345.28627713077\n",
    "    - Coefficient of Determination R2: -0.03028052948225035\n",
    "\n",
    "From the data presented ,although multilinear regression has the highest R2 score, suggesting it might offer the best fit among the three for predicting house price based on the given variables. However, it is exceedingly high in RMSE of 47557042059.79 is much larger than price range. In contast, the decision tree model achieves about 0.44 or about 44% accuracy, explaining approximately 44% of the variance in house prices. Although, The RMSE falling within the range of the majority of house prices suggests that the decision tree model may not be a good fit, as the error is high relative to many of the house price values. Considering the large MSE for Multilinear Regression, the Decision Tree seems to be a better fit in terms of prediction error, even though its R2 is lower.\n",
    "\n",
    "The SVR model, with is negative R2, indicate it is performing worse than a simple mean prediction. \n",
    "\n",
    "In conclusion, while Decision tree model appears to be the most suitable among the evluated models but still below the often-considerd threshold, indicating the potential underfitting, exploring others modeling thecniques may show better results."
   ]
  },
  {
   "cell_type": "code",
   "execution_count": 71,
   "id": "e2818e45",
   "metadata": {},
   "outputs": [
    {
     "data": {
      "image/png": "[encoded data removed]",
      "text/plain": [
       "<Figure size 1000x600 with 1 Axes>"
      ]
     },
     "metadata": {},
     "output_type": "display_data"
    }
   ],
   "source": [
    "# Shows the distribution of house price The red dashed line represents the RMSE value. \n",
    "# If the RMSE line is within the range of the majority of house prices, then the RMSE might be considered high. \n",
    "\n",
    "import matplotlib.pyplot as plt\n",
    "\n",
    "# Plotting the histogram of house prices\n",
    "plt.figure(figsize=(10,6))\n",
    "plt.hist(df['price'], bins=50, alpha=0.7, color='blue', label='House Prices')\n",
    "plt.axvline(x=223529.1389434086, color='r', linestyle='dashed', linewidth=2, label='RMSE')\n",
    "plt.xlabel('House Price')\n",
    "plt.ylabel('Number of Houses')\n",
    "plt.legend()\n",
    "plt.title('Distribution of House Prices with RMSE of Decision Tree')\n",
    "plt.show()\n"
   ]
  },
  {
   "cell_type": "markdown",
   "id": "9b4ad98b",
   "metadata": {},
   "source": [
    "This histogram useful to compare house prices with the RMSE of the decision tree mode. The histogram shows that the RMSE (Red line) falls within the range of the majority of house prices, suggesting the error might be considered high for many of the house price predictions."
   ]
  }
 ],
 "metadata": {
  "kernelspec": {
   "display_name": "Python 3 (ipykernel)",
   "language": "python",
   "name": "python3"
  },
  "language_info": {
   "codemirror_mode": {
    "name": "ipython",
    "version": 3
   },
   "file_extension": ".py",
   "mimetype": "text/x-python",
   "name": "python",
   "nbconvert_exporter": "python",
   "pygments_lexer": "ipython3",
   "version": "3.11.4"
  }
 },
 "nbformat": 4,
 "nbformat_minor": 5
}
