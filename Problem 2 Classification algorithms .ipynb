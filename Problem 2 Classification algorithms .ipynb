{
 "cells": [
  {
   "cell_type": "markdown",
   "id": "48574f16",
   "metadata": {},
   "source": [
    "## Problem 2: Classification problem\n",
    "Note: Binary classification as trying to answer a yes/no question like classified emails either spam or not spam is an example of a binary classification problem.\n"
   ]
  },
  {
   "cell_type": "markdown",
   "id": "59587aa0",
   "metadata": {},
   "source": [
    "Using the Brain Cancer data set to fit classification models in order to classify whether a given\n",
    "brain cancer is diagnosed as “Meningioma”, “LG glioma”, “HG glioma”, or “Other”.\n",
    "Explore Polynomial regression, naive Bayes, and KNN models. Describe your findings. And\n",
    "using appropriate metrics to tell which is the best model.\n",
    "\n",
    "A data set consisting of survival times for patients diagnosed with brain cancer.\n",
    "\n",
    "sex: Factor with levels “Female” and “Male”\n",
    "\n",
    "diagnosis: Factor with levels “Meningioma”, “LG glioma”, “HG glioma”, and “Other”.\n",
    "\n",
    "loc: Location factor with levels “Infratentorial” and “Supratentorial”.\n",
    "\n",
    "ki: Karnofsky index.\n",
    "\n",
    "gtv: Gross tumor volume, in cubic centimeters.\n",
    "\n",
    "stereo: Stereotactic method factor with levels “SRS” and “SRT”.\n",
    "\n",
    "status: Whether the patient is still alive at the end of the study: 0=Yes, 1=No.\n",
    "\n",
    "time: Survival time, in months"
   ]
  },
  {
   "cell_type": "markdown",
   "id": "30801bf8",
   "metadata": {},
   "source": [
    "# Importing libraries"
   ]
  },
  {
   "cell_type": "code",
   "execution_count": 57,
   "id": "08822014",
   "metadata": {},
   "outputs": [],
   "source": [
    "import pandas as pd\n",
    "import numpy as np\n",
    "import seaborn as sns\n",
    "from sklearn.model_selection import train_test_split\n",
    "from sklearn.preprocessing import PolynomialFeatures, StandardScaler, LabelEncoder\n",
    "from sklearn.linear_model import LinearRegression\n",
    "from sklearn.metrics import accuracy_score\n",
    "from sklearn.metrics import classification_report, confusion_matrix"
   ]
  },
  {
   "cell_type": "markdown",
   "id": "c11355c5",
   "metadata": {},
   "source": [
    "## 1) Load the data"
   ]
  },
  {
   "cell_type": "code",
   "execution_count": 58,
   "id": "f9d021c6",
   "metadata": {},
   "outputs": [
    {
     "name": "stdout",
     "output_type": "stream",
     "text": [
      "Requirement already satisfied: ISLP in c:\\users\\bruker1\\anaconda3\\lib\\site-packages (0.3.21)\n",
      "Requirement already satisfied: numpy<1.25,>=1.7.1 in c:\\users\\bruker1\\anaconda3\\lib\\site-packages (from ISLP) (1.24.3)\n",
      "Requirement already satisfied: scipy>=0.9 in c:\\users\\bruker1\\anaconda3\\lib\\site-packages (from ISLP) (1.10.1)\n",
      "Requirement already satisfied: pandas<=1.9,>=0.20 in c:\\users\\bruker1\\anaconda3\\lib\\site-packages (from ISLP) (1.5.3)\n",
      "Requirement already satisfied: lxml in c:\\users\\bruker1\\anaconda3\\lib\\site-packages (from ISLP) (4.9.2)\n",
      "Requirement already satisfied: scikit-learn>=1.2 in c:\\users\\bruker1\\anaconda3\\lib\\site-packages (from ISLP) (1.3.0)\n",
      "Requirement already satisfied: joblib in c:\\users\\bruker1\\anaconda3\\lib\\site-packages (from ISLP) (1.2.0)\n",
      "Requirement already satisfied: statsmodels>=0.13 in c:\\users\\bruker1\\anaconda3\\lib\\site-packages (from ISLP) (0.14.0)\n",
      "Requirement already satisfied: lifelines in c:\\users\\bruker1\\anaconda3\\lib\\site-packages (from ISLP) (0.27.8)\n",
      "Requirement already satisfied: pygam in c:\\users\\bruker1\\anaconda3\\lib\\site-packages (from ISLP) (0.9.0)\n",
      "Requirement already satisfied: torch in c:\\users\\bruker1\\anaconda3\\lib\\site-packages (from ISLP) (2.0.1)\n",
      "Requirement already satisfied: pytorch-lightning in c:\\users\\bruker1\\anaconda3\\lib\\site-packages (from ISLP) (2.0.9.post0)\n",
      "Requirement already satisfied: torchmetrics in c:\\users\\bruker1\\anaconda3\\lib\\site-packages (from ISLP) (1.2.0)\n",
      "Requirement already satisfied: python-dateutil>=2.8.1 in c:\\users\\bruker1\\anaconda3\\lib\\site-packages (from pandas<=1.9,>=0.20->ISLP) (2.8.2)\n",
      "Requirement already satisfied: pytz>=2020.1 in c:\\users\\bruker1\\anaconda3\\lib\\site-packages (from pandas<=1.9,>=0.20->ISLP) (2022.7)\n",
      "Requirement already satisfied: threadpoolctl>=2.0.0 in c:\\users\\bruker1\\anaconda3\\lib\\site-packages (from scikit-learn>=1.2->ISLP) (2.2.0)\n",
      "Requirement already satisfied: patsy>=0.5.2 in c:\\users\\bruker1\\anaconda3\\lib\\site-packages (from statsmodels>=0.13->ISLP) (0.5.3)\n",
      "Requirement already satisfied: packaging>=21.3 in c:\\users\\bruker1\\anaconda3\\lib\\site-packages (from statsmodels>=0.13->ISLP) (23.0)\n",
      "Requirement already satisfied: matplotlib>=3.0 in c:\\users\\bruker1\\anaconda3\\lib\\site-packages (from lifelines->ISLP) (3.7.1)\n",
      "Requirement already satisfied: autograd>=1.5 in c:\\users\\bruker1\\anaconda3\\lib\\site-packages (from lifelines->ISLP) (1.6.2)\n",
      "Requirement already satisfied: autograd-gamma>=0.3 in c:\\users\\bruker1\\anaconda3\\lib\\site-packages (from lifelines->ISLP) (0.5.0)\n",
      "Requirement already satisfied: formulaic>=0.2.2 in c:\\users\\bruker1\\anaconda3\\lib\\site-packages (from lifelines->ISLP) (0.6.6)\n",
      "Requirement already satisfied: progressbar2<5.0.0,>=4.2.0 in c:\\users\\bruker1\\anaconda3\\lib\\site-packages (from pygam->ISLP) (4.2.0)\n",
      "Requirement already satisfied: tqdm>=4.57.0 in c:\\users\\bruker1\\anaconda3\\lib\\site-packages (from pytorch-lightning->ISLP) (4.65.0)\n",
      "Requirement already satisfied: PyYAML>=5.4 in c:\\users\\bruker1\\anaconda3\\lib\\site-packages (from pytorch-lightning->ISLP) (6.0)\n",
      "Requirement already satisfied: fsspec[http]>2021.06.0 in c:\\users\\bruker1\\anaconda3\\lib\\site-packages (from pytorch-lightning->ISLP) (2023.3.0)\n",
      "Requirement already satisfied: typing-extensions>=4.0.0 in c:\\users\\bruker1\\anaconda3\\lib\\site-packages (from pytorch-lightning->ISLP) (4.7.1)\n",
      "Requirement already satisfied: lightning-utilities>=0.7.0 in c:\\users\\bruker1\\anaconda3\\lib\\site-packages (from pytorch-lightning->ISLP) (0.9.0)\n",
      "Requirement already satisfied: filelock in c:\\users\\bruker1\\anaconda3\\lib\\site-packages (from torch->ISLP) (3.12.3)\n",
      "Requirement already satisfied: sympy in c:\\users\\bruker1\\anaconda3\\lib\\site-packages (from torch->ISLP) (1.11.1)\n",
      "Requirement already satisfied: networkx in c:\\users\\bruker1\\anaconda3\\lib\\site-packages (from torch->ISLP) (3.1)\n",
      "Requirement already satisfied: jinja2 in c:\\users\\bruker1\\anaconda3\\lib\\site-packages (from torch->ISLP) (3.1.2)\n",
      "Requirement already satisfied: future>=0.15.2 in c:\\users\\bruker1\\anaconda3\\lib\\site-packages (from autograd>=1.5->lifelines->ISLP) (0.18.3)\n",
      "Requirement already satisfied: astor>=0.8 in c:\\users\\bruker1\\anaconda3\\lib\\site-packages (from formulaic>=0.2.2->lifelines->ISLP) (0.8.1)\n",
      "Requirement already satisfied: interface-meta>=1.2.0 in c:\\users\\bruker1\\anaconda3\\lib\\site-packages (from formulaic>=0.2.2->lifelines->ISLP) (1.3.0)\n",
      "Requirement already satisfied: wrapt>=1.0 in c:\\users\\bruker1\\anaconda3\\lib\\site-packages (from formulaic>=0.2.2->lifelines->ISLP) (1.14.1)\n",
      "Requirement already satisfied: requests in c:\\users\\bruker1\\anaconda3\\lib\\site-packages (from fsspec[http]>2021.06.0->pytorch-lightning->ISLP) (2.31.0)\n",
      "Requirement already satisfied: aiohttp!=4.0.0a0,!=4.0.0a1 in c:\\users\\bruker1\\anaconda3\\lib\\site-packages (from fsspec[http]>2021.06.0->pytorch-lightning->ISLP) (3.8.3)\n",
      "Requirement already satisfied: contourpy>=1.0.1 in c:\\users\\bruker1\\anaconda3\\lib\\site-packages (from matplotlib>=3.0->lifelines->ISLP) (1.0.5)\n",
      "Requirement already satisfied: cycler>=0.10 in c:\\users\\bruker1\\anaconda3\\lib\\site-packages (from matplotlib>=3.0->lifelines->ISLP) (0.11.0)\n",
      "Requirement already satisfied: fonttools>=4.22.0 in c:\\users\\bruker1\\anaconda3\\lib\\site-packages (from matplotlib>=3.0->lifelines->ISLP) (4.25.0)\n",
      "Requirement already satisfied: kiwisolver>=1.0.1 in c:\\users\\bruker1\\anaconda3\\lib\\site-packages (from matplotlib>=3.0->lifelines->ISLP) (1.4.4)\n",
      "Requirement already satisfied: pillow>=6.2.0 in c:\\users\\bruker1\\anaconda3\\lib\\site-packages (from matplotlib>=3.0->lifelines->ISLP) (9.4.0)\n",
      "Requirement already satisfied: pyparsing>=2.3.1 in c:\\users\\bruker1\\anaconda3\\lib\\site-packages (from matplotlib>=3.0->lifelines->ISLP) (3.0.9)\n",
      "Requirement already satisfied: six in c:\\users\\bruker1\\anaconda3\\lib\\site-packages (from patsy>=0.5.2->statsmodels>=0.13->ISLP) (1.16.0)\n",
      "Requirement already satisfied: python-utils>=3.0.0 in c:\\users\\bruker1\\anaconda3\\lib\\site-packages (from progressbar2<5.0.0,>=4.2.0->pygam->ISLP) (3.8.1)\n",
      "Requirement already satisfied: colorama in c:\\users\\bruker1\\anaconda3\\lib\\site-packages (from tqdm>=4.57.0->pytorch-lightning->ISLP) (0.4.6)\n",
      "Requirement already satisfied: MarkupSafe>=2.0 in c:\\users\\bruker1\\anaconda3\\lib\\site-packages (from jinja2->torch->ISLP) (2.1.1)\n",
      "Requirement already satisfied: mpmath>=0.19 in c:\\users\\bruker1\\anaconda3\\lib\\site-packages (from sympy->torch->ISLP) (1.3.0)\n",
      "Requirement already satisfied: attrs>=17.3.0 in c:\\users\\bruker1\\anaconda3\\lib\\site-packages (from aiohttp!=4.0.0a0,!=4.0.0a1->fsspec[http]>2021.06.0->pytorch-lightning->ISLP) (22.1.0)\n",
      "Requirement already satisfied: charset-normalizer<3.0,>=2.0 in c:\\users\\bruker1\\anaconda3\\lib\\site-packages (from aiohttp!=4.0.0a0,!=4.0.0a1->fsspec[http]>2021.06.0->pytorch-lightning->ISLP) (2.0.4)\n",
      "Requirement already satisfied: multidict<7.0,>=4.5 in c:\\users\\bruker1\\anaconda3\\lib\\site-packages (from aiohttp!=4.0.0a0,!=4.0.0a1->fsspec[http]>2021.06.0->pytorch-lightning->ISLP) (6.0.2)\n",
      "Requirement already satisfied: async-timeout<5.0,>=4.0.0a3 in c:\\users\\bruker1\\anaconda3\\lib\\site-packages (from aiohttp!=4.0.0a0,!=4.0.0a1->fsspec[http]>2021.06.0->pytorch-lightning->ISLP) (4.0.2)\n",
      "Requirement already satisfied: yarl<2.0,>=1.0 in c:\\users\\bruker1\\anaconda3\\lib\\site-packages (from aiohttp!=4.0.0a0,!=4.0.0a1->fsspec[http]>2021.06.0->pytorch-lightning->ISLP) (1.8.1)\n",
      "Requirement already satisfied: frozenlist>=1.1.1 in c:\\users\\bruker1\\anaconda3\\lib\\site-packages (from aiohttp!=4.0.0a0,!=4.0.0a1->fsspec[http]>2021.06.0->pytorch-lightning->ISLP) (1.3.3)\n",
      "Requirement already satisfied: aiosignal>=1.1.2 in c:\\users\\bruker1\\anaconda3\\lib\\site-packages (from aiohttp!=4.0.0a0,!=4.0.0a1->fsspec[http]>2021.06.0->pytorch-lightning->ISLP) (1.2.0)\n",
      "Requirement already satisfied: idna<4,>=2.5 in c:\\users\\bruker1\\anaconda3\\lib\\site-packages (from requests->fsspec[http]>2021.06.0->pytorch-lightning->ISLP) (3.4)\n",
      "Requirement already satisfied: urllib3<3,>=1.21.1 in c:\\users\\bruker1\\anaconda3\\lib\\site-packages (from requests->fsspec[http]>2021.06.0->pytorch-lightning->ISLP) (1.26.16)\n",
      "Requirement already satisfied: certifi>=2017.4.17 in c:\\users\\bruker1\\anaconda3\\lib\\site-packages (from requests->fsspec[http]>2021.06.0->pytorch-lightning->ISLP) (2023.7.22)\n"
     ]
    },
    {
     "data": {
      "text/html": [
       "<div>\n",
       "<style scoped>\n",
       "    .dataframe tbody tr th:only-of-type {\n",
       "        vertical-align: middle;\n",
       "    }\n",
       "\n",
       "    .dataframe tbody tr th {\n",
       "        vertical-align: top;\n",
       "    }\n",
       "\n",
       "    .dataframe thead th {\n",
       "        text-align: right;\n",
       "    }\n",
       "</style>\n",
       "<table border=\"1\" class=\"dataframe\">\n",
       "  <thead>\n",
       "    <tr style=\"text-align: right;\">\n",
       "      <th></th>\n",
       "      <th>sex</th>\n",
       "      <th>diagnosis</th>\n",
       "      <th>loc</th>\n",
       "      <th>ki</th>\n",
       "      <th>gtv</th>\n",
       "      <th>stereo</th>\n",
       "      <th>status</th>\n",
       "      <th>time</th>\n",
       "    </tr>\n",
       "  </thead>\n",
       "  <tbody>\n",
       "    <tr>\n",
       "      <th>0</th>\n",
       "      <td>Female</td>\n",
       "      <td>Meningioma</td>\n",
       "      <td>Infratentorial</td>\n",
       "      <td>90</td>\n",
       "      <td>6.11</td>\n",
       "      <td>SRS</td>\n",
       "      <td>0</td>\n",
       "      <td>57.64</td>\n",
       "    </tr>\n",
       "    <tr>\n",
       "      <th>1</th>\n",
       "      <td>Male</td>\n",
       "      <td>HG glioma</td>\n",
       "      <td>Supratentorial</td>\n",
       "      <td>90</td>\n",
       "      <td>19.35</td>\n",
       "      <td>SRT</td>\n",
       "      <td>1</td>\n",
       "      <td>8.98</td>\n",
       "    </tr>\n",
       "    <tr>\n",
       "      <th>2</th>\n",
       "      <td>Female</td>\n",
       "      <td>Meningioma</td>\n",
       "      <td>Infratentorial</td>\n",
       "      <td>70</td>\n",
       "      <td>7.95</td>\n",
       "      <td>SRS</td>\n",
       "      <td>0</td>\n",
       "      <td>26.46</td>\n",
       "    </tr>\n",
       "    <tr>\n",
       "      <th>3</th>\n",
       "      <td>Female</td>\n",
       "      <td>LG glioma</td>\n",
       "      <td>Supratentorial</td>\n",
       "      <td>80</td>\n",
       "      <td>7.61</td>\n",
       "      <td>SRT</td>\n",
       "      <td>1</td>\n",
       "      <td>47.80</td>\n",
       "    </tr>\n",
       "    <tr>\n",
       "      <th>4</th>\n",
       "      <td>Male</td>\n",
       "      <td>HG glioma</td>\n",
       "      <td>Supratentorial</td>\n",
       "      <td>90</td>\n",
       "      <td>5.06</td>\n",
       "      <td>SRT</td>\n",
       "      <td>1</td>\n",
       "      <td>6.30</td>\n",
       "    </tr>\n",
       "    <tr>\n",
       "      <th>...</th>\n",
       "      <td>...</td>\n",
       "      <td>...</td>\n",
       "      <td>...</td>\n",
       "      <td>...</td>\n",
       "      <td>...</td>\n",
       "      <td>...</td>\n",
       "      <td>...</td>\n",
       "      <td>...</td>\n",
       "    </tr>\n",
       "    <tr>\n",
       "      <th>83</th>\n",
       "      <td>Male</td>\n",
       "      <td>HG glioma</td>\n",
       "      <td>Supratentorial</td>\n",
       "      <td>80</td>\n",
       "      <td>0.16</td>\n",
       "      <td>SRT</td>\n",
       "      <td>1</td>\n",
       "      <td>20.69</td>\n",
       "    </tr>\n",
       "    <tr>\n",
       "      <th>84</th>\n",
       "      <td>Male</td>\n",
       "      <td>HG glioma</td>\n",
       "      <td>Supratentorial</td>\n",
       "      <td>80</td>\n",
       "      <td>19.81</td>\n",
       "      <td>SRT</td>\n",
       "      <td>1</td>\n",
       "      <td>6.39</td>\n",
       "    </tr>\n",
       "    <tr>\n",
       "      <th>85</th>\n",
       "      <td>Male</td>\n",
       "      <td>Meningioma</td>\n",
       "      <td>Supratentorial</td>\n",
       "      <td>90</td>\n",
       "      <td>2.50</td>\n",
       "      <td>SRT</td>\n",
       "      <td>0</td>\n",
       "      <td>32.82</td>\n",
       "    </tr>\n",
       "    <tr>\n",
       "      <th>86</th>\n",
       "      <td>Male</td>\n",
       "      <td>Meningioma</td>\n",
       "      <td>Supratentorial</td>\n",
       "      <td>90</td>\n",
       "      <td>2.02</td>\n",
       "      <td>SRS</td>\n",
       "      <td>0</td>\n",
       "      <td>42.07</td>\n",
       "    </tr>\n",
       "    <tr>\n",
       "      <th>87</th>\n",
       "      <td>Male</td>\n",
       "      <td>Other</td>\n",
       "      <td>Infratentorial</td>\n",
       "      <td>80</td>\n",
       "      <td>0.11</td>\n",
       "      <td>SRT</td>\n",
       "      <td>0</td>\n",
       "      <td>13.90</td>\n",
       "    </tr>\n",
       "  </tbody>\n",
       "</table>\n",
       "<p>88 rows × 8 columns</p>\n",
       "</div>"
      ],
      "text/plain": [
       "       sex   diagnosis             loc  ki    gtv stereo  status   time\n",
       "0   Female  Meningioma  Infratentorial  90   6.11    SRS       0  57.64\n",
       "1     Male   HG glioma  Supratentorial  90  19.35    SRT       1   8.98\n",
       "2   Female  Meningioma  Infratentorial  70   7.95    SRS       0  26.46\n",
       "3   Female   LG glioma  Supratentorial  80   7.61    SRT       1  47.80\n",
       "4     Male   HG glioma  Supratentorial  90   5.06    SRT       1   6.30\n",
       "..     ...         ...             ...  ..    ...    ...     ...    ...\n",
       "83    Male   HG glioma  Supratentorial  80   0.16    SRT       1  20.69\n",
       "84    Male   HG glioma  Supratentorial  80  19.81    SRT       1   6.39\n",
       "85    Male  Meningioma  Supratentorial  90   2.50    SRT       0  32.82\n",
       "86    Male  Meningioma  Supratentorial  90   2.02    SRS       0  42.07\n",
       "87    Male       Other  Infratentorial  80   0.11    SRT       0  13.90\n",
       "\n",
       "[88 rows x 8 columns]"
      ]
     },
     "execution_count": 58,
     "metadata": {},
     "output_type": "execute_result"
    }
   ],
   "source": [
    "!pip install ISLP\n",
    "from ISLP import load_data\n",
    "df = load_data('BrainCancer')\n",
    "df"
   ]
  },
  {
   "cell_type": "code",
   "execution_count": 59,
   "id": "a08e09c7",
   "metadata": {},
   "outputs": [
    {
     "data": {
      "text/html": [
       "<div>\n",
       "<style scoped>\n",
       "    .dataframe tbody tr th:only-of-type {\n",
       "        vertical-align: middle;\n",
       "    }\n",
       "\n",
       "    .dataframe tbody tr th {\n",
       "        vertical-align: top;\n",
       "    }\n",
       "\n",
       "    .dataframe thead th {\n",
       "        text-align: right;\n",
       "    }\n",
       "</style>\n",
       "<table border=\"1\" class=\"dataframe\">\n",
       "  <thead>\n",
       "    <tr style=\"text-align: right;\">\n",
       "      <th></th>\n",
       "      <th>sex</th>\n",
       "      <th>diagnosis</th>\n",
       "      <th>loc</th>\n",
       "      <th>ki</th>\n",
       "      <th>gtv</th>\n",
       "      <th>stereo</th>\n",
       "      <th>status</th>\n",
       "      <th>time</th>\n",
       "    </tr>\n",
       "  </thead>\n",
       "  <tbody>\n",
       "  </tbody>\n",
       "</table>\n",
       "</div>"
      ],
      "text/plain": [
       "Empty DataFrame\n",
       "Columns: [sex, diagnosis, loc, ki, gtv, stereo, status, time]\n",
       "Index: []"
      ]
     },
     "execution_count": 59,
     "metadata": {},
     "output_type": "execute_result"
    }
   ],
   "source": [
    "df.head(0)"
   ]
  },
  {
   "cell_type": "code",
   "execution_count": 60,
   "id": "572694cb",
   "metadata": {},
   "outputs": [
    {
     "data": {
      "text/plain": [
       "(88, 8)"
      ]
     },
     "execution_count": 60,
     "metadata": {},
     "output_type": "execute_result"
    }
   ],
   "source": [
    "df.shape"
   ]
  },
  {
   "cell_type": "code",
   "execution_count": 61,
   "id": "0bb888c3",
   "metadata": {},
   "outputs": [
    {
     "data": {
      "text/html": [
       "<div>\n",
       "<style scoped>\n",
       "    .dataframe tbody tr th:only-of-type {\n",
       "        vertical-align: middle;\n",
       "    }\n",
       "\n",
       "    .dataframe tbody tr th {\n",
       "        vertical-align: top;\n",
       "    }\n",
       "\n",
       "    .dataframe thead th {\n",
       "        text-align: right;\n",
       "    }\n",
       "</style>\n",
       "<table border=\"1\" class=\"dataframe\">\n",
       "  <thead>\n",
       "    <tr style=\"text-align: right;\">\n",
       "      <th></th>\n",
       "      <th>sex</th>\n",
       "      <th>diagnosis</th>\n",
       "      <th>loc</th>\n",
       "      <th>ki</th>\n",
       "      <th>gtv</th>\n",
       "      <th>stereo</th>\n",
       "      <th>status</th>\n",
       "      <th>time</th>\n",
       "    </tr>\n",
       "  </thead>\n",
       "  <tbody>\n",
       "    <tr>\n",
       "      <th>0</th>\n",
       "      <td>Female</td>\n",
       "      <td>Meningioma</td>\n",
       "      <td>Infratentorial</td>\n",
       "      <td>90</td>\n",
       "      <td>6.11</td>\n",
       "      <td>SRS</td>\n",
       "      <td>0</td>\n",
       "      <td>57.64</td>\n",
       "    </tr>\n",
       "    <tr>\n",
       "      <th>1</th>\n",
       "      <td>Male</td>\n",
       "      <td>HG glioma</td>\n",
       "      <td>Supratentorial</td>\n",
       "      <td>90</td>\n",
       "      <td>19.35</td>\n",
       "      <td>SRT</td>\n",
       "      <td>1</td>\n",
       "      <td>8.98</td>\n",
       "    </tr>\n",
       "    <tr>\n",
       "      <th>2</th>\n",
       "      <td>Female</td>\n",
       "      <td>Meningioma</td>\n",
       "      <td>Infratentorial</td>\n",
       "      <td>70</td>\n",
       "      <td>7.95</td>\n",
       "      <td>SRS</td>\n",
       "      <td>0</td>\n",
       "      <td>26.46</td>\n",
       "    </tr>\n",
       "    <tr>\n",
       "      <th>3</th>\n",
       "      <td>Female</td>\n",
       "      <td>LG glioma</td>\n",
       "      <td>Supratentorial</td>\n",
       "      <td>80</td>\n",
       "      <td>7.61</td>\n",
       "      <td>SRT</td>\n",
       "      <td>1</td>\n",
       "      <td>47.80</td>\n",
       "    </tr>\n",
       "    <tr>\n",
       "      <th>4</th>\n",
       "      <td>Male</td>\n",
       "      <td>HG glioma</td>\n",
       "      <td>Supratentorial</td>\n",
       "      <td>90</td>\n",
       "      <td>5.06</td>\n",
       "      <td>SRT</td>\n",
       "      <td>1</td>\n",
       "      <td>6.30</td>\n",
       "    </tr>\n",
       "  </tbody>\n",
       "</table>\n",
       "</div>"
      ],
      "text/plain": [
       "      sex   diagnosis             loc  ki    gtv stereo  status   time\n",
       "0  Female  Meningioma  Infratentorial  90   6.11    SRS       0  57.64\n",
       "1    Male   HG glioma  Supratentorial  90  19.35    SRT       1   8.98\n",
       "2  Female  Meningioma  Infratentorial  70   7.95    SRS       0  26.46\n",
       "3  Female   LG glioma  Supratentorial  80   7.61    SRT       1  47.80\n",
       "4    Male   HG glioma  Supratentorial  90   5.06    SRT       1   6.30"
      ]
     },
     "execution_count": 61,
     "metadata": {},
     "output_type": "execute_result"
    }
   ],
   "source": [
    "df.head()"
   ]
  },
  {
   "cell_type": "code",
   "execution_count": 62,
   "id": "963e6a79",
   "metadata": {},
   "outputs": [
    {
     "data": {
      "text/html": [
       "<div>\n",
       "<style scoped>\n",
       "    .dataframe tbody tr th:only-of-type {\n",
       "        vertical-align: middle;\n",
       "    }\n",
       "\n",
       "    .dataframe tbody tr th {\n",
       "        vertical-align: top;\n",
       "    }\n",
       "\n",
       "    .dataframe thead th {\n",
       "        text-align: right;\n",
       "    }\n",
       "</style>\n",
       "<table border=\"1\" class=\"dataframe\">\n",
       "  <thead>\n",
       "    <tr style=\"text-align: right;\">\n",
       "      <th></th>\n",
       "      <th>ki</th>\n",
       "      <th>gtv</th>\n",
       "      <th>status</th>\n",
       "      <th>time</th>\n",
       "    </tr>\n",
       "  </thead>\n",
       "  <tbody>\n",
       "    <tr>\n",
       "      <th>count</th>\n",
       "      <td>88.000000</td>\n",
       "      <td>88.000000</td>\n",
       "      <td>88.000000</td>\n",
       "      <td>88.000000</td>\n",
       "    </tr>\n",
       "    <tr>\n",
       "      <th>mean</th>\n",
       "      <td>81.022727</td>\n",
       "      <td>8.660795</td>\n",
       "      <td>0.397727</td>\n",
       "      <td>27.457500</td>\n",
       "    </tr>\n",
       "    <tr>\n",
       "      <th>std</th>\n",
       "      <td>10.508866</td>\n",
       "      <td>8.657576</td>\n",
       "      <td>0.492233</td>\n",
       "      <td>20.124412</td>\n",
       "    </tr>\n",
       "    <tr>\n",
       "      <th>min</th>\n",
       "      <td>40.000000</td>\n",
       "      <td>0.010000</td>\n",
       "      <td>0.000000</td>\n",
       "      <td>0.070000</td>\n",
       "    </tr>\n",
       "    <tr>\n",
       "      <th>25%</th>\n",
       "      <td>80.000000</td>\n",
       "      <td>2.500000</td>\n",
       "      <td>0.000000</td>\n",
       "      <td>10.392500</td>\n",
       "    </tr>\n",
       "    <tr>\n",
       "      <th>50%</th>\n",
       "      <td>80.000000</td>\n",
       "      <td>6.510000</td>\n",
       "      <td>0.000000</td>\n",
       "      <td>24.030000</td>\n",
       "    </tr>\n",
       "    <tr>\n",
       "      <th>75%</th>\n",
       "      <td>90.000000</td>\n",
       "      <td>12.100000</td>\n",
       "      <td>1.000000</td>\n",
       "      <td>41.597500</td>\n",
       "    </tr>\n",
       "    <tr>\n",
       "      <th>max</th>\n",
       "      <td>100.000000</td>\n",
       "      <td>34.640000</td>\n",
       "      <td>1.000000</td>\n",
       "      <td>82.560000</td>\n",
       "    </tr>\n",
       "  </tbody>\n",
       "</table>\n",
       "</div>"
      ],
      "text/plain": [
       "               ki        gtv     status       time\n",
       "count   88.000000  88.000000  88.000000  88.000000\n",
       "mean    81.022727   8.660795   0.397727  27.457500\n",
       "std     10.508866   8.657576   0.492233  20.124412\n",
       "min     40.000000   0.010000   0.000000   0.070000\n",
       "25%     80.000000   2.500000   0.000000  10.392500\n",
       "50%     80.000000   6.510000   0.000000  24.030000\n",
       "75%     90.000000  12.100000   1.000000  41.597500\n",
       "max    100.000000  34.640000   1.000000  82.560000"
      ]
     },
     "execution_count": 62,
     "metadata": {},
     "output_type": "execute_result"
    }
   ],
   "source": [
    "df.describe()"
   ]
  },
  {
   "cell_type": "markdown",
   "id": "a9c6a42f",
   "metadata": {},
   "source": [
    "## 2) Clean data"
   ]
  },
  {
   "cell_type": "markdown",
   "id": "1d36fa43",
   "metadata": {},
   "source": [
    "Counts the number of occurrences of each unique value in the column."
   ]
  },
  {
   "cell_type": "code",
   "execution_count": 63,
   "id": "c3fcff94",
   "metadata": {},
   "outputs": [
    {
     "data": {
      "text/plain": [
       "Female    45\n",
       "Male      43\n",
       "Name: sex, dtype: int64"
      ]
     },
     "execution_count": 63,
     "metadata": {},
     "output_type": "execute_result"
    }
   ],
   "source": [
    "df['sex'].value_counts()"
   ]
  },
  {
   "cell_type": "code",
   "execution_count": 64,
   "id": "25cbb780",
   "metadata": {},
   "outputs": [
    {
     "data": {
      "text/plain": [
       "Meningioma    42\n",
       "HG glioma     22\n",
       "Other         14\n",
       "LG glioma      9\n",
       "Name: diagnosis, dtype: int64"
      ]
     },
     "execution_count": 64,
     "metadata": {},
     "output_type": "execute_result"
    }
   ],
   "source": [
    "df['diagnosis'].value_counts()"
   ]
  },
  {
   "cell_type": "code",
   "execution_count": 65,
   "id": "9ea18bc7",
   "metadata": {},
   "outputs": [
    {
     "data": {
      "text/plain": [
       "Supratentorial    69\n",
       "Infratentorial    19\n",
       "Name: loc, dtype: int64"
      ]
     },
     "execution_count": 65,
     "metadata": {},
     "output_type": "execute_result"
    }
   ],
   "source": [
    "df['loc'].value_counts()"
   ]
  },
  {
   "cell_type": "code",
   "execution_count": 66,
   "id": "468dc872",
   "metadata": {},
   "outputs": [
    {
     "data": {
      "text/plain": [
       "SRT    65\n",
       "SRS    23\n",
       "Name: stereo, dtype: int64"
      ]
     },
     "execution_count": 66,
     "metadata": {},
     "output_type": "execute_result"
    }
   ],
   "source": [
    "df['stereo'].value_counts()"
   ]
  },
  {
   "cell_type": "code",
   "execution_count": 67,
   "id": "d552703d",
   "metadata": {},
   "outputs": [
    {
     "data": {
      "text/plain": [
       "sex          0\n",
       "diagnosis    1\n",
       "loc          0\n",
       "ki           0\n",
       "gtv          0\n",
       "stereo       0\n",
       "status       0\n",
       "time         0\n",
       "dtype: int64"
      ]
     },
     "execution_count": 67,
     "metadata": {},
     "output_type": "execute_result"
    }
   ],
   "source": [
    "# Check NaNs Values. It appaear to have NaNs values in row 13. I will drop this row in this case.\n",
    "df.isna().sum()"
   ]
  },
  {
   "cell_type": "code",
   "execution_count": 68,
   "id": "77b5411a",
   "metadata": {},
   "outputs": [
    {
     "data": {
      "text/html": [
       "<div>\n",
       "<style scoped>\n",
       "    .dataframe tbody tr th:only-of-type {\n",
       "        vertical-align: middle;\n",
       "    }\n",
       "\n",
       "    .dataframe tbody tr th {\n",
       "        vertical-align: top;\n",
       "    }\n",
       "\n",
       "    .dataframe thead th {\n",
       "        text-align: right;\n",
       "    }\n",
       "</style>\n",
       "<table border=\"1\" class=\"dataframe\">\n",
       "  <thead>\n",
       "    <tr style=\"text-align: right;\">\n",
       "      <th></th>\n",
       "      <th>sex</th>\n",
       "      <th>diagnosis</th>\n",
       "      <th>loc</th>\n",
       "      <th>ki</th>\n",
       "      <th>gtv</th>\n",
       "      <th>stereo</th>\n",
       "      <th>status</th>\n",
       "      <th>time</th>\n",
       "    </tr>\n",
       "  </thead>\n",
       "  <tbody>\n",
       "    <tr>\n",
       "      <th>13</th>\n",
       "      <td>Male</td>\n",
       "      <td>NaN</td>\n",
       "      <td>Supratentorial</td>\n",
       "      <td>90</td>\n",
       "      <td>6.38</td>\n",
       "      <td>SRT</td>\n",
       "      <td>0</td>\n",
       "      <td>50.85</td>\n",
       "    </tr>\n",
       "  </tbody>\n",
       "</table>\n",
       "</div>"
      ],
      "text/plain": [
       "     sex diagnosis             loc  ki   gtv stereo  status   time\n",
       "13  Male       NaN  Supratentorial  90  6.38    SRT       0  50.85"
      ]
     },
     "execution_count": 68,
     "metadata": {},
     "output_type": "execute_result"
    }
   ],
   "source": [
    "df[df.isnull().any(axis=1)]"
   ]
  },
  {
   "cell_type": "code",
   "execution_count": 69,
   "id": "26408040",
   "metadata": {},
   "outputs": [
    {
     "data": {
      "text/plain": [
       "sex          0\n",
       "diagnosis    0\n",
       "loc          0\n",
       "ki           0\n",
       "gtv          0\n",
       "stereo       0\n",
       "status       0\n",
       "time         0\n",
       "dtype: int64"
      ]
     },
     "execution_count": 69,
     "metadata": {},
     "output_type": "execute_result"
    }
   ],
   "source": [
    "# Drop these rows with Nan values.\n",
    "\n",
    "df.dropna(subset=['diagnosis'], inplace=True)\n",
    "\n",
    "# df = df.dropna()\n",
    "df.isna().sum()"
   ]
  },
  {
   "cell_type": "code",
   "execution_count": 70,
   "id": "76c1fd3e",
   "metadata": {},
   "outputs": [
    {
     "data": {
      "text/html": [
       "<div>\n",
       "<style scoped>\n",
       "    .dataframe tbody tr th:only-of-type {\n",
       "        vertical-align: middle;\n",
       "    }\n",
       "\n",
       "    .dataframe tbody tr th {\n",
       "        vertical-align: top;\n",
       "    }\n",
       "\n",
       "    .dataframe thead th {\n",
       "        text-align: right;\n",
       "    }\n",
       "</style>\n",
       "<table border=\"1\" class=\"dataframe\">\n",
       "  <thead>\n",
       "    <tr style=\"text-align: right;\">\n",
       "      <th></th>\n",
       "      <th>sex</th>\n",
       "      <th>diagnosis</th>\n",
       "      <th>loc</th>\n",
       "      <th>ki</th>\n",
       "      <th>gtv</th>\n",
       "      <th>stereo</th>\n",
       "      <th>status</th>\n",
       "      <th>time</th>\n",
       "    </tr>\n",
       "  </thead>\n",
       "  <tbody>\n",
       "    <tr>\n",
       "      <th>0</th>\n",
       "      <td>Female</td>\n",
       "      <td>Meningioma</td>\n",
       "      <td>Infratentorial</td>\n",
       "      <td>90</td>\n",
       "      <td>6.11</td>\n",
       "      <td>SRS</td>\n",
       "      <td>0</td>\n",
       "      <td>57.64</td>\n",
       "    </tr>\n",
       "    <tr>\n",
       "      <th>1</th>\n",
       "      <td>Male</td>\n",
       "      <td>HG glioma</td>\n",
       "      <td>Supratentorial</td>\n",
       "      <td>90</td>\n",
       "      <td>19.35</td>\n",
       "      <td>SRT</td>\n",
       "      <td>1</td>\n",
       "      <td>8.98</td>\n",
       "    </tr>\n",
       "    <tr>\n",
       "      <th>2</th>\n",
       "      <td>Female</td>\n",
       "      <td>Meningioma</td>\n",
       "      <td>Infratentorial</td>\n",
       "      <td>70</td>\n",
       "      <td>7.95</td>\n",
       "      <td>SRS</td>\n",
       "      <td>0</td>\n",
       "      <td>26.46</td>\n",
       "    </tr>\n",
       "    <tr>\n",
       "      <th>3</th>\n",
       "      <td>Female</td>\n",
       "      <td>LG glioma</td>\n",
       "      <td>Supratentorial</td>\n",
       "      <td>80</td>\n",
       "      <td>7.61</td>\n",
       "      <td>SRT</td>\n",
       "      <td>1</td>\n",
       "      <td>47.80</td>\n",
       "    </tr>\n",
       "    <tr>\n",
       "      <th>4</th>\n",
       "      <td>Male</td>\n",
       "      <td>HG glioma</td>\n",
       "      <td>Supratentorial</td>\n",
       "      <td>90</td>\n",
       "      <td>5.06</td>\n",
       "      <td>SRT</td>\n",
       "      <td>1</td>\n",
       "      <td>6.30</td>\n",
       "    </tr>\n",
       "  </tbody>\n",
       "</table>\n",
       "</div>"
      ],
      "text/plain": [
       "      sex   diagnosis             loc  ki    gtv stereo  status   time\n",
       "0  Female  Meningioma  Infratentorial  90   6.11    SRS       0  57.64\n",
       "1    Male   HG glioma  Supratentorial  90  19.35    SRT       1   8.98\n",
       "2  Female  Meningioma  Infratentorial  70   7.95    SRS       0  26.46\n",
       "3  Female   LG glioma  Supratentorial  80   7.61    SRT       1  47.80\n",
       "4    Male   HG glioma  Supratentorial  90   5.06    SRT       1   6.30"
      ]
     },
     "execution_count": 70,
     "metadata": {},
     "output_type": "execute_result"
    }
   ],
   "source": [
    "df.head()"
   ]
  },
  {
   "cell_type": "markdown",
   "id": "e68ede4f",
   "metadata": {},
   "source": [
    "## Feature set"
   ]
  },
  {
   "cell_type": "code",
   "execution_count": 71,
   "id": "c63877f4",
   "metadata": {},
   "outputs": [
    {
     "data": {
      "text/plain": [
       "(87, 8)"
      ]
     },
     "execution_count": 71,
     "metadata": {},
     "output_type": "execute_result"
    }
   ],
   "source": [
    "# Check rows and columns after drop one row.\n",
    "df.shape"
   ]
  },
  {
   "cell_type": "code",
   "execution_count": 72,
   "id": "76faa011",
   "metadata": {},
   "outputs": [
    {
     "data": {
      "text/plain": [
       "pandas.core.frame.DataFrame"
      ]
     },
     "execution_count": 72,
     "metadata": {},
     "output_type": "execute_result"
    }
   ],
   "source": [
    "type(df)"
   ]
  },
  {
   "cell_type": "markdown",
   "id": "21632a59",
   "metadata": {},
   "source": [
    "### To use Scikit learn, we have to convert  the pandas data frame to a Numpy array."
   ]
  },
  {
   "cell_type": "code",
   "execution_count": 73,
   "id": "6a980fbc",
   "metadata": {},
   "outputs": [
    {
     "data": {
      "text/plain": [
       "array([['Female', 'Infratentorial', 90, 6.11, 'SRS', 0, 57.64],\n",
       "       ['Male', 'Supratentorial', 90, 19.35, 'SRT', 1, 8.98],\n",
       "       ['Female', 'Infratentorial', 70, 7.95, 'SRS', 0, 26.46],\n",
       "       ['Female', 'Supratentorial', 80, 7.61, 'SRT', 1, 47.8],\n",
       "       ['Male', 'Supratentorial', 90, 5.06, 'SRT', 1, 6.3],\n",
       "       ['Female', 'Supratentorial', 80, 4.82, 'SRS', 0, 52.75],\n",
       "       ['Male', 'Supratentorial', 80, 3.19, 'SRT', 0, 55.8],\n",
       "       ['Male', 'Supratentorial', 80, 12.37, 'SRT', 0, 42.1],\n",
       "       ['Female', 'Supratentorial', 70, 12.16, 'SRT', 0, 34.66]],\n",
       "      dtype=object)"
      ]
     },
     "execution_count": 73,
     "metadata": {},
     "output_type": "execute_result"
    }
   ],
   "source": [
    "# Converts these features to numerical values using label encoding \n",
    "# to convert the categorical variale into dummy/indicator variables. \n",
    "\n",
    "# Note: The array X is a two dimensional array of features, which one row per data point and one column per features.\n",
    "# Note: The array y is a one dimentional array, which here contains one class label, an integer ranging from 0 to 2, for each of the samples.\n",
    "\n",
    "X = df[['sex','loc', 'ki', 'gtv', 'stereo', 'status', 'time']].values\n",
    "X[0:9]"
   ]
  },
  {
   "cell_type": "code",
   "execution_count": 74,
   "id": "71d450d4",
   "metadata": {},
   "outputs": [
    {
     "data": {
      "text/plain": [
       "array(['Female', 'Male', 'Female', 'Female', 'Male', 'Female', 'Male',\n",
       "       'Male', 'Female', 'Male', 'Male', 'Female', 'Female', 'Female',\n",
       "       'Female', 'Female', 'Male', 'Male', 'Female', 'Female', 'Male',\n",
       "       'Female', 'Female', 'Female', 'Male', 'Male', 'Male', 'Male',\n",
       "       'Female', 'Female', 'Male', 'Female', 'Male', 'Female', 'Female',\n",
       "       'Female', 'Male', 'Male', 'Female', 'Female', 'Male', 'Female',\n",
       "       'Male', 'Male', 'Male', 'Male', 'Female', 'Male', 'Female',\n",
       "       'Female', 'Female', 'Male', 'Male', 'Female', 'Male', 'Male',\n",
       "       'Male', 'Female', 'Female', 'Female', 'Male', 'Female', 'Male',\n",
       "       'Male', 'Female', 'Female', 'Male', 'Female', 'Female', 'Male',\n",
       "       'Male', 'Male', 'Female', 'Male', 'Female', 'Female', 'Female',\n",
       "       'Female', 'Female', 'Female', 'Female', 'Male', 'Male', 'Male',\n",
       "       'Male', 'Male', 'Male'], dtype=object)"
      ]
     },
     "execution_count": 74,
     "metadata": {},
     "output_type": "execute_result"
    }
   ],
   "source": [
    "X[:,0]"
   ]
  },
  {
   "cell_type": "code",
   "execution_count": 75,
   "id": "a4f45563",
   "metadata": {},
   "outputs": [
    {
     "data": {
      "text/plain": [
       "array(['Infratentorial', 'Supratentorial', 'Infratentorial',\n",
       "       'Supratentorial', 'Supratentorial', 'Supratentorial',\n",
       "       'Supratentorial', 'Supratentorial', 'Supratentorial',\n",
       "       'Supratentorial', 'Supratentorial', 'Infratentorial',\n",
       "       'Infratentorial', 'Supratentorial', 'Supratentorial',\n",
       "       'Infratentorial', 'Supratentorial', 'Supratentorial',\n",
       "       'Supratentorial', 'Supratentorial', 'Supratentorial',\n",
       "       'Infratentorial', 'Infratentorial', 'Supratentorial',\n",
       "       'Supratentorial', 'Supratentorial', 'Supratentorial',\n",
       "       'Supratentorial', 'Supratentorial', 'Supratentorial',\n",
       "       'Supratentorial', 'Infratentorial', 'Infratentorial',\n",
       "       'Supratentorial', 'Supratentorial', 'Supratentorial',\n",
       "       'Supratentorial', 'Infratentorial', 'Supratentorial',\n",
       "       'Supratentorial', 'Supratentorial', 'Supratentorial',\n",
       "       'Supratentorial', 'Infratentorial', 'Supratentorial',\n",
       "       'Supratentorial', 'Supratentorial', 'Supratentorial',\n",
       "       'Supratentorial', 'Supratentorial', 'Infratentorial',\n",
       "       'Supratentorial', 'Infratentorial', 'Supratentorial',\n",
       "       'Infratentorial', 'Infratentorial', 'Supratentorial',\n",
       "       'Supratentorial', 'Supratentorial', 'Supratentorial',\n",
       "       'Supratentorial', 'Supratentorial', 'Supratentorial',\n",
       "       'Supratentorial', 'Supratentorial', 'Supratentorial',\n",
       "       'Infratentorial', 'Supratentorial', 'Supratentorial',\n",
       "       'Supratentorial', 'Supratentorial', 'Supratentorial',\n",
       "       'Supratentorial', 'Supratentorial', 'Supratentorial',\n",
       "       'Supratentorial', 'Supratentorial', 'Supratentorial',\n",
       "       'Infratentorial', 'Supratentorial', 'Supratentorial',\n",
       "       'Infratentorial', 'Supratentorial', 'Supratentorial',\n",
       "       'Supratentorial', 'Supratentorial', 'Infratentorial'], dtype=object)"
      ]
     },
     "execution_count": 75,
     "metadata": {},
     "output_type": "execute_result"
    }
   ],
   "source": [
    "X[:,1]"
   ]
  },
  {
   "cell_type": "code",
   "execution_count": 76,
   "id": "880731e7",
   "metadata": {},
   "outputs": [
    {
     "data": {
      "text/plain": [
       "array(['SRS', 'SRT', 'SRS', 'SRT', 'SRT', 'SRS', 'SRT', 'SRT', 'SRT',\n",
       "       'SRT', 'SRT', 'SRS', 'SRS', 'SRT', 'SRS', 'SRT', 'SRT', 'SRS',\n",
       "       'SRT', 'SRS', 'SRT', 'SRS', 'SRS', 'SRT', 'SRT', 'SRT', 'SRT',\n",
       "       'SRT', 'SRS', 'SRS', 'SRS', 'SRT', 'SRS', 'SRT', 'SRT', 'SRT',\n",
       "       'SRT', 'SRT', 'SRT', 'SRT', 'SRT', 'SRT', 'SRT', 'SRT', 'SRS',\n",
       "       'SRT', 'SRT', 'SRT', 'SRS', 'SRT', 'SRT', 'SRT', 'SRT', 'SRT',\n",
       "       'SRS', 'SRS', 'SRT', 'SRT', 'SRT', 'SRT', 'SRT', 'SRT', 'SRT',\n",
       "       'SRT', 'SRT', 'SRT', 'SRS', 'SRS', 'SRT', 'SRT', 'SRT', 'SRT',\n",
       "       'SRT', 'SRT', 'SRT', 'SRS', 'SRT', 'SRT', 'SRS', 'SRT', 'SRT',\n",
       "       'SRT', 'SRT', 'SRT', 'SRT', 'SRS', 'SRT'], dtype=object)"
      ]
     },
     "execution_count": 76,
     "metadata": {},
     "output_type": "execute_result"
    }
   ],
   "source": [
    "X[:,4]"
   ]
  },
  {
   "cell_type": "code",
   "execution_count": 77,
   "id": "1b5e8cc4",
   "metadata": {},
   "outputs": [
    {
     "data": {
      "text/plain": [
       "{'sex': LabelEncoder(),\n",
       " 'diagnosis': LabelEncoder(),\n",
       " 'loc': LabelEncoder(),\n",
       " 'stereo': LabelEncoder()}"
      ]
     },
     "execution_count": 77,
     "metadata": {},
     "output_type": "execute_result"
    }
   ],
   "source": [
    "# Convert categorical variables to numerical use LabelEncoder.\n",
    "\n",
    "from sklearn.preprocessing import LabelEncoder, StandardScaler\n",
    "\n",
    "label_encoders={}\n",
    "for column in ['sex', 'diagnosis', 'loc', 'stereo']:\n",
    "    lebel = LabelEncoder()\n",
    "    df[column] = lebel.fit_transform(df[column])\n",
    "    label_encoders[column] = lebel\n",
    "label_encoders"
   ]
  },
  {
   "cell_type": "code",
   "execution_count": 78,
   "id": "31c99782",
   "metadata": {},
   "outputs": [
    {
     "data": {
      "text/plain": [
       "array([[ 0.  ,  0.  , 90.  ,  6.11,  0.  ,  0.  , 57.64],\n",
       "       [ 1.  ,  1.  , 90.  , 19.35,  1.  ,  1.  ,  8.98],\n",
       "       [ 0.  ,  0.  , 70.  ,  7.95,  0.  ,  0.  , 26.46],\n",
       "       [ 0.  ,  1.  , 80.  ,  7.61,  1.  ,  1.  , 47.8 ],\n",
       "       [ 1.  ,  1.  , 90.  ,  5.06,  1.  ,  1.  ,  6.3 ],\n",
       "       [ 0.  ,  1.  , 80.  ,  4.82,  0.  ,  0.  , 52.75],\n",
       "       [ 1.  ,  1.  , 80.  ,  3.19,  1.  ,  0.  , 55.8 ],\n",
       "       [ 1.  ,  1.  , 80.  , 12.37,  1.  ,  0.  , 42.1 ]])"
      ]
     },
     "execution_count": 78,
     "metadata": {},
     "output_type": "execute_result"
    }
   ],
   "source": [
    "X = df[['sex','loc', 'ki', 'gtv', 'stereo', 'status', 'time']].values\n",
    "X[0:8]"
   ]
  },
  {
   "cell_type": "code",
   "execution_count": 79,
   "id": "c61791e0",
   "metadata": {},
   "outputs": [],
   "source": [
    "y = df['diagnosis']"
   ]
  },
  {
   "cell_type": "code",
   "execution_count": 80,
   "id": "9dd5e0bf",
   "metadata": {},
   "outputs": [
    {
     "data": {
      "text/html": [
       "<div>\n",
       "<style scoped>\n",
       "    .dataframe tbody tr th:only-of-type {\n",
       "        vertical-align: middle;\n",
       "    }\n",
       "\n",
       "    .dataframe tbody tr th {\n",
       "        vertical-align: top;\n",
       "    }\n",
       "\n",
       "    .dataframe thead th {\n",
       "        text-align: right;\n",
       "    }\n",
       "</style>\n",
       "<table border=\"1\" class=\"dataframe\">\n",
       "  <thead>\n",
       "    <tr style=\"text-align: right;\">\n",
       "      <th></th>\n",
       "      <th>sex</th>\n",
       "      <th>diagnosis</th>\n",
       "      <th>loc</th>\n",
       "      <th>ki</th>\n",
       "      <th>gtv</th>\n",
       "      <th>stereo</th>\n",
       "      <th>status</th>\n",
       "      <th>time</th>\n",
       "    </tr>\n",
       "  </thead>\n",
       "  <tbody>\n",
       "    <tr>\n",
       "      <th>0</th>\n",
       "      <td>0</td>\n",
       "      <td>2</td>\n",
       "      <td>0</td>\n",
       "      <td>90</td>\n",
       "      <td>6.11</td>\n",
       "      <td>0</td>\n",
       "      <td>0</td>\n",
       "      <td>57.64</td>\n",
       "    </tr>\n",
       "    <tr>\n",
       "      <th>1</th>\n",
       "      <td>1</td>\n",
       "      <td>0</td>\n",
       "      <td>1</td>\n",
       "      <td>90</td>\n",
       "      <td>19.35</td>\n",
       "      <td>1</td>\n",
       "      <td>1</td>\n",
       "      <td>8.98</td>\n",
       "    </tr>\n",
       "    <tr>\n",
       "      <th>2</th>\n",
       "      <td>0</td>\n",
       "      <td>2</td>\n",
       "      <td>0</td>\n",
       "      <td>70</td>\n",
       "      <td>7.95</td>\n",
       "      <td>0</td>\n",
       "      <td>0</td>\n",
       "      <td>26.46</td>\n",
       "    </tr>\n",
       "    <tr>\n",
       "      <th>3</th>\n",
       "      <td>0</td>\n",
       "      <td>1</td>\n",
       "      <td>1</td>\n",
       "      <td>80</td>\n",
       "      <td>7.61</td>\n",
       "      <td>1</td>\n",
       "      <td>1</td>\n",
       "      <td>47.80</td>\n",
       "    </tr>\n",
       "    <tr>\n",
       "      <th>4</th>\n",
       "      <td>1</td>\n",
       "      <td>0</td>\n",
       "      <td>1</td>\n",
       "      <td>90</td>\n",
       "      <td>5.06</td>\n",
       "      <td>1</td>\n",
       "      <td>1</td>\n",
       "      <td>6.30</td>\n",
       "    </tr>\n",
       "  </tbody>\n",
       "</table>\n",
       "</div>"
      ],
      "text/plain": [
       "   sex  diagnosis  loc  ki    gtv  stereo  status   time\n",
       "0    0          2    0  90   6.11       0       0  57.64\n",
       "1    1          0    1  90  19.35       1       1   8.98\n",
       "2    0          2    0  70   7.95       0       0  26.46\n",
       "3    0          1    1  80   7.61       1       1  47.80\n",
       "4    1          0    1  90   5.06       1       1   6.30"
      ]
     },
     "execution_count": 80,
     "metadata": {},
     "output_type": "execute_result"
    }
   ],
   "source": [
    "df.head()"
   ]
  },
  {
   "cell_type": "code",
   "execution_count": 81,
   "id": "067d5a99",
   "metadata": {},
   "outputs": [
    {
     "data": {
      "text/plain": [
       "(87, 7)"
      ]
     },
     "execution_count": 81,
     "metadata": {},
     "output_type": "execute_result"
    }
   ],
   "source": [
    "X.shape"
   ]
  },
  {
   "cell_type": "code",
   "execution_count": 82,
   "id": "acd98521",
   "metadata": {},
   "outputs": [
    {
     "data": {
      "text/plain": [
       "numpy.ndarray"
      ]
     },
     "execution_count": 82,
     "metadata": {},
     "output_type": "execute_result"
    }
   ],
   "source": [
    "type(X)"
   ]
  },
  {
   "cell_type": "code",
   "execution_count": 83,
   "id": "2ae50b5e",
   "metadata": {},
   "outputs": [
    {
     "data": {
      "text/plain": [
       "2"
      ]
     },
     "execution_count": 83,
     "metadata": {},
     "output_type": "execute_result"
    }
   ],
   "source": [
    "# Number of dimentional array\n",
    "X.ndim"
   ]
  },
  {
   "cell_type": "markdown",
   "id": "1a2be7b6",
   "metadata": {},
   "source": [
    "## Normalize Data\n",
    "\n",
    "Some algorithm in machine learning is sensitive to scale of data, meaning features with higher magnitudes unduly influence the model. To prevent this, normalize(scale data)."
   ]
  },
  {
   "cell_type": "code",
   "execution_count": 84,
   "id": "b734fa80",
   "metadata": {
    "scrolled": true
   },
   "outputs": [
    {
     "data": {
      "text/plain": [
       "array([-0.82041265,  1.2188988 , -0.82041265,  1.2188988 ,  1.2188988 ,\n",
       "       -0.82041265, -0.82041265, -0.82041265, -0.82041265, -0.82041265,\n",
       "        1.2188988 , -0.82041265, -0.82041265, -0.82041265,  1.2188988 ,\n",
       "        1.2188988 , -0.82041265,  1.2188988 , -0.82041265, -0.82041265,\n",
       "        1.2188988 , -0.82041265,  1.2188988 ,  1.2188988 ,  1.2188988 ,\n",
       "        1.2188988 ,  1.2188988 , -0.82041265, -0.82041265,  1.2188988 ,\n",
       "       -0.82041265,  1.2188988 , -0.82041265, -0.82041265, -0.82041265,\n",
       "       -0.82041265,  1.2188988 ,  1.2188988 , -0.82041265, -0.82041265,\n",
       "        1.2188988 , -0.82041265,  1.2188988 , -0.82041265,  1.2188988 ,\n",
       "       -0.82041265,  1.2188988 ,  1.2188988 , -0.82041265, -0.82041265,\n",
       "       -0.82041265,  1.2188988 , -0.82041265,  1.2188988 , -0.82041265,\n",
       "       -0.82041265,  1.2188988 ,  1.2188988 , -0.82041265,  1.2188988 ,\n",
       "        1.2188988 ,  1.2188988 , -0.82041265, -0.82041265, -0.82041265,\n",
       "        1.2188988 , -0.82041265, -0.82041265, -0.82041265, -0.82041265,\n",
       "        1.2188988 , -0.82041265,  1.2188988 , -0.82041265, -0.82041265,\n",
       "       -0.82041265, -0.82041265, -0.82041265, -0.82041265,  1.2188988 ,\n",
       "       -0.82041265, -0.82041265,  1.2188988 ,  1.2188988 , -0.82041265,\n",
       "       -0.82041265, -0.82041265])"
      ]
     },
     "execution_count": 84,
     "metadata": {},
     "output_type": "execute_result"
    }
   ],
   "source": [
    "from sklearn import preprocessing\n",
    "\n",
    "X = preprocessing.StandardScaler().fit(X).transform(X.astype(float))\n",
    "X[:,5]"
   ]
  },
  {
   "cell_type": "markdown",
   "id": "722d0c87",
   "metadata": {},
   "source": [
    "# 3) Split the dataset\n",
    "\n",
    "\n",
    "Trainning data or training set : Use to build our machine learning model.\n",
    "\n",
    "Test Data, test set of hold-out-set: The rest of the data will be use to acccess how well the model works.\n",
    "\n",
    "Note: We split our dataset into a training set, to build our model, and a test set, to evaluate how well our model will generize to new, previously unseen data."
   ]
  },
  {
   "cell_type": "code",
   "execution_count": 85,
   "id": "56598856",
   "metadata": {},
   "outputs": [
    {
     "data": {
      "text/plain": [
       "array([[ 1.03509834, -1.89181061, -0.08787496, -0.97838349, -1.66811531,\n",
       "        -0.82041265,  0.32462539],\n",
       "       [ 1.03509834,  0.52859414,  1.82340532,  1.87460524,  0.59947894,\n",
       "        -0.82041265, -0.3730705 ],\n",
       "       [-0.96609178, -1.89181061,  0.86776518, -0.24809233, -1.66811531,\n",
       "        -0.82041265,  0.35417605],\n",
       "       [ 1.03509834,  0.52859414,  0.86776518, -0.70799088, -1.66811531,\n",
       "        -0.82041265,  0.86154571],\n",
       "       [ 1.03509834,  0.52859414,  0.86776518, -0.97145034,  0.59947894,\n",
       "         1.2188988 , -0.53885467],\n",
       "       [-0.96609178,  0.52859414,  0.86776518, -0.45839769, -1.66811531,\n",
       "        -0.82041265,  1.89481681],\n",
       "       [ 1.03509834,  0.52859414,  1.82340532, -0.71145745,  0.59947894,\n",
       "        -0.82041265, -0.78677963],\n",
       "       [ 1.03509834, -1.89181061, -1.04351509, -1.00264949, -1.66811531,\n",
       "        -0.82041265, -0.17623311],\n",
       "       [-0.96609178,  0.52859414, -0.08787496, -0.44684245, -1.66811531,\n",
       "        -0.82041265,  1.28026342],\n",
       "       [-0.96609178,  0.52859414, -0.08787496, -0.82238775,  0.59947894,\n",
       "        -0.82041265, -1.26009091],\n",
       "       [-0.96609178, -1.89181061, -1.04351509,  0.55037475,  0.59947894,\n",
       "         1.2188988 , -0.81983629],\n",
       "       [-0.96609178,  0.52859414, -0.08787496, -0.24115918,  0.59947894,\n",
       "        -0.82041265, -0.6229989 ],\n",
       "       [ 1.03509834,  0.52859414, -0.08787496,  2.3784137 ,  0.59947894,\n",
       "        -0.82041265, -1.10382306],\n",
       "       [ 1.03509834,  0.52859414, -1.99915523, -0.18453851, -1.66811531,\n",
       "         1.2188988 ,  0.20341764],\n",
       "       [ 1.03509834,  0.52859414,  0.86776518,  0.24416089,  0.59947894,\n",
       "        -0.82041265,  2.77332262],\n",
       "       [ 1.03509834,  0.52859414, -0.08787496,  0.45562178,  0.59947894,\n",
       "         1.2188988 , -1.15340805],\n",
       "       [-0.96609178,  0.52859414, -1.04351509,  0.64397219,  0.59947894,\n",
       "        -0.82041265, -1.00214878],\n",
       "       [ 1.03509834,  0.52859414, -0.08787496,  0.42557816,  0.59947894,\n",
       "        -0.82041265,  0.74684911],\n",
       "       [-0.96609178,  0.52859414,  0.86776518, -0.99918292,  0.59947894,\n",
       "        -0.82041265,  0.22445369],\n",
       "       [-0.96609178,  0.52859414, -3.9104355 ,  1.63887834,  0.59947894,\n",
       "         1.2188988 , -1.19247502],\n",
       "       [-0.96609178,  0.52859414, -0.08787496, -0.67794725, -1.66811531,\n",
       "        -0.82041265, -0.1401713 ],\n",
       "       [-0.96609178,  0.52859414, -0.08787496, -0.98185006,  0.59947894,\n",
       "         1.2188988 , -0.80981912],\n",
       "       [ 1.03509834,  0.52859414, -1.99915523,  2.99893008,  0.59947894,\n",
       "         1.2188988 , -0.7822719 ],\n",
       "       [ 1.03509834,  0.52859414, -1.04351509, -0.89171919,  0.59947894,\n",
       "         1.2188988 , -1.29114414],\n",
       "       [-0.96609178,  0.52859414, -1.99915523,  0.056966  ,  0.59947894,\n",
       "        -0.82041265,  0.71379245],\n",
       "       [ 1.03509834,  0.52859414,  0.86776518, -0.51501837,  0.59947894,\n",
       "         1.2188988 , -0.10861721],\n",
       "       [-0.96609178,  0.52859414, -0.08787496, -0.12445126,  0.59947894,\n",
       "         1.2188988 ,  1.03233846],\n",
       "       [ 1.03509834,  0.52859414, -0.08787496,  0.55499684, -1.66811531,\n",
       "         1.2188988 , -1.0151711 ],\n",
       "       [-0.96609178,  0.52859414,  0.86776518, -0.71030192,  0.59947894,\n",
       "        -0.82041265,  0.92916161],\n",
       "       [-0.96609178,  0.52859414, -1.04351509,  0.40131215,  0.59947894,\n",
       "        -0.82041265,  0.37421039],\n",
       "       [ 1.03509834,  0.52859414, -1.04351509, -0.02738725,  0.59947894,\n",
       "        -0.82041265, -0.38959883],\n",
       "       [ 1.03509834,  0.52859414, -0.08787496, -0.63519286,  0.59947894,\n",
       "        -0.82041265,  1.43302527],\n",
       "       [ 1.03509834,  0.52859414, -0.08787496, -0.57048352,  0.59947894,\n",
       "         1.2188988 , -0.36505677],\n",
       "       [ 1.03509834,  0.52859414,  0.86776518,  0.14594135,  0.59947894,\n",
       "         1.2188988 , -1.04973034],\n",
       "       [-0.96609178, -1.89181061, -1.04351509, -0.66408096, -1.66811531,\n",
       "        -0.82041265, -1.28463298],\n",
       "       [ 1.03509834, -1.89181061, -0.08787496, -0.99109425,  0.59947894,\n",
       "        -0.82041265, -0.66557187],\n",
       "       [ 1.03509834, -1.89181061,  0.86776518, -0.94833987, -1.66811531,\n",
       "        -0.82041265,  1.36440765],\n",
       "       [ 1.03509834, -1.89181061,  0.86776518, -0.64328153,  0.59947894,\n",
       "        -0.82041265, -0.41263832],\n",
       "       [-0.96609178, -1.89181061,  0.86776518,  0.06389915,  0.59947894,\n",
       "        -0.82041265, -0.01696011],\n",
       "       [-0.96609178,  0.52859414, -0.08787496,  2.0363786 ,  0.59947894,\n",
       "         1.2188988 ,  0.61862934],\n",
       "       [ 1.03509834,  0.52859414,  0.86776518, -0.77038917, -1.66811531,\n",
       "        -0.82041265,  0.74534654],\n",
       "       [-0.96609178, -1.89181061, -1.99915523,  1.76945255,  0.59947894,\n",
       "         1.2188988 , -1.02017969],\n",
       "       [ 1.03509834,  0.52859414, -0.08787496,  1.41470669,  0.59947894,\n",
       "         1.2188988 ,  0.19840905],\n",
       "       [ 1.03509834,  0.52859414, -1.99915523, -0.56355038,  0.59947894,\n",
       "        -0.82041265,  0.44633401],\n",
       "       [-0.96609178,  0.52859414, -1.04351509, -0.22960394,  0.59947894,\n",
       "        -0.82041265, -0.63251521],\n",
       "       [ 1.03509834,  0.52859414, -0.08787496, -0.45262007,  0.59947894,\n",
       "        -0.82041265,  2.01301941],\n",
       "       [-0.96609178,  0.52859414,  0.86776518, -0.71839059,  0.59947894,\n",
       "        -0.82041265, -0.4817568 ],\n",
       "       [-0.96609178,  0.52859414, -0.08787496, -0.98185006, -1.66811531,\n",
       "        -0.82041265, -0.78527705],\n",
       "       [-0.96609178,  0.52859414,  1.82340532,  0.11243116,  0.59947894,\n",
       "        -0.82041265,  0.60410444],\n",
       "       [-0.96609178,  0.52859414, -0.08787496,  0.36317986,  0.59947894,\n",
       "         1.2188988 , -0.2583739 ],\n",
       "       [ 1.03509834, -1.89181061, -0.08787496, -0.21689318, -1.66811531,\n",
       "        -0.82041265,  1.49863773],\n",
       "       [ 1.03509834,  0.52859414, -0.08787496, -0.98531663,  0.59947894,\n",
       "         1.2188988 , -0.32548894],\n",
       "       [-0.96609178,  0.52859414, -0.08787496,  0.39206796,  0.59947894,\n",
       "         1.2188988 , -0.99864277],\n",
       "       [ 1.03509834,  0.52859414, -0.08787496,  0.10318696,  0.59947894,\n",
       "        -0.82041265,  2.58249553],\n",
       "       [-0.96609178,  0.52859414, -0.08787496, -0.72763478, -1.66811531,\n",
       "        -0.82041265,  2.33156542],\n",
       "       [ 1.03509834, -1.89181061, -0.08787496,  0.44175549,  0.59947894,\n",
       "         1.2188988 ,  0.12578457],\n",
       "       [-0.96609178,  0.52859414, -0.08787496, -0.90558548, -1.66811531,\n",
       "         1.2188988 , -1.0562415 ],\n",
       "       [ 1.03509834,  0.52859414,  0.86776518,  1.2321339 ,  0.59947894,\n",
       "         1.2188988 , -0.91199425],\n",
       "       [ 1.03509834, -1.89181061, -0.08787496,  1.81682904,  0.59947894,\n",
       "        -0.82041265,  0.61862934],\n",
       "       [-0.96609178, -1.89181061, -0.08787496, -0.75998945, -1.66811531,\n",
       "        -0.82041265, -0.83636462],\n",
       "       [-0.96609178, -1.89181061, -1.04351509, -0.08516345, -1.66811531,\n",
       "        -0.82041265, -0.03649359],\n",
       "       [-0.96609178,  0.52859414, -1.04351509, -0.25502547,  0.59947894,\n",
       "         1.2188988 ,  0.31160307],\n",
       "       [ 1.03509834, -1.89181061,  0.86776518,  2.51014343,  0.59947894,\n",
       "        -0.82041265, -1.30266389],\n",
       "       [-0.96609178,  0.52859414, -0.08787496,  2.66382812,  0.59947894,\n",
       "        -0.82041265,  1.50564975],\n",
       "       [ 1.03509834,  0.52859414, -1.04351509,  0.66477162,  0.59947894,\n",
       "         1.2188988 , -0.66056328],\n",
       "       [ 1.03509834,  0.52859414, -0.08787496,  0.32620309,  0.59947894,\n",
       "         1.2188988 , -0.62951006],\n",
       "       [ 1.03509834,  0.52859414,  0.86776518, -0.69874668,  0.59947894,\n",
       "        -0.82041265, -0.35353702],\n",
       "       [-0.96609178,  0.52859414, -1.04351509,  0.31118128, -1.66811531,\n",
       "         1.2188988 , -1.00865994],\n",
       "       [ 1.03509834,  0.52859414,  0.86776518, -0.71492402,  0.59947894,\n",
       "         1.2188988 , -0.87242643]])"
      ]
     },
     "execution_count": 85,
     "metadata": {},
     "output_type": "execute_result"
    }
   ],
   "source": [
    "from sklearn.model_selection import train_test_split\n",
    "X_train, X_test, y_train, y_test = train_test_split( X, y, test_size=0.2, random_state=42)\n",
    "X_train"
   ]
  },
  {
   "cell_type": "code",
   "execution_count": 86,
   "id": "85da1a20",
   "metadata": {},
   "outputs": [
    {
     "name": "stdout",
     "output_type": "stream",
     "text": [
      "X_train shape: (69, 7)\n",
      "y_train shape: (69,)\n",
      "\n",
      "X_test shape: (18, 7)\n",
      "y_test shape: (18,)\n"
     ]
    }
   ],
   "source": [
    "# Printing the number of samples and features in the training and test dataset.\n",
    "\n",
    "print('X_train shape: {}'.format(X_train.shape))\n",
    "print('y_train shape: {}'.format(y_train.shape))\n",
    "print('')\n",
    "print('X_test shape: {}'.format(X_test.shape))\n",
    "print('y_test shape: {}'.format(y_test.shape))"
   ]
  },
  {
   "cell_type": "markdown",
   "id": "4594b4f8",
   "metadata": {},
   "source": [
    "# 4) Building a model in machine learning"
   ]
  },
  {
   "cell_type": "markdown",
   "id": "e5c16502",
   "metadata": {},
   "source": [
    "# Naive Bayers\n",
    "It is algorithms that learns tbe property of every features, and which group they belongs to."
   ]
  },
  {
   "cell_type": "code",
   "execution_count": 87,
   "id": "5698076c",
   "metadata": {},
   "outputs": [
    {
     "data": {
      "text/html": [
       "<style>#sk-container-id-4 {color: black;}#sk-container-id-4 pre{padding: 0;}#sk-container-id-4 div.sk-toggleable {background-color: white;}#sk-container-id-4 label.sk-toggleable__label {cursor: pointer;display: block;width: 100%;margin-bottom: 0;padding: 0.3em;box-sizing: border-box;text-align: center;}#sk-container-id-4 label.sk-toggleable__label-arrow:before {content: \"▸\";float: left;margin-right: 0.25em;color: #696969;}#sk-container-id-4 label.sk-toggleable__label-arrow:hover:before {color: black;}#sk-container-id-4 div.sk-estimator:hover label.sk-toggleable__label-arrow:before {color: black;}#sk-container-id-4 div.sk-toggleable__content {max-height: 0;max-width: 0;overflow: hidden;text-align: left;background-color: #f0f8ff;}#sk-container-id-4 div.sk-toggleable__content pre {margin: 0.2em;color: black;border-radius: 0.25em;background-color: #f0f8ff;}#sk-container-id-4 input.sk-toggleable__control:checked~div.sk-toggleable__content {max-height: 200px;max-width: 100%;overflow: auto;}#sk-container-id-4 input.sk-toggleable__control:checked~label.sk-toggleable__label-arrow:before {content: \"▾\";}#sk-container-id-4 div.sk-estimator input.sk-toggleable__control:checked~label.sk-toggleable__label {background-color: #d4ebff;}#sk-container-id-4 div.sk-label input.sk-toggleable__control:checked~label.sk-toggleable__label {background-color: #d4ebff;}#sk-container-id-4 input.sk-hidden--visually {border: 0;clip: rect(1px 1px 1px 1px);clip: rect(1px, 1px, 1px, 1px);height: 1px;margin: -1px;overflow: hidden;padding: 0;position: absolute;width: 1px;}#sk-container-id-4 div.sk-estimator {font-family: monospace;background-color: #f0f8ff;border: 1px dotted black;border-radius: 0.25em;box-sizing: border-box;margin-bottom: 0.5em;}#sk-container-id-4 div.sk-estimator:hover {background-color: #d4ebff;}#sk-container-id-4 div.sk-parallel-item::after {content: \"\";width: 100%;border-bottom: 1px solid gray;flex-grow: 1;}#sk-container-id-4 div.sk-label:hover label.sk-toggleable__label {background-color: #d4ebff;}#sk-container-id-4 div.sk-serial::before {content: \"\";position: absolute;border-left: 1px solid gray;box-sizing: border-box;top: 0;bottom: 0;left: 50%;z-index: 0;}#sk-container-id-4 div.sk-serial {display: flex;flex-direction: column;align-items: center;background-color: white;padding-right: 0.2em;padding-left: 0.2em;position: relative;}#sk-container-id-4 div.sk-item {position: relative;z-index: 1;}#sk-container-id-4 div.sk-parallel {display: flex;align-items: stretch;justify-content: center;background-color: white;position: relative;}#sk-container-id-4 div.sk-item::before, #sk-container-id-4 div.sk-parallel-item::before {content: \"\";position: absolute;border-left: 1px solid gray;box-sizing: border-box;top: 0;bottom: 0;left: 50%;z-index: -1;}#sk-container-id-4 div.sk-parallel-item {display: flex;flex-direction: column;z-index: 1;position: relative;background-color: white;}#sk-container-id-4 div.sk-parallel-item:first-child::after {align-self: flex-end;width: 50%;}#sk-container-id-4 div.sk-parallel-item:last-child::after {align-self: flex-start;width: 50%;}#sk-container-id-4 div.sk-parallel-item:only-child::after {width: 0;}#sk-container-id-4 div.sk-dashed-wrapped {border: 1px dashed gray;margin: 0 0.4em 0.5em 0.4em;box-sizing: border-box;padding-bottom: 0.4em;background-color: white;}#sk-container-id-4 div.sk-label label {font-family: monospace;font-weight: bold;display: inline-block;line-height: 1.2em;}#sk-container-id-4 div.sk-label-container {text-align: center;}#sk-container-id-4 div.sk-container {/* jupyter's `normalize.less` sets `[hidden] { display: none; }` but bootstrap.min.css set `[hidden] { display: none !important; }` so we also need the `!important` here to be able to override the default hidden behavior on the sphinx rendered scikit-learn.org. See: https://github.com/scikit-learn/scikit-learn/issues/21755 */display: inline-block !important;position: relative;}#sk-container-id-4 div.sk-text-repr-fallback {display: none;}</style><div id=\"sk-container-id-4\" class=\"sk-top-container\"><div class=\"sk-text-repr-fallback\"><pre>GaussianNB()</pre><b>In a Jupyter environment, please rerun this cell to show the HTML representation or trust the notebook. <br />On GitHub, the HTML representation is unable to render, please try loading this page with nbviewer.org.</b></div><div class=\"sk-container\" hidden><div class=\"sk-item\"><div class=\"sk-estimator sk-toggleable\"><input class=\"sk-toggleable__control sk-hidden--visually\" id=\"sk-estimator-id-4\" type=\"checkbox\" checked><label for=\"sk-estimator-id-4\" class=\"sk-toggleable__label sk-toggleable__label-arrow\">GaussianNB</label><div class=\"sk-toggleable__content\"><pre>GaussianNB()</pre></div></div></div></div></div>"
      ],
      "text/plain": [
       "GaussianNB()"
      ]
     },
     "execution_count": 87,
     "metadata": {},
     "output_type": "execute_result"
    }
   ],
   "source": [
    "# Fitting of Native Bayers Algorithm to the Training Dataset.\n",
    "\n",
    "from sklearn.naive_bayes import GaussianNB\n",
    "gnb = GaussianNB()\n",
    "gnb.fit(X_train,y_train)"
   ]
  },
  {
   "cell_type": "markdown",
   "id": "537f2768",
   "metadata": {},
   "source": [
    "## Predicting the model"
   ]
  },
  {
   "cell_type": "code",
   "execution_count": 88,
   "id": "9533b8f8",
   "metadata": {},
   "outputs": [
    {
     "data": {
      "text/plain": [
       "array([2, 2, 0, 3, 3, 2, 0, 2, 0, 2, 2, 0, 0, 2, 0, 2, 2, 2])"
      ]
     },
     "execution_count": 88,
     "metadata": {},
     "output_type": "execute_result"
    }
   ],
   "source": [
    "# Making prediction on the testing set\n",
    "\n",
    "y_pred = gnb.predict(X_test)\n",
    "y_pred"
   ]
  },
  {
   "cell_type": "code",
   "execution_count": 89,
   "id": "03ddeb1c",
   "metadata": {},
   "outputs": [
    {
     "name": "stdout",
     "output_type": "stream",
     "text": [
      "[0 1 2 3]\n"
     ]
    }
   ],
   "source": [
    "print(gnb.classes_)"
   ]
  },
  {
   "cell_type": "code",
   "execution_count": 90,
   "id": "8eb9ea72",
   "metadata": {},
   "outputs": [
    {
     "name": "stdout",
     "output_type": "stream",
     "text": [
      "Mapping for 'diagnosis' column:\n",
      "0 -> HG glioma\n",
      "1 -> LG glioma\n",
      "2 -> Meningioma\n",
      "3 -> Other\n"
     ]
    }
   ],
   "source": [
    "# Check the classes for 'diagnosis' column\n",
    "diagnosis_classes = label_encoders['diagnosis'].classes_\n",
    "print(\"Mapping for 'diagnosis' column:\")\n",
    "for idx, label in enumerate(diagnosis_classes):\n",
    "    print(f\"{idx} -> {label}\")\n"
   ]
  },
  {
   "cell_type": "code",
   "execution_count": 91,
   "id": "a97fcb17",
   "metadata": {},
   "outputs": [
    {
     "name": "stdout",
     "output_type": "stream",
     "text": [
      "Gaussian Naive Bayers model accuray (in %): 0.7222222222222222\n",
      "Naive Bayes Classification Report:\n",
      "\n",
      "              precision    recall  f1-score   support\n",
      "\n",
      "           0       0.83      0.83      0.83         6\n",
      "           1       0.00      0.00      0.00         1\n",
      "           2       0.80      0.80      0.80        10\n",
      "           3       0.00      0.00      0.00         1\n",
      "\n",
      "    accuracy                           0.72        18\n",
      "   macro avg       0.41      0.41      0.41        18\n",
      "weighted avg       0.72      0.72      0.72        18\n",
      "\n"
     ]
    },
    {
     "name": "stderr",
     "output_type": "stream",
     "text": [
      "C:\\Users\\bruker1\\anaconda3\\Lib\\site-packages\\sklearn\\metrics\\_classification.py:1469: UndefinedMetricWarning: Precision and F-score are ill-defined and being set to 0.0 in labels with no predicted samples. Use `zero_division` parameter to control this behavior.\n",
      "  _warn_prf(average, modifier, msg_start, len(result))\n",
      "C:\\Users\\bruker1\\anaconda3\\Lib\\site-packages\\sklearn\\metrics\\_classification.py:1469: UndefinedMetricWarning: Precision and F-score are ill-defined and being set to 0.0 in labels with no predicted samples. Use `zero_division` parameter to control this behavior.\n",
      "  _warn_prf(average, modifier, msg_start, len(result))\n",
      "C:\\Users\\bruker1\\anaconda3\\Lib\\site-packages\\sklearn\\metrics\\_classification.py:1469: UndefinedMetricWarning: Precision and F-score are ill-defined and being set to 0.0 in labels with no predicted samples. Use `zero_division` parameter to control this behavior.\n",
      "  _warn_prf(average, modifier, msg_start, len(result))\n"
     ]
    }
   ],
   "source": [
    "# comparing actual response values (y_test) with predicted response values (y_pred)\n",
    "\n",
    "from sklearn import metrics\n",
    "\n",
    "\n",
    "print('Gaussian Naive Bayers model accuray (in %):', metrics.accuracy_score(y_test,y_pred))\n",
    "\n",
    "print(\"Naive Bayes Classification Report:\")\n",
    "print('')\n",
    "print(classification_report(y_test, y_pred))\n"
   ]
  },
  {
   "cell_type": "markdown",
   "id": "6da91114",
   "metadata": {},
   "source": [
    "###  The evaluation \n",
    "\n",
    "Given: \n",
    "class 0 : HG glioma\n",
    "class 1: LG glioma\n",
    "class 2 : Meningioma\n",
    "cass 3 : Other\n",
    "\n",
    "1. The model accuracy: The model's accuracy is 72.22%, mean it correctly predicts the class for 72.22% of the test cases, but it's not specific to any of the classes. This mean the model is accurate 0f 72.22% of the test instances, but it does not neccessarily fullfill the requirement for classifying each type of cancer accurately.\n",
    "\n",
    "2. Classification report: The model perfomrs well for classes 0 and 2 with the most_frequent model but struggles with class 1 and 3 as there are no predictions of the class (whicha makes the denominator in f-score zero). \n",
    "\n",
    "    Class 0: 'HG glioma' Good percision, recall and F1 score (all are 0.83).\n",
    "    \n",
    "    class 1 'LG glioma' and 3 'Other': Percision, recall and F1 score are 0, means the model couldn't correctly predict any instance of these clases in the test set. It means the model might often miss cases of “LG glioma” and “Other” or misclassify them.\n",
    "\n",
    "    class 2 'Meningioma':show good decent result; percise, recall and F1 score are 0.80.\n",
    "    \n",
    "    So, the macro avg quite low, percision, recall and F1 score is 0.41, affected by 0 scores in class 1 and 3.\n",
    "    The last row in the classification report shows a weighted (by the number of samples in the class) avearge of number in each class.\n",
    "    \n",
    "In conclusion, \n",
    "In clusion, the model appears to have a reasonable overall accuracy, it falls short in classifying certain types of brain cancer, in 'LG glioma' and 'Other'."
   ]
  },
  {
   "cell_type": "code",
   "execution_count": 92,
   "id": "f06c2847",
   "metadata": {},
   "outputs": [
    {
     "name": "stdout",
     "output_type": "stream",
     "text": [
      "Number of mislabeled points out of a total 18 points : 5\n"
     ]
    }
   ],
   "source": [
    "# Calculate and prints the number of mislables points out of the total number of test points.\n",
    "# The output mean that  out of the 18 data points in the test set, the model miss classified 5 of them.\n",
    "\n",
    "print('Number of mislabeled points out of a total %d points : %d'\n",
    "     % (X_test.shape[0], (y_test != y_pred).sum()))"
   ]
  },
  {
   "cell_type": "code",
   "execution_count": 93,
   "id": "4f74e5e4",
   "metadata": {},
   "outputs": [
    {
     "data": {
      "text/plain": [
       "array([0.28571429, 0.28571429, 0.57142857, 0.14285714, 0.53846154])"
      ]
     },
     "execution_count": 93,
     "metadata": {},
     "output_type": "execute_result"
    }
   ],
   "source": [
    "# Use cross-validation to assess the performance of the Gaussian Naive Bayes model.\n",
    "# In order to get a better estimate of model performance by training, testing on differnt subsets of data.\n",
    "# The results is the accurate scores of the model for each of 5 cross-validation folds.\n",
    "\n",
    "from sklearn.model_selection import cross_val_score\n",
    "cross_val_score(GaussianNB(), X_train, y_train, cv=5)"
   ]
  },
  {
   "cell_type": "code",
   "execution_count": 94,
   "id": "a77a6fa3",
   "metadata": {},
   "outputs": [
    {
     "data": {
      "text/plain": [
       "<Axes: >"
      ]
     },
     "execution_count": 94,
     "metadata": {},
     "output_type": "execute_result"
    },
    {
     "data": {
      "image/png": "[encoded data removed]",
      "text/plain": [
       "<Figure size 640x480 with 2 Axes>"
      ]
     },
     "metadata": {},
     "output_type": "display_data"
    }
   ],
   "source": [
    "# A confusion matrix helps to understand the quality of the model. It describes the production of a classification model on a set of test data for which you know the true values. Every row in a confusion matrix portrays an actual class, and every column portrays the predicted class.\n",
    "\n",
    "cm = confusion_matrix(y_test, y_pred)\n",
    "sns.heatmap(cm, annot=True)"
   ]
  },
  {
   "cell_type": "markdown",
   "id": "06649b9d",
   "metadata": {},
   "source": [
    "The heatmap of confusion matrix, evaluates the performance of the model.We can see that the matrix shows the true class (rows) versus the predicted class (columns), Diagonal values (e.g., top-left \"5\" or middle \"8\") show correct predictions, Off-diagonal values (e.g., top-right \"1\") show incorrect predictions."
   ]
  },
  {
   "cell_type": "markdown",
   "id": "3523dd1e",
   "metadata": {},
   "source": [
    "# Polynomial Regression"
   ]
  },
  {
   "cell_type": "code",
   "execution_count": 95,
   "id": "3d1bc205",
   "metadata": {},
   "outputs": [
    {
     "name": "stdout",
     "output_type": "stream",
     "text": [
      "[[ 1.          1.03509834 -1.89181061 ...  0.67307692 -0.26632678\n",
      "   0.10538165]\n",
      " [ 1.          1.03509834  0.52859414 ...  0.67307692  0.30607176\n",
      "   0.1391816 ]\n",
      " [ 1.         -0.96609178 -1.89181061 ...  0.67307692 -0.29057051\n",
      "   0.12544067]\n",
      " ...\n",
      " [ 1.          1.03509834  0.52859414 ...  0.67307692  0.29004625\n",
      "   0.12498842]\n",
      " [ 1.         -0.96609178  0.52859414 ...  1.48571429 -1.2294544\n",
      "   1.01739488]\n",
      " [ 1.          1.03509834  0.52859414 ...  1.48571429 -1.06339953\n",
      "   0.76112788]]\n",
      "\n",
      "X_train.shape: (69, 7)\n",
      "X_train_poly.shape: (69, 36)\n"
     ]
    }
   ],
   "source": [
    "from sklearn.preprocessing import PolynomialFeatures\n",
    "\n",
    "# The default 'include_bias=True' add a feaures that constantly 1\n",
    "# include polynomials up to x ** 10\n",
    "\n",
    "poly = PolynomialFeatures(degree=2, include_bias=True)\n",
    "X_train_poly = poly.fit_transform(X_train)\n",
    "X_test_poly = poly.fit_transform(X_test)\n",
    "print(X_train_poly)\n",
    "print('')\n",
    "print('X_train.shape: {}'.format(X_train.shape))\n",
    "print('X_train_poly.shape: {}'.format(X_train_poly.shape))"
   ]
  },
  {
   "cell_type": "markdown",
   "id": "f0082492",
   "metadata": {},
   "source": [
    "Note: The data first had 7 features, then expanded into 36 interaction features.Which mean these new features represent all possible interactions beween two different original features, as well as the square of each original feature; degree=2 here means that we looks at all features that are the product of up to two original features.The extract correspondence between input and output features can be found using the get feature_name_out."
   ]
  },
  {
   "cell_type": "code",
   "execution_count": 96,
   "id": "4d3c0b1d",
   "metadata": {},
   "outputs": [
    {
     "name": "stdout",
     "output_type": "stream",
     "text": [
      "Polynomial feature names:\n",
      "['1' 'x0' 'x1' 'x2' 'x3' 'x4' 'x5' 'x6' 'x0^2' 'x0 x1' 'x0 x2' 'x0 x3'\n",
      " 'x0 x4' 'x0 x5' 'x0 x6' 'x1^2' 'x1 x2' 'x1 x3' 'x1 x4' 'x1 x5' 'x1 x6'\n",
      " 'x2^2' 'x2 x3' 'x2 x4' 'x2 x5' 'x2 x6' 'x3^2' 'x3 x4' 'x3 x5' 'x3 x6'\n",
      " 'x4^2' 'x4 x5' 'x4 x6' 'x5^2' 'x5 x6' 'x6^2']\n"
     ]
    }
   ],
   "source": [
    "feature_names = poly.get_feature_names_out(input_features=None)\n",
    "\n",
    "print('Polynomial feature names:\\n{}'.format(feature_names))"
   ]
  },
  {
   "cell_type": "code",
   "execution_count": 97,
   "id": "318d966b",
   "metadata": {},
   "outputs": [],
   "source": [
    "from sklearn.linear_model import LogisticRegression\n",
    "\n",
    "logreg = LogisticRegression(max_iter=10000)\n",
    "logreg.fit(X_train_poly, y_train)\n",
    "y_pred_poly = logreg.predict(X_test_poly)\n",
    "\n",
    "# This use for regresion problem where oitput in continous, in this case we are trying to classify brain cancer diagnosis types.\n",
    "# Which is categorical output using linear is not make sense.\n",
    "# Predicting a categorical outcome (i.e., the type of brain cancer), so we should use a classification algorithm, like LogisticRegression, not LinearRegression.\n",
    "# Poliminal suppose to shows the highest."
   ]
  },
  {
   "cell_type": "code",
   "execution_count": 98,
   "id": "c41a93ca",
   "metadata": {},
   "outputs": [
    {
     "name": "stdout",
     "output_type": "stream",
     "text": [
      "              precision    recall  f1-score   support\n",
      "\n",
      "           0       0.71      0.83      0.77         6\n",
      "           1       0.50      1.00      0.67         1\n",
      "           2       0.71      0.50      0.59        10\n",
      "           3       0.00      0.00      0.00         1\n",
      "\n",
      "    accuracy                           0.61        18\n",
      "   macro avg       0.48      0.58      0.51        18\n",
      "weighted avg       0.66      0.61      0.62        18\n",
      "\n",
      "Accuracy: 0.6111111111111112\n"
     ]
    }
   ],
   "source": [
    "    # Prediction of Polynomial Regression\n",
    "\n",
    "    print(classification_report(y_test, y_pred_poly))\n",
    "    print(\"Accuracy:\", accuracy_score(y_test, y_pred_poly))"
   ]
  },
  {
   "cell_type": "markdown",
   "id": "f13f7146",
   "metadata": {},
   "source": [
    "###  The evaluation \n",
    "\n",
    "Class 0: 'HG glioma' Good percision of 0.71 which means that when the model predicts 'HG glioma', it's correct about 71% of the time. Recall 0.83, suggests the model is good at capturing the majority of 'HG glioma' instances, and F1 score 0.77, this mean that persicion and recll give the balance view of two in a single metric. \n",
    "    \n",
    "class 1 'LG glioma' percision of 0.50 mean, it coreect 50% of the tiem. Recall 1.00, indicate that the model corectly identified all \"LG glioma\" or mean that not too many instances and F1 score 0.67, a balance between percision and recall, given the lower perdiction on percision; the model might be over perdicting.\n",
    "\n",
    "class 2 'Meningioma':  percision of 0.71, mean the perdiction is corect 71% of the time, recall 0.50, the model identified only 50% of the actual 'Meningioma'data and F1 score 0.59.\n",
    "\n",
    "class 3 'Other': Percision, recall and F1 score are 0, means the model couldn't correctly predict any instance of these class in the test set.\n",
    "\n",
    "In conclusion, the model's overall accuracy is 61.11%, considered moderate. The model perform well for class 0 and class 1 but struggles with class 3."
   ]
  },
  {
   "cell_type": "markdown",
   "id": "14a2cca7",
   "metadata": {},
   "source": [
    "# K nearest neighbor (KNN)"
   ]
  },
  {
   "cell_type": "markdown",
   "id": "de434dc5",
   "metadata": {},
   "source": [
    "## Import libaries"
   ]
  },
  {
   "cell_type": "code",
   "execution_count": 99,
   "id": "14c2636f",
   "metadata": {},
   "outputs": [],
   "source": [
    "from sklearn.neighbors import KNeighborsClassifier"
   ]
  },
  {
   "cell_type": "markdown",
   "id": "b5a8fa64",
   "metadata": {},
   "source": [
    "## Training\n",
    "Start algorithm with K=4"
   ]
  },
  {
   "cell_type": "code",
   "execution_count": 100,
   "id": "9db9b640",
   "metadata": {},
   "outputs": [
    {
     "data": {
      "text/html": [
       "<style>#sk-container-id-5 {color: black;}#sk-container-id-5 pre{padding: 0;}#sk-container-id-5 div.sk-toggleable {background-color: white;}#sk-container-id-5 label.sk-toggleable__label {cursor: pointer;display: block;width: 100%;margin-bottom: 0;padding: 0.3em;box-sizing: border-box;text-align: center;}#sk-container-id-5 label.sk-toggleable__label-arrow:before {content: \"▸\";float: left;margin-right: 0.25em;color: #696969;}#sk-container-id-5 label.sk-toggleable__label-arrow:hover:before {color: black;}#sk-container-id-5 div.sk-estimator:hover label.sk-toggleable__label-arrow:before {color: black;}#sk-container-id-5 div.sk-toggleable__content {max-height: 0;max-width: 0;overflow: hidden;text-align: left;background-color: #f0f8ff;}#sk-container-id-5 div.sk-toggleable__content pre {margin: 0.2em;color: black;border-radius: 0.25em;background-color: #f0f8ff;}#sk-container-id-5 input.sk-toggleable__control:checked~div.sk-toggleable__content {max-height: 200px;max-width: 100%;overflow: auto;}#sk-container-id-5 input.sk-toggleable__control:checked~label.sk-toggleable__label-arrow:before {content: \"▾\";}#sk-container-id-5 div.sk-estimator input.sk-toggleable__control:checked~label.sk-toggleable__label {background-color: #d4ebff;}#sk-container-id-5 div.sk-label input.sk-toggleable__control:checked~label.sk-toggleable__label {background-color: #d4ebff;}#sk-container-id-5 input.sk-hidden--visually {border: 0;clip: rect(1px 1px 1px 1px);clip: rect(1px, 1px, 1px, 1px);height: 1px;margin: -1px;overflow: hidden;padding: 0;position: absolute;width: 1px;}#sk-container-id-5 div.sk-estimator {font-family: monospace;background-color: #f0f8ff;border: 1px dotted black;border-radius: 0.25em;box-sizing: border-box;margin-bottom: 0.5em;}#sk-container-id-5 div.sk-estimator:hover {background-color: #d4ebff;}#sk-container-id-5 div.sk-parallel-item::after {content: \"\";width: 100%;border-bottom: 1px solid gray;flex-grow: 1;}#sk-container-id-5 div.sk-label:hover label.sk-toggleable__label {background-color: #d4ebff;}#sk-container-id-5 div.sk-serial::before {content: \"\";position: absolute;border-left: 1px solid gray;box-sizing: border-box;top: 0;bottom: 0;left: 50%;z-index: 0;}#sk-container-id-5 div.sk-serial {display: flex;flex-direction: column;align-items: center;background-color: white;padding-right: 0.2em;padding-left: 0.2em;position: relative;}#sk-container-id-5 div.sk-item {position: relative;z-index: 1;}#sk-container-id-5 div.sk-parallel {display: flex;align-items: stretch;justify-content: center;background-color: white;position: relative;}#sk-container-id-5 div.sk-item::before, #sk-container-id-5 div.sk-parallel-item::before {content: \"\";position: absolute;border-left: 1px solid gray;box-sizing: border-box;top: 0;bottom: 0;left: 50%;z-index: -1;}#sk-container-id-5 div.sk-parallel-item {display: flex;flex-direction: column;z-index: 1;position: relative;background-color: white;}#sk-container-id-5 div.sk-parallel-item:first-child::after {align-self: flex-end;width: 50%;}#sk-container-id-5 div.sk-parallel-item:last-child::after {align-self: flex-start;width: 50%;}#sk-container-id-5 div.sk-parallel-item:only-child::after {width: 0;}#sk-container-id-5 div.sk-dashed-wrapped {border: 1px dashed gray;margin: 0 0.4em 0.5em 0.4em;box-sizing: border-box;padding-bottom: 0.4em;background-color: white;}#sk-container-id-5 div.sk-label label {font-family: monospace;font-weight: bold;display: inline-block;line-height: 1.2em;}#sk-container-id-5 div.sk-label-container {text-align: center;}#sk-container-id-5 div.sk-container {/* jupyter's `normalize.less` sets `[hidden] { display: none; }` but bootstrap.min.css set `[hidden] { display: none !important; }` so we also need the `!important` here to be able to override the default hidden behavior on the sphinx rendered scikit-learn.org. See: https://github.com/scikit-learn/scikit-learn/issues/21755 */display: inline-block !important;position: relative;}#sk-container-id-5 div.sk-text-repr-fallback {display: none;}</style><div id=\"sk-container-id-5\" class=\"sk-top-container\"><div class=\"sk-text-repr-fallback\"><pre>KNeighborsClassifier(n_neighbors=4)</pre><b>In a Jupyter environment, please rerun this cell to show the HTML representation or trust the notebook. <br />On GitHub, the HTML representation is unable to render, please try loading this page with nbviewer.org.</b></div><div class=\"sk-container\" hidden><div class=\"sk-item\"><div class=\"sk-estimator sk-toggleable\"><input class=\"sk-toggleable__control sk-hidden--visually\" id=\"sk-estimator-id-5\" type=\"checkbox\" checked><label for=\"sk-estimator-id-5\" class=\"sk-toggleable__label sk-toggleable__label-arrow\">KNeighborsClassifier</label><div class=\"sk-toggleable__content\"><pre>KNeighborsClassifier(n_neighbors=4)</pre></div></div></div></div></div>"
      ],
      "text/plain": [
       "KNeighborsClassifier(n_neighbors=4)"
      ]
     },
     "execution_count": 100,
     "metadata": {},
     "output_type": "execute_result"
    }
   ],
   "source": [
    "k=4\n",
    "#Train model and Predict\n",
    "knn_neighbor = KNeighborsClassifier(n_neighbors = k)\n",
    "knn_neighbor"
   ]
  },
  {
   "cell_type": "code",
   "execution_count": 101,
   "id": "4d8aed16",
   "metadata": {},
   "outputs": [
    {
     "data": {
      "text/html": [
       "<style>#sk-container-id-6 {color: black;}#sk-container-id-6 pre{padding: 0;}#sk-container-id-6 div.sk-toggleable {background-color: white;}#sk-container-id-6 label.sk-toggleable__label {cursor: pointer;display: block;width: 100%;margin-bottom: 0;padding: 0.3em;box-sizing: border-box;text-align: center;}#sk-container-id-6 label.sk-toggleable__label-arrow:before {content: \"▸\";float: left;margin-right: 0.25em;color: #696969;}#sk-container-id-6 label.sk-toggleable__label-arrow:hover:before {color: black;}#sk-container-id-6 div.sk-estimator:hover label.sk-toggleable__label-arrow:before {color: black;}#sk-container-id-6 div.sk-toggleable__content {max-height: 0;max-width: 0;overflow: hidden;text-align: left;background-color: #f0f8ff;}#sk-container-id-6 div.sk-toggleable__content pre {margin: 0.2em;color: black;border-radius: 0.25em;background-color: #f0f8ff;}#sk-container-id-6 input.sk-toggleable__control:checked~div.sk-toggleable__content {max-height: 200px;max-width: 100%;overflow: auto;}#sk-container-id-6 input.sk-toggleable__control:checked~label.sk-toggleable__label-arrow:before {content: \"▾\";}#sk-container-id-6 div.sk-estimator input.sk-toggleable__control:checked~label.sk-toggleable__label {background-color: #d4ebff;}#sk-container-id-6 div.sk-label input.sk-toggleable__control:checked~label.sk-toggleable__label {background-color: #d4ebff;}#sk-container-id-6 input.sk-hidden--visually {border: 0;clip: rect(1px 1px 1px 1px);clip: rect(1px, 1px, 1px, 1px);height: 1px;margin: -1px;overflow: hidden;padding: 0;position: absolute;width: 1px;}#sk-container-id-6 div.sk-estimator {font-family: monospace;background-color: #f0f8ff;border: 1px dotted black;border-radius: 0.25em;box-sizing: border-box;margin-bottom: 0.5em;}#sk-container-id-6 div.sk-estimator:hover {background-color: #d4ebff;}#sk-container-id-6 div.sk-parallel-item::after {content: \"\";width: 100%;border-bottom: 1px solid gray;flex-grow: 1;}#sk-container-id-6 div.sk-label:hover label.sk-toggleable__label {background-color: #d4ebff;}#sk-container-id-6 div.sk-serial::before {content: \"\";position: absolute;border-left: 1px solid gray;box-sizing: border-box;top: 0;bottom: 0;left: 50%;z-index: 0;}#sk-container-id-6 div.sk-serial {display: flex;flex-direction: column;align-items: center;background-color: white;padding-right: 0.2em;padding-left: 0.2em;position: relative;}#sk-container-id-6 div.sk-item {position: relative;z-index: 1;}#sk-container-id-6 div.sk-parallel {display: flex;align-items: stretch;justify-content: center;background-color: white;position: relative;}#sk-container-id-6 div.sk-item::before, #sk-container-id-6 div.sk-parallel-item::before {content: \"\";position: absolute;border-left: 1px solid gray;box-sizing: border-box;top: 0;bottom: 0;left: 50%;z-index: -1;}#sk-container-id-6 div.sk-parallel-item {display: flex;flex-direction: column;z-index: 1;position: relative;background-color: white;}#sk-container-id-6 div.sk-parallel-item:first-child::after {align-self: flex-end;width: 50%;}#sk-container-id-6 div.sk-parallel-item:last-child::after {align-self: flex-start;width: 50%;}#sk-container-id-6 div.sk-parallel-item:only-child::after {width: 0;}#sk-container-id-6 div.sk-dashed-wrapped {border: 1px dashed gray;margin: 0 0.4em 0.5em 0.4em;box-sizing: border-box;padding-bottom: 0.4em;background-color: white;}#sk-container-id-6 div.sk-label label {font-family: monospace;font-weight: bold;display: inline-block;line-height: 1.2em;}#sk-container-id-6 div.sk-label-container {text-align: center;}#sk-container-id-6 div.sk-container {/* jupyter's `normalize.less` sets `[hidden] { display: none; }` but bootstrap.min.css set `[hidden] { display: none !important; }` so we also need the `!important` here to be able to override the default hidden behavior on the sphinx rendered scikit-learn.org. See: https://github.com/scikit-learn/scikit-learn/issues/21755 */display: inline-block !important;position: relative;}#sk-container-id-6 div.sk-text-repr-fallback {display: none;}</style><div id=\"sk-container-id-6\" class=\"sk-top-container\"><div class=\"sk-text-repr-fallback\"><pre>KNeighborsClassifier(n_neighbors=4)</pre><b>In a Jupyter environment, please rerun this cell to show the HTML representation or trust the notebook. <br />On GitHub, the HTML representation is unable to render, please try loading this page with nbviewer.org.</b></div><div class=\"sk-container\" hidden><div class=\"sk-item\"><div class=\"sk-estimator sk-toggleable\"><input class=\"sk-toggleable__control sk-hidden--visually\" id=\"sk-estimator-id-6\" type=\"checkbox\" checked><label for=\"sk-estimator-id-6\" class=\"sk-toggleable__label sk-toggleable__label-arrow\">KNeighborsClassifier</label><div class=\"sk-toggleable__content\"><pre>KNeighborsClassifier(n_neighbors=4)</pre></div></div></div></div></div>"
      ],
      "text/plain": [
       "KNeighborsClassifier(n_neighbors=4)"
      ]
     },
     "execution_count": 101,
     "metadata": {},
     "output_type": "execute_result"
    }
   ],
   "source": [
    "# Then we build the model by calling the fit model, passing the training data(X_train) and training outputs(y_train) as parameters.\n",
    "knn_neighbor.fit(X_train,y_train)"
   ]
  },
  {
   "cell_type": "markdown",
   "id": "75559aa5",
   "metadata": {},
   "source": [
    "## Predicting\n",
    "We can now make predictions using this model on new data for which we might not know the correct labels.\n"
   ]
  },
  {
   "cell_type": "code",
   "execution_count": 102,
   "id": "e50085ec",
   "metadata": {},
   "outputs": [
    {
     "data": {
      "text/plain": [
       "77    2\n",
       "0     2\n",
       "27    0\n",
       "23    2\n",
       "12    2\n",
       "68    2\n",
       "10    1\n",
       "19    2\n",
       "4     0\n",
       "69    2\n",
       "Name: diagnosis, dtype: int32"
      ]
     },
     "execution_count": 102,
     "metadata": {},
     "output_type": "execute_result"
    }
   ],
   "source": [
    "y_test[0:10]"
   ]
  },
  {
   "cell_type": "code",
   "execution_count": 103,
   "id": "23469862",
   "metadata": {},
   "outputs": [
    {
     "data": {
      "text/plain": [
       "array([[-0.96609178,  0.52859414,  0.86776518, -0.1648946 ,  0.59947894,\n",
       "        -0.82041265,  1.09494578],\n",
       "       [-0.96609178, -1.89181061,  0.86776518, -0.29777986, -1.66811531,\n",
       "        -0.82041265,  1.52518323],\n",
       "       [ 1.03509834,  0.52859414, -1.04351509,  2.8891553 ,  0.59947894,\n",
       "         1.2188988 , -1.35825918],\n",
       "       [-0.96609178, -1.89181061,  1.82340532, -0.75767841, -1.66811531,\n",
       "         1.2188988 ,  1.1936149 ],\n",
       "       [-0.96609178, -1.89181061,  0.86776518, -0.93100701, -1.66811531,\n",
       "        -0.82041265,  0.29006616],\n",
       "       [-0.96609178,  0.52859414, -0.08787496, -0.20302689, -1.66811531,\n",
       "        -0.82041265, -0.8558981 ],\n",
       "       [ 1.03509834,  0.52859414, -0.08787496, -0.98762768,  0.59947894,\n",
       "         1.2188988 ,  0.43781942],\n",
       "       [-0.96609178,  0.52859414,  0.86776518, -0.71492402,  0.59947894,\n",
       "        -0.82041265,  0.14882406],\n",
       "       [ 1.03509834,  0.52859414,  0.86776518, -0.41910988,  0.59947894,\n",
       "         1.2188988 , -1.04622433],\n",
       "       [-0.96609178,  0.52859414, -1.04351509, -0.58434981,  0.59947894,\n",
       "        -0.82041265,  0.28205242],\n",
       "       [ 1.03509834,  0.52859414,  0.86776518, -0.71492402,  0.59947894,\n",
       "        -0.82041265,  0.28205242],\n",
       "       [-0.96609178,  0.52859414, -0.08787496, -0.12676231,  0.59947894,\n",
       "         1.2188988 , -1.13337371],\n",
       "       [-0.96609178,  0.52859414, -0.08787496, -0.93100701,  0.59947894,\n",
       "         1.2188988 , -0.5143126 ],\n",
       "       [-0.96609178,  0.52859414,  0.86776518, -0.79349965,  0.59947894,\n",
       "        -0.82041265,  0.99777923],\n",
       "       [ 1.03509834,  0.52859414, -0.08787496,  1.285288  ,  0.59947894,\n",
       "         1.2188988 , -1.04171661],\n",
       "       [-0.96609178,  0.52859414,  1.82340532, -0.54159542,  0.59947894,\n",
       "        -0.82041265,  1.25421878],\n",
       "       [-0.96609178,  0.52859414,  0.86776518, -0.16027251,  0.59947894,\n",
       "        -0.82041265, -1.08579215],\n",
       "       [-0.96609178,  0.52859414, -0.08787496,  0.78147954,  0.59947894,\n",
       "         1.2188988 ,  0.95019767]])"
      ]
     },
     "execution_count": 103,
     "metadata": {},
     "output_type": "execute_result"
    }
   ],
   "source": [
    "X_test"
   ]
  },
  {
   "cell_type": "code",
   "execution_count": 104,
   "id": "551562eb",
   "metadata": {},
   "outputs": [
    {
     "name": "stdout",
     "output_type": "stream",
     "text": [
      "Test set predictions:\n",
      " [2 2 0 2 2 1 0 2 0 2 1 0 0 2 0 2 2 2]\n"
     ]
    }
   ],
   "source": [
    "yhat = knn_neighbor.predict(X_test)\n",
    "print('Test set predictions:\\n {}'.format(yhat))"
   ]
  },
  {
   "cell_type": "markdown",
   "id": "bb99ffd2",
   "metadata": {},
   "source": [
    "## Accuracy evaluation\n",
    "We can measure how well the model works by computing the accuracy."
   ]
  },
  {
   "cell_type": "code",
   "execution_count": 105,
   "id": "f92af80e",
   "metadata": {},
   "outputs": [
    {
     "name": "stdout",
     "output_type": "stream",
     "text": [
      "Test set score: 0.72\n"
     ]
    }
   ],
   "source": [
    "print('Test set score: {:.2f}'.format(np.mean(yhat == y_test)))"
   ]
  },
  {
   "cell_type": "code",
   "execution_count": 106,
   "id": "585b9907",
   "metadata": {},
   "outputs": [
    {
     "name": "stdout",
     "output_type": "stream",
     "text": [
      "Test set score: 0.72\n"
     ]
    }
   ],
   "source": [
    "# We can use the score method of the knn object, which will compute the test set accurate for us.\n",
    "print('Test set score: {:.2f}'.format(knn_neighbor.score(X_test, y_test)))"
   ]
  },
  {
   "cell_type": "code",
   "execution_count": 107,
   "id": "39becb1d",
   "metadata": {},
   "outputs": [
    {
     "name": "stdout",
     "output_type": "stream",
     "text": [
      "Train set Accuracy:  0.6376811594202898\n",
      "Test set Accuracy:  0.7222222222222222\n",
      "\n",
      "              precision    recall  f1-score   support\n",
      "\n",
      "           0       0.83      0.83      0.83         6\n",
      "           1       0.00      0.00      0.00         1\n",
      "           2       0.80      0.80      0.80        10\n",
      "           3       0.00      0.00      0.00         1\n",
      "\n",
      "    accuracy                           0.72        18\n",
      "   macro avg       0.41      0.41      0.41        18\n",
      "weighted avg       0.72      0.72      0.72        18\n",
      "\n",
      "\n",
      "[[5 0 1 0]\n",
      " [1 0 0 0]\n",
      " [0 2 8 0]\n",
      " [0 0 1 0]]\n",
      "\n",
      "\n",
      "KNN:\n",
      "Accuracy: 0.7222222222222222\n"
     ]
    },
    {
     "name": "stderr",
     "output_type": "stream",
     "text": [
      "C:\\Users\\bruker1\\anaconda3\\Lib\\site-packages\\sklearn\\metrics\\_classification.py:1469: UndefinedMetricWarning: Precision and F-score are ill-defined and being set to 0.0 in labels with no predicted samples. Use `zero_division` parameter to control this behavior.\n",
      "  _warn_prf(average, modifier, msg_start, len(result))\n",
      "C:\\Users\\bruker1\\anaconda3\\Lib\\site-packages\\sklearn\\metrics\\_classification.py:1469: UndefinedMetricWarning: Precision and F-score are ill-defined and being set to 0.0 in labels with no predicted samples. Use `zero_division` parameter to control this behavior.\n",
      "  _warn_prf(average, modifier, msg_start, len(result))\n",
      "C:\\Users\\bruker1\\anaconda3\\Lib\\site-packages\\sklearn\\metrics\\_classification.py:1469: UndefinedMetricWarning: Precision and F-score are ill-defined and being set to 0.0 in labels with no predicted samples. Use `zero_division` parameter to control this behavior.\n",
      "  _warn_prf(average, modifier, msg_start, len(result))\n"
     ]
    }
   ],
   "source": [
    "from sklearn import metrics\n",
    "from sklearn.metrics import classification_report, accuracy_score\n",
    "\n",
    "print('Train set Accuracy: ', metrics.accuracy_score(y_train, knn_neighbor.predict(X_train)))\n",
    "print('Test set Accuracy: ', metrics.accuracy_score(y_test, yhat))\n",
    "print('')\n",
    "print(classification_report(y_test, yhat))\n",
    "print('')\n",
    "print(confusion_matrix(y_test, yhat))\n",
    "\n",
    "print('')\n",
    "print(\"\\nKNN:\")\n",
    "# print(classification_report(y_test, yhat))\n",
    "print(\"Accuracy:\", accuracy_score(y_test, yhat))"
   ]
  },
  {
   "cell_type": "markdown",
   "id": "e4a9e0bd",
   "metadata": {},
   "source": [
    "## Evaluation:\n",
    "\n",
    "Class : The model could not predicting instances of class class 3 'Other' and class 1 'LG glioma'.It has a precision, recall, and F1-score of 0 for these classes, indicating it either doesn't predict them at all or all of its predictions are wrong.\n",
    "\n",
    "In the concern of overfitting: The training set accuracy 63.77% is lower than a test set accuracy 72.22 %. While a bit unusual to see higher test accuracy than training accuracy, the close values might suggest that the model is not overfitting significantly or can said that we can expect our model to be correct 72% of the brain cancer prediction.\n",
    "\n",
    "The confusion matrix : shows miss clasifications, between class 2 and 3 and 1 and 0.\n",
    "\n",
    "In clusion, the model appear to work well for certain classes but struggles with class 1 and 0. It might not be the best fit for this dataset if the goal is to have balanced performance across all classes."
   ]
  },
  {
   "cell_type": "markdown",
   "id": "a882cc36",
   "metadata": {},
   "source": [
    "## Working on Others K\n"
   ]
  },
  {
   "cell_type": "code",
   "execution_count": 108,
   "id": "a187366d",
   "metadata": {},
   "outputs": [
    {
     "data": {
      "text/plain": [
       "array([0.55555556, 0.66666667, 0.66666667, 0.72222222, 0.66666667,\n",
       "       0.72222222, 0.72222222, 0.66666667, 0.77777778])"
      ]
     },
     "execution_count": 108,
     "metadata": {},
     "output_type": "execute_result"
    }
   ],
   "source": [
    "import numpy as np\n",
    "Ks = 10\n",
    "mean_acc = np.zeros((Ks-1))\n",
    "std_acc = np.zeros((Ks-1))\n",
    "\n",
    "for n in range(1,Ks):\n",
    "    \n",
    "    # Train model and predict\n",
    "    knn_neighbor = KNeighborsClassifier(n_neighbors = n).fit(X_train,y_train)\n",
    "    yhat = knn_neighbor.predict(X_test)\n",
    "    mean_acc[n-1] = metrics.accuracy_score(y_test, yhat)\n",
    "    \n",
    "    std_acc[n-1] = np.std(yhat==y_test)/np.sqrt(yhat.shape[0])\n",
    "mean_acc"
   ]
  },
  {
   "cell_type": "markdown",
   "id": "0ac65213",
   "metadata": {},
   "source": [
    "### Plot the model accuracy for a differnt number of neighbors.\n",
    "\n",
    "It can be seen from the plot that, the best choice for the number of neighbors (K) is 9, yielding the highest accuracy of approximately 77.78%. The graph and analysis show that as K increases, the accuracy peaks at K=9"
   ]
  },
  {
   "cell_type": "code",
   "execution_count": 109,
   "id": "06715d68",
   "metadata": {},
   "outputs": [
    {
     "data": {
      "image/png": "[encoded data removed]",
      "text/plain": [
       "<Figure size 640x480 with 1 Axes>"
      ]
     },
     "metadata": {},
     "output_type": "display_data"
    }
   ],
   "source": [
    "from matplotlib import pyplot as plt\n",
    "plt.plot(range(1,Ks),mean_acc, 'g')\n",
    "plt.fill_between(range(1,Ks), mean_acc - 1 * std_acc, mean_acc + 1 * std_acc, alpha=0.10)\n",
    "plt.fill_between(range(1,Ks), mean_acc - 3 * std_acc, mean_acc + 3 * std_acc, alpha=0.10, color='green')\n",
    "plt.legend(('Accuracy', '+/- 1xstd', '+/- 3xstd'))\n",
    "plt.ylabel('Accuracy')\n",
    "plt.xlabel('Number of Neighbors (K)')\n",
    "plt.tight_layout()\n",
    "plt.show()"
   ]
  },
  {
   "cell_type": "code",
   "execution_count": 110,
   "id": "f23e6651",
   "metadata": {},
   "outputs": [
    {
     "name": "stdout",
     "output_type": "stream",
     "text": [
      "The best accuracy was with 0.7777777777777778 with k = 9\n"
     ]
    }
   ],
   "source": [
    "print('The best accuracy was with', mean_acc.max(), 'with k =', mean_acc.argmax()+1)"
   ]
  },
  {
   "cell_type": "markdown",
   "id": "abde959d",
   "metadata": {},
   "source": [
    "# Conclusion:"
   ]
  },
  {
   "cell_type": "markdown",
   "id": "7c855118",
   "metadata": {},
   "source": [
    "Both Gaussian Naive Bayes and KNN have the highest accuracy at 72.22%, followed by Polynomial Regression at 61.11% But those two struggled with the \"LG glioma\" and \"Other\" categories, having 0 scores. While, the \"Meningioma\" and \"HG glioma\" categories had decent scores, especially in Gaussian Naive Bayes and KNN. \n",
    "\n",
    "In this case, Both Gaussian Naive Bayes and KNN models considerd in term of accuracy and metrics for individual class, hence shows as the best fit base on the provided data. Becuase both models have the highest accuracy, with balance percision and recall out of four categories. \n",
    "\n",
    "However, Gaussian Naive Baye failed to classify \"LG glioma\" and \"Other\"  and polynomial fails to classify 'Other' class, this can indicates the issue with dataset's distribution or low potential of model to genelize across all classes."
   ]
  }
 ],
 "metadata": {
  "kernelspec": {
   "display_name": "Python 3 (ipykernel)",
   "language": "python",
   "name": "python3"
  },
  "language_info": {
   "codemirror_mode": {
    "name": "ipython",
    "version": 3
   },
   "file_extension": ".py",
   "mimetype": "text/x-python",
   "name": "python",
   "nbconvert_exporter": "python",
   "pygments_lexer": "ipython3",
   "version": "3.11.4"
  }
 },
 "nbformat": 4,
 "nbformat_minor": 5
}
