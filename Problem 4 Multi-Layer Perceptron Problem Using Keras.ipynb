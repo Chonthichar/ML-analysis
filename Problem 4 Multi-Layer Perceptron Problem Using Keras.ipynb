{
 "cells": [
  {
   "cell_type": "markdown",
   "id": "1da9591e",
   "metadata": {},
   "source": [
    "## Problem 4: Multi-Layer Perceptron Problem Using Keras"
   ]
  },
  {
   "cell_type": "markdown",
   "id": "7e8d0cd2",
   "metadata": {},
   "source": [
    "The data scientists at one of the retail stores have collected 2019 sales data for different products across various stores in different cities. The data in the file deep_learning_task_dataset.csv consists of 5000 datapoints and consists of both input and output variables, the description of which is given in the table below. Divide the dataset into training (80%) and test (20%). You need to predict the sales for test data set. Table 1: Input and Output Variables for Training Dataset The following tasks need to be performed:\n",
    "\n",
    "    1 Pre-processing of dataset. \n",
    "    2  Define the architecture of your Deep Learning Model. Use the markdown cell to explain the architecture of your model.\n",
    "    3 Training and testing your model.\n",
    "    4 Calculate the R2 of your predictions. The closer the value of R2 to 1, the higher points you will score\n",
    "\n"
   ]
  },
  {
   "cell_type": "markdown",
   "id": "cf1e51c1",
   "metadata": {},
   "source": [
    "The question dilicated a regression problem. The key points that represents as a regression problem are:\n",
    "\n",
    "Objective: The question requested to \"predicts the sales\" of different products across different stores base on data. The prediction sales includes estimating real-valued quantities for example continous values which is the topic of regression tasks, not classification tasks.\n",
    "\n",
    "The expected output variables : Our main aim is to determine the sales, which is our target or dependent variable. Sales are inherently continuous, taking any positive numeric value, unlike classification tasks which predict within a confined set of categories.\n",
    "\n",
    "The expected value of evaluation metric: The R-squared (R2) metric is mentioned as the evaluation standard. R-squared is use in the term of regression problems, it measures the proportion of the variance in the dependent variable tha is predictable from the independent variables.It is statistical that will give information about how good of the model. Typically, a higher R square values indicates that the model fits the data better, explaning a higher propotion of the variance.\n",
    "\n",
    "With this background, when building and training our model, we need to think 'regression':\n",
    "\n",
    "- Loss function is fits function for regression, such as \"mean_squared_error\".\n",
    "- Since predicting a single continous value, the last layer of neural network should have single neuron and  would use a linear activation function (or no activation function). \n",
    "- In regards of evaluation metrics, should be suitable for regression, which means they should measure the difference between the continous values predicted by the model and the actual values, R2 Score of Mean Baseline and R2 Score of Medain Baseline used in this case."
   ]
  },
  {
   "cell_type": "code",
   "execution_count": 24,
   "id": "f360ff59",
   "metadata": {},
   "outputs": [],
   "source": [
    "import pandas as pd\n",
    "import numpy as np\n",
    "from sklearn.model_selection import train_test_split\n",
    "from sklearn.preprocessing import StandardScaler, OneHotEncoder\n",
    "from sklearn.compose import ColumnTransformer\n",
    "from sklearn.pipeline import Pipeline\n",
    "from sklearn.impute import SimpleImputer\n",
    "import matplotlib.pyplot as plt\n",
    "from matplotlib.pyplot import figure\n",
    "import seaborn as sns\n",
    "\n",
    "%matplotlib inline"
   ]
  },
  {
   "cell_type": "markdown",
   "id": "6d7086fb",
   "metadata": {},
   "source": [
    "# Import data"
   ]
  },
  {
   "cell_type": "code",
   "execution_count": 25,
   "id": "8ebcc175",
   "metadata": {},
   "outputs": [
    {
     "data": {
      "text/html": [
       "<div>\n",
       "<style scoped>\n",
       "    .dataframe tbody tr th:only-of-type {\n",
       "        vertical-align: middle;\n",
       "    }\n",
       "\n",
       "    .dataframe tbody tr th {\n",
       "        vertical-align: top;\n",
       "    }\n",
       "\n",
       "    .dataframe thead th {\n",
       "        text-align: right;\n",
       "    }\n",
       "</style>\n",
       "<table border=\"1\" class=\"dataframe\">\n",
       "  <thead>\n",
       "    <tr style=\"text-align: right;\">\n",
       "      <th></th>\n",
       "      <th>Item_Identifier</th>\n",
       "      <th>Item_Weight</th>\n",
       "      <th>Item_Fat_Content</th>\n",
       "      <th>Item_Visibility</th>\n",
       "      <th>Item_Type</th>\n",
       "      <th>Item_MRP</th>\n",
       "      <th>Outlet_Identifier</th>\n",
       "      <th>Outlet_Establishment_Year</th>\n",
       "      <th>Outlet_Size</th>\n",
       "      <th>Outlet_Location_Type</th>\n",
       "      <th>Outlet_Type</th>\n",
       "      <th>Item_Outlet_Sales</th>\n",
       "    </tr>\n",
       "  </thead>\n",
       "  <tbody>\n",
       "    <tr>\n",
       "      <th>0</th>\n",
       "      <td>FDA15</td>\n",
       "      <td>9.30</td>\n",
       "      <td>Low Fat</td>\n",
       "      <td>0.016047</td>\n",
       "      <td>Dairy</td>\n",
       "      <td>249.8092</td>\n",
       "      <td>OUT049</td>\n",
       "      <td>1999</td>\n",
       "      <td>Medium</td>\n",
       "      <td>Tier 1</td>\n",
       "      <td>Supermarket Type1</td>\n",
       "      <td>3735.1380</td>\n",
       "    </tr>\n",
       "    <tr>\n",
       "      <th>1</th>\n",
       "      <td>DRC01</td>\n",
       "      <td>5.92</td>\n",
       "      <td>Regular</td>\n",
       "      <td>0.019278</td>\n",
       "      <td>Soft Drinks</td>\n",
       "      <td>48.2692</td>\n",
       "      <td>OUT018</td>\n",
       "      <td>2009</td>\n",
       "      <td>Medium</td>\n",
       "      <td>Tier 3</td>\n",
       "      <td>Supermarket Type2</td>\n",
       "      <td>443.4228</td>\n",
       "    </tr>\n",
       "    <tr>\n",
       "      <th>2</th>\n",
       "      <td>FDN15</td>\n",
       "      <td>17.50</td>\n",
       "      <td>Low Fat</td>\n",
       "      <td>0.016760</td>\n",
       "      <td>Meat</td>\n",
       "      <td>141.6180</td>\n",
       "      <td>OUT049</td>\n",
       "      <td>1999</td>\n",
       "      <td>Medium</td>\n",
       "      <td>Tier 1</td>\n",
       "      <td>Supermarket Type1</td>\n",
       "      <td>2097.2700</td>\n",
       "    </tr>\n",
       "    <tr>\n",
       "      <th>3</th>\n",
       "      <td>FDX07</td>\n",
       "      <td>19.20</td>\n",
       "      <td>Regular</td>\n",
       "      <td>0.000000</td>\n",
       "      <td>Fruits and Vegetables</td>\n",
       "      <td>182.0950</td>\n",
       "      <td>OUT010</td>\n",
       "      <td>1998</td>\n",
       "      <td>NaN</td>\n",
       "      <td>Tier 3</td>\n",
       "      <td>Grocery Store</td>\n",
       "      <td>732.3800</td>\n",
       "    </tr>\n",
       "    <tr>\n",
       "      <th>4</th>\n",
       "      <td>NCD19</td>\n",
       "      <td>8.93</td>\n",
       "      <td>Low Fat</td>\n",
       "      <td>0.000000</td>\n",
       "      <td>Household</td>\n",
       "      <td>53.8614</td>\n",
       "      <td>OUT013</td>\n",
       "      <td>1987</td>\n",
       "      <td>High</td>\n",
       "      <td>Tier 3</td>\n",
       "      <td>Supermarket Type1</td>\n",
       "      <td>994.7052</td>\n",
       "    </tr>\n",
       "  </tbody>\n",
       "</table>\n",
       "</div>"
      ],
      "text/plain": [
       "  Item_Identifier  Item_Weight Item_Fat_Content  Item_Visibility  \\\n",
       "0           FDA15         9.30          Low Fat         0.016047   \n",
       "1           DRC01         5.92          Regular         0.019278   \n",
       "2           FDN15        17.50          Low Fat         0.016760   \n",
       "3           FDX07        19.20          Regular         0.000000   \n",
       "4           NCD19         8.93          Low Fat         0.000000   \n",
       "\n",
       "               Item_Type  Item_MRP Outlet_Identifier  \\\n",
       "0                  Dairy  249.8092            OUT049   \n",
       "1            Soft Drinks   48.2692            OUT018   \n",
       "2                   Meat  141.6180            OUT049   \n",
       "3  Fruits and Vegetables  182.0950            OUT010   \n",
       "4              Household   53.8614            OUT013   \n",
       "\n",
       "   Outlet_Establishment_Year Outlet_Size Outlet_Location_Type  \\\n",
       "0                       1999      Medium               Tier 1   \n",
       "1                       2009      Medium               Tier 3   \n",
       "2                       1999      Medium               Tier 1   \n",
       "3                       1998         NaN               Tier 3   \n",
       "4                       1987        High               Tier 3   \n",
       "\n",
       "         Outlet_Type  Item_Outlet_Sales  \n",
       "0  Supermarket Type1          3735.1380  \n",
       "1  Supermarket Type2           443.4228  \n",
       "2  Supermarket Type1          2097.2700  \n",
       "3      Grocery Store           732.3800  \n",
       "4  Supermarket Type1           994.7052  "
      ]
     },
     "execution_count": 25,
     "metadata": {},
     "output_type": "execute_result"
    }
   ],
   "source": [
    "# Load data\n",
    "data = pd.read_csv('deep_learning_task_dataset.csv')\n",
    "data.head()"
   ]
  },
  {
   "cell_type": "code",
   "execution_count": 26,
   "id": "413ce2b3",
   "metadata": {},
   "outputs": [
    {
     "name": "stdout",
     "output_type": "stream",
     "text": [
      "(5000, 12)\n"
     ]
    }
   ],
   "source": [
    "# Check numbers of rows and columns\n",
    "print(data.shape)"
   ]
  },
  {
   "cell_type": "markdown",
   "id": "88e6de80",
   "metadata": {},
   "source": [
    "## Preprocessing \n",
    "Handling missing values."
   ]
  },
  {
   "cell_type": "code",
   "execution_count": 27,
   "id": "fe63b819",
   "metadata": {},
   "outputs": [
    {
     "name": "stdout",
     "output_type": "stream",
     "text": [
      "Before handling missing value: \n",
      "\n",
      "Item_Identifier                 0\n",
      "Item_Weight                   818\n",
      "Item_Fat_Content                0\n",
      "Item_Visibility                 0\n",
      "Item_Type                       0\n",
      "Item_MRP                        0\n",
      "Outlet_Identifier               0\n",
      "Outlet_Establishment_Year       0\n",
      "Outlet_Size                  1439\n",
      "Outlet_Location_Type            0\n",
      "Outlet_Type                     0\n",
      "Item_Outlet_Sales               0\n",
      "dtype: int64\n"
     ]
    }
   ],
   "source": [
    "# The dataset has missing values in the \"Item_Weight\" and \"Outlet_Size\"\n",
    "\n",
    "print('Before handling missing value: ')\n",
    "print('')\n",
    "print(data.isnull().sum())\n"
   ]
  },
  {
   "cell_type": "code",
   "execution_count": 28,
   "id": "3dc17ac9",
   "metadata": {},
   "outputs": [
    {
     "name": "stdout",
     "output_type": "stream",
     "text": [
      "\n",
      "After handling missing value: \n",
      "\n",
      "Item_Identifier              0\n",
      "Item_Weight                  0\n",
      "Item_Fat_Content             0\n",
      "Item_Visibility              0\n",
      "Item_Type                    0\n",
      "Item_MRP                     0\n",
      "Outlet_Identifier            0\n",
      "Outlet_Establishment_Year    0\n",
      "Outlet_Size                  0\n",
      "Outlet_Location_Type         0\n",
      "Outlet_Type                  0\n",
      "Item_Outlet_Sales            0\n",
      "dtype: int64\n"
     ]
    }
   ],
   "source": [
    "# Handling missing value of \"Item_Weight\":\n",
    "value = data['Item_Weight'].mode()[0]\n",
    "data['Item_Weight'].fillna(value, inplace = True)\n",
    "\n",
    "# The \"Outlet_Size\" is categorical data, we will fill with the mode(Most frrequent value)\n",
    "mode_value = data['Outlet_Size'].mode()[0] \n",
    "data['Outlet_Size'].fillna(mode_value, inplace = True)\n",
    "\n",
    "print('')\n",
    "print('After handling missing value: ')\n",
    "print('')\n",
    "print(data.isnull().sum())"
   ]
  },
  {
   "cell_type": "code",
   "execution_count": 29,
   "id": "f9318cfd",
   "metadata": {},
   "outputs": [
    {
     "data": {
      "text/plain": [
       "Item_Identifier              0\n",
       "Item_Weight                  0\n",
       "Item_Fat_Content             0\n",
       "Item_Visibility              0\n",
       "Item_Type                    0\n",
       "Item_MRP                     0\n",
       "Outlet_Identifier            0\n",
       "Outlet_Establishment_Year    0\n",
       "Outlet_Size                  0\n",
       "Outlet_Location_Type         0\n",
       "Outlet_Type                  0\n",
       "Item_Outlet_Sales            0\n",
       "dtype: int64"
      ]
     },
     "execution_count": 29,
     "metadata": {},
     "output_type": "execute_result"
    }
   ],
   "source": [
    "# Inspects rows with Nan values.\n",
    "data.isna().sum()"
   ]
  },
  {
   "cell_type": "code",
   "execution_count": 30,
   "id": "cecb0101",
   "metadata": {},
   "outputs": [
    {
     "data": {
      "text/plain": [
       "Item_Identifier                0\n",
       "Item_Weight                    0\n",
       "Item_Fat_Content               0\n",
       "Item_Visibility              305\n",
       "Item_Type                      0\n",
       "Item_MRP                       0\n",
       "Outlet_Identifier              0\n",
       "Outlet_Establishment_Year      0\n",
       "Outlet_Size                    0\n",
       "Outlet_Location_Type           0\n",
       "Outlet_Type                    0\n",
       "Item_Outlet_Sales              0\n",
       "dtype: int64"
      ]
     },
     "execution_count": 30,
     "metadata": {},
     "output_type": "execute_result"
    }
   ],
   "source": [
    "# showing the number of zeros in each column\n",
    "\n",
    "zero = (data == 0).sum()\n",
    "zero"
   ]
  },
  {
   "cell_type": "code",
   "execution_count": 31,
   "id": "a18f95ad",
   "metadata": {},
   "outputs": [
    {
     "data": {
      "text/plain": [
       "Text(0, 0.5, 'Frequency')"
      ]
     },
     "execution_count": 31,
     "metadata": {},
     "output_type": "execute_result"
    },
    {
     "data": {
      "image/png": "[encoded data removed]",
      "text/plain": [
       "<Figure size 1200x600 with 1 Axes>"
      ]
     },
     "metadata": {},
     "output_type": "display_data"
    }
   ],
   "source": [
    "# Before Median Imputation of 'Item_Visibility'\n",
    "\n",
    "plt.figure(figsize=(12, 6))\n",
    "\n",
    "# Plot for 'Item_Visibility' before imputation\n",
    "plt.subplot(2, 2, 1)\n",
    "sns.histplot(data['Item_Visibility'], kde=True, color='blue', bins=30)\n",
    "plt.title('Item_Visibility before imputation')\n",
    "plt.xlabel('Item_Visibility')\n",
    "plt.ylabel('Frequency')"
   ]
  },
  {
   "cell_type": "code",
   "execution_count": 34,
   "id": "b31ec1ef",
   "metadata": {},
   "outputs": [
    {
     "data": {
      "text/plain": [
       "Item_Identifier              0\n",
       "Item_Weight                  0\n",
       "Item_Fat_Content             0\n",
       "Item_Visibility              0\n",
       "Item_Type                    0\n",
       "Item_MRP                     0\n",
       "Outlet_Identifier            0\n",
       "Outlet_Establishment_Year    0\n",
       "Outlet_Size                  0\n",
       "Outlet_Location_Type         0\n",
       "Outlet_Type                  0\n",
       "Item_Outlet_Sales            0\n",
       "dtype: int64"
      ]
     },
     "execution_count": 34,
     "metadata": {},
     "output_type": "execute_result"
    }
   ],
   "source": [
    "# Changes 0 to NaNs and then fill NaNs with the median value. It use the median of non zero values,avoid the bai that zeros values might occurs.\n",
    "\n",
    "# Replace 0 with NaNs in \"Item_Visibilty\"\n",
    "\n",
    "data['Item_Visibility'] = data['Item_Visibility'].replace(0, np.nan)\n",
    "\n",
    "#Calculate the median\n",
    "median_visibility = data['Item_Visibility'].median()\n",
    "\n",
    "#Fill NaNs with the median values\n",
    "data['Item_Visibility'].fillna(median_visibility, inplace=True)\n",
    "\n",
    "# Recheck again after converted to Median\n",
    "\n",
    "zero = (data == 0).sum()\n",
    "zero\n"
   ]
  },
  {
   "cell_type": "code",
   "execution_count": 35,
   "id": "beb5c1dd",
   "metadata": {},
   "outputs": [
    {
     "data": {
      "text/plain": [
       "Text(0, 0.5, 'Frequency')"
      ]
     },
     "execution_count": 35,
     "metadata": {},
     "output_type": "execute_result"
    },
    {
     "data": {
      "image/png": "[encoded data removed]",
      "text/plain": [
       "<Figure size 1200x600 with 1 Axes>"
      ]
     },
     "metadata": {},
     "output_type": "display_data"
    }
   ],
   "source": [
    "# After Median Imputation of 'Item_Visibility'\n",
    "\n",
    "plt.figure(figsize=(12, 6))\n",
    "\n",
    "# Plot for 'Item_Visibility' after imputation\n",
    "plt.subplot(2, 2, 1)\n",
    "sns.histplot(data['Item_Visibility'], kde=True, color='blue', bins=30)\n",
    "plt.title('Item_Visibility after median imputation')\n",
    "plt.xlabel('Item_Visibility')\n",
    "plt.ylabel('Frequency')"
   ]
  },
  {
   "attachments": {
    "image.png": {
     "image/png": "[encoded data removed]"
    }
   },
   "cell_type": "markdown",
   "id": "69216ca2",
   "metadata": {},
   "source": [
    "From the distribution after Median imputataion, 'Item_Visibility' indicates the percentage of total display area allocated to specific products in a store. Median imputation on such a variable has introduced a noticeable spike in its distribution, highlighting where 0 values were replaced. This changes can impacts the data statistical. However, maintaining the '0' values in 'Item_Visibility' might be essential, as it could suggest products not displayed on physical shelves, possibly hinting at online-only sales. However, while retainng 0 might suggest the better approach in this case (R2 Score: 0.6046688813508325), as the table does not directly mention online sales. Given the circumstances, I have decided to go with median imputation.\n",
    "\n",
    "#### Exmaple of R socre if mantain 0 in ''Item_Visibility''\n",
    "![image.png](attachment:image.png)"
   ]
  },
  {
   "cell_type": "code",
   "execution_count": 36,
   "id": "56dd8f88",
   "metadata": {},
   "outputs": [
    {
     "name": "stdout",
     "output_type": "stream",
     "text": [
      "Index(['Item_Identifier', 'Item_Weight', 'Item_Fat_Content', 'Item_Visibility',\n",
      "       'Item_Type', 'Item_MRP', 'Outlet_Identifier',\n",
      "       'Outlet_Establishment_Year', 'Outlet_Size', 'Outlet_Location_Type',\n",
      "       'Outlet_Type', 'Item_Outlet_Sales'],\n",
      "      dtype='object')\n"
     ]
    }
   ],
   "source": [
    "# Check  total columns in dataset.\n",
    "print(data.columns)"
   ]
  },
  {
   "cell_type": "code",
   "execution_count": 37,
   "id": "cc5a4ed2",
   "metadata": {},
   "outputs": [],
   "source": [
    "# Convert categorical variables into dummy/indicator variables\n",
    "data = pd.get_dummies(data, columns=['Item_Fat_Content', 'Item_Type', 'Outlet_Size', \n",
    "               'Outlet_Location_Type', 'Outlet_Type'], drop_first=True)"
   ]
  },
  {
   "cell_type": "code",
   "execution_count": 38,
   "id": "b7291030",
   "metadata": {},
   "outputs": [
    {
     "name": "stdout",
     "output_type": "stream",
     "text": [
      "Index(['Item_Identifier', 'Item_Weight', 'Item_Visibility', 'Item_MRP',\n",
      "       'Outlet_Identifier', 'Outlet_Establishment_Year', 'Item_Outlet_Sales',\n",
      "       'Item_Fat_Content_Low Fat', 'Item_Fat_Content_Regular',\n",
      "       'Item_Fat_Content_low fat', 'Item_Fat_Content_reg', 'Item_Type_Breads',\n",
      "       'Item_Type_Breakfast', 'Item_Type_Canned', 'Item_Type_Dairy',\n",
      "       'Item_Type_Frozen Foods', 'Item_Type_Fruits and Vegetables',\n",
      "       'Item_Type_Hard Drinks', 'Item_Type_Health and Hygiene',\n",
      "       'Item_Type_Household', 'Item_Type_Meat', 'Item_Type_Others',\n",
      "       'Item_Type_Seafood', 'Item_Type_Snack Foods', 'Item_Type_Soft Drinks',\n",
      "       'Item_Type_Starchy Foods', 'Outlet_Size_Medium', 'Outlet_Size_Small',\n",
      "       'Outlet_Location_Type_Tier 2', 'Outlet_Location_Type_Tier 3',\n",
      "       'Outlet_Type_Supermarket Type1', 'Outlet_Type_Supermarket Type2',\n",
      "       'Outlet_Type_Supermarket Type3'],\n",
      "      dtype='object')\n",
      "(5000, 33)\n"
     ]
    }
   ],
   "source": [
    "# Check  total columns in dataset again after convert categorical variables into binary form.\n",
    "\n",
    "print(data.columns)\n",
    "print(data.shape)"
   ]
  },
  {
   "cell_type": "markdown",
   "id": "56d46b9b",
   "metadata": {},
   "source": [
    "Note : Usually numerical ones, and not categorical ones (especially not after one-hot encoding), include:\n",
    "\n",
    "Preserving Information: Scaling is meaningful when applied to quantities where the numerical values and differences between them are meaningful. For numerical columns like 'Item_Weight' or 'Item_MRP', the values represent actual measurements or counts, and their differences are significant. Scaling these brings them to the same range without losing information.\n",
    "\n",
    "Irrelevance for Categorical Data: After one-hot encoding categorical data, you have a binary representation. Scaling binary flags (0s and 1s from one-hot encoding) isn't practically useful and can be less interpretable, as the notion of distance doesn't apply the same way. For example, having values of 0 and 1 specifies the absence or presence of a feature. If you standardize this, you could end up with values that are difficult to interpret logically (like a feature being \"-1\" present).\n",
    "\n",
    "Algorithm Requirements: Many machine learning algorithms require or perform better with scaled features because they compute distances between data points for modeling. Features on larger numeric scales can unduly influence the model (think of how a \"price\" feature in the thousands might dominate a \"quantity\" feature ranging from 1 to 10). However, algorithms that work with binary flags (like trees-based algorithms) do not require feature scaling.\n",
    "\n",
    "Avoiding Data Leakage: When apply scaling, we are using some aggregate information from data (like the mean or standard deviation of a feature). If we scale  whole dataset and then split into training/testing, we're leaking information from test set into  training process. That's why we fit  scaler on the training data and use that scaler to transform our test data, avoiding this kind of data leakage."
   ]
  },
  {
   "cell_type": "markdown",
   "id": "0b2e8e7c",
   "metadata": {},
   "source": [
    "## Normalization"
   ]
  },
  {
   "cell_type": "code",
   "execution_count": 39,
   "id": "9561ba76",
   "metadata": {},
   "outputs": [],
   "source": [
    "# The reason you typically scale only specific columns, usually numerical ones, and not categorical ones (especially not after one-hot encoding), include:\n",
    "\n",
    "# Normalization\n",
    "scaler = StandardScaler()\n",
    "scaled_columns = ['Item_Weight', 'Item_Visibility', 'Item_MRP', 'Outlet_Establishment_Year']  \n",
    "\n",
    "\n",
    "data[scaled_columns] = scaler.fit_transform(data[scaled_columns])"
   ]
  },
  {
   "cell_type": "markdown",
   "id": "32afb78a",
   "metadata": {},
   "source": [
    "##  Split dataset into features and target variables."
   ]
  },
  {
   "cell_type": "code",
   "execution_count": 40,
   "id": "94996402",
   "metadata": {},
   "outputs": [],
   "source": [
    "# Split dataset into features and target variables\n",
    "\n",
    "X = data.drop(['Item_Outlet_Sales', 'Item_Identifier', 'Outlet_Identifier'], axis=1)  # predictors/features\n",
    "y = data['Item_Outlet_Sales']  # target variable"
   ]
  },
  {
   "cell_type": "code",
   "execution_count": 41,
   "id": "f4306c04",
   "metadata": {},
   "outputs": [],
   "source": [
    "# Split dataset into traning set and test set\n",
    "# Split dataset into training set and test set\n",
    "\n",
    "X_train, X_test, y_train, y_test = train_test_split(X, y, test_size=0.2, random_state=0)  # 80% training and 20% test"
   ]
  },
  {
   "cell_type": "code",
   "execution_count": 42,
   "id": "ff9c96a7",
   "metadata": {},
   "outputs": [],
   "source": [
    "# Convert pandas dataframes to numpy arrays before feeding them into the neural model.\n",
    "\n",
    "# X_train = X_train.to_numpy().astype('float32')\n",
    "# y_train = y_train.to_numpy().astype('float32')\n",
    "# X_test = X_test.to_numpy().astype('float32')\n",
    "# y_test = y_test.to_numpy().astype('float32')\n"
   ]
  },
  {
   "cell_type": "markdown",
   "id": "0d442b5b",
   "metadata": {},
   "source": [
    "## Model Architecture"
   ]
  },
  {
   "cell_type": "code",
   "execution_count": 43,
   "id": "e644734b",
   "metadata": {},
   "outputs": [],
   "source": [
    "# Building a Neutrla network\n",
    "\n",
    "# Note: input(data recieved by input layer, and features are detected) -> hidden(analyze and process the input features) -> output layers(Final results).\n",
    "# Note: As more hidden layers are added to the network, the model's capacity to analyze  complex patterns also improve.\n",
    "\n",
    "from tensorflow.keras.models import Sequential\n",
    "from tensorflow.keras.layers import Dense, InputLayer\n",
    "\n",
    "from tensorflow.keras.metrics import RootMeanSquaredError\n",
    "\n",
    "# Define model\n",
    "model = Sequential()\n",
    "\n",
    "input_neurons = X_train.shape[1]\n",
    "\n",
    "model.add(InputLayer(input_shape=input_neurons,))\n",
    "model.add(Dense(64, activation='relu')) #standard layer\n",
    "model.add(Dense(32, activation='relu')) \n",
    "\n",
    "model.add(Dense(1, activation='linear'))  # no activation in the output layer for regression\n",
    "\n",
    "\n",
    "# Compile model\n",
    "\n",
    "model.compile(loss='mean_squared_error', optimizer='Adam', metrics=[RootMeanSquaredError()]) #custom RMSE metric\n",
    "\n",
    "\n",
    "# Note for self understanding:\n",
    "# 1 Keras = interconnected dcision functions, know as \"nodes\", which interact with each other through axon like edge.\n",
    "# 2 \"Node\" = seperated into \"layers\" and consists of wide base. \n",
    "# 3 \"first Layers\" = consists \"raw input data\" like numeric values, text, image pixels or sounds.\n",
    "# 4 \"divided to several nodes\" = each input nodes then send information to the next layer of nods va the networks wdge.\n",
    "# 5 \"Activation edges\" : \n",
    "# if a sum of the connected edge sastifies a set threshold, know as activation function This activate the neuron at the next layer.\n",
    "# If the sum of the connceted edges does not meet the set thereshold, the activation fails, which results all nothing element.\n",
    "# the weigh assigns to each edge are different, preventing them to product the same solution."
   ]
  },
  {
   "cell_type": "code",
   "execution_count": 44,
   "id": "50bbbcde",
   "metadata": {},
   "outputs": [
    {
     "name": "stdout",
     "output_type": "stream",
     "text": [
      "Model: \"sequential_1\"\n",
      "_________________________________________________________________\n",
      " Layer (type)                Output Shape              Param #   \n",
      "=================================================================\n",
      " dense_3 (Dense)             (None, 64)                1984      \n",
      "                                                                 \n",
      " dense_4 (Dense)             (None, 32)                2080      \n",
      "                                                                 \n",
      " dense_5 (Dense)             (None, 1)                 33        \n",
      "                                                                 \n",
      "=================================================================\n",
      "Total params: 4097 (16.00 KB)\n",
      "Trainable params: 4097 (16.00 KB)\n",
      "Non-trainable params: 0 (0.00 Byte)\n",
      "_________________________________________________________________\n"
     ]
    }
   ],
   "source": [
    "model.summary()"
   ]
  },
  {
   "cell_type": "code",
   "execution_count": 45,
   "id": "0e33aff0",
   "metadata": {},
   "outputs": [
    {
     "name": "stdout",
     "output_type": "stream",
     "text": [
      "Epoch 1/150\n",
      "400/400 [==============================] - 1s 2ms/step - loss: 5968200.5000 - root_mean_squared_error: 2442.9900 - val_loss: 2966878.7500 - val_root_mean_squared_error: 1722.4630\n",
      "Epoch 2/150\n",
      "400/400 [==============================] - 1s 2ms/step - loss: 1906319.0000 - root_mean_squared_error: 1380.6951 - val_loss: 1935093.3750 - val_root_mean_squared_error: 1391.0763\n",
      "Epoch 3/150\n",
      "400/400 [==============================] - 1s 2ms/step - loss: 1628336.5000 - root_mean_squared_error: 1276.0629 - val_loss: 1796194.2500 - val_root_mean_squared_error: 1340.2217\n",
      "Epoch 4/150\n",
      "400/400 [==============================] - 1s 2ms/step - loss: 1549470.1250 - root_mean_squared_error: 1244.7771 - val_loss: 1737401.0000 - val_root_mean_squared_error: 1318.1050\n",
      "Epoch 5/150\n",
      "400/400 [==============================] - 1s 2ms/step - loss: 1508757.8750 - root_mean_squared_error: 1228.3151 - val_loss: 1695232.5000 - val_root_mean_squared_error: 1302.0110\n",
      "Epoch 6/150\n",
      "400/400 [==============================] - 1s 2ms/step - loss: 1471728.2500 - root_mean_squared_error: 1213.1481 - val_loss: 1680884.0000 - val_root_mean_squared_error: 1296.4891\n",
      "Epoch 7/150\n",
      "400/400 [==============================] - 1s 2ms/step - loss: 1447751.3750 - root_mean_squared_error: 1203.2255 - val_loss: 1629299.6250 - val_root_mean_squared_error: 1276.4402\n",
      "Epoch 8/150\n",
      "400/400 [==============================] - 1s 2ms/step - loss: 1421179.8750 - root_mean_squared_error: 1192.1324 - val_loss: 1599569.5000 - val_root_mean_squared_error: 1264.7408\n",
      "Epoch 9/150\n",
      "400/400 [==============================] - 1s 2ms/step - loss: 1395014.3750 - root_mean_squared_error: 1181.1073 - val_loss: 1574891.5000 - val_root_mean_squared_error: 1254.9468\n",
      "Epoch 10/150\n",
      "400/400 [==============================] - 1s 2ms/step - loss: 1370340.1250 - root_mean_squared_error: 1170.6152 - val_loss: 1548453.6250 - val_root_mean_squared_error: 1244.3688\n",
      "Epoch 11/150\n",
      "400/400 [==============================] - 1s 2ms/step - loss: 1347995.3750 - root_mean_squared_error: 1161.0320 - val_loss: 1541247.1250 - val_root_mean_squared_error: 1241.4697\n",
      "Epoch 12/150\n",
      "400/400 [==============================] - 1s 2ms/step - loss: 1330582.8750 - root_mean_squared_error: 1153.5089 - val_loss: 1501278.6250 - val_root_mean_squared_error: 1225.2667\n",
      "Epoch 13/150\n",
      "400/400 [==============================] - 1s 2ms/step - loss: 1309849.7500 - root_mean_squared_error: 1144.4867 - val_loss: 1476903.7500 - val_root_mean_squared_error: 1215.2793\n",
      "Epoch 14/150\n",
      "400/400 [==============================] - 1s 2ms/step - loss: 1293271.0000 - root_mean_squared_error: 1137.2207 - val_loss: 1467552.7500 - val_root_mean_squared_error: 1211.4259\n",
      "Epoch 15/150\n",
      "400/400 [==============================] - 1s 2ms/step - loss: 1277289.0000 - root_mean_squared_error: 1130.1720 - val_loss: 1441935.5000 - val_root_mean_squared_error: 1200.8062\n",
      "Epoch 16/150\n",
      "400/400 [==============================] - 1s 2ms/step - loss: 1263329.2500 - root_mean_squared_error: 1123.9792 - val_loss: 1429058.2500 - val_root_mean_squared_error: 1195.4323\n",
      "Epoch 17/150\n",
      "400/400 [==============================] - 1s 2ms/step - loss: 1250439.8750 - root_mean_squared_error: 1118.2307 - val_loss: 1418305.1250 - val_root_mean_squared_error: 1190.9261\n",
      "Epoch 18/150\n",
      "400/400 [==============================] - 1s 2ms/step - loss: 1238472.3750 - root_mean_squared_error: 1112.8667 - val_loss: 1398873.8750 - val_root_mean_squared_error: 1182.7400\n",
      "Epoch 19/150\n",
      "400/400 [==============================] - 1s 2ms/step - loss: 1229095.7500 - root_mean_squared_error: 1108.6459 - val_loss: 1390817.1250 - val_root_mean_squared_error: 1179.3291\n",
      "Epoch 20/150\n",
      "400/400 [==============================] - 1s 2ms/step - loss: 1219216.2500 - root_mean_squared_error: 1104.1813 - val_loss: 1376068.7500 - val_root_mean_squared_error: 1173.0596\n",
      "Epoch 21/150\n",
      "400/400 [==============================] - 1s 2ms/step - loss: 1211920.5000 - root_mean_squared_error: 1100.8726 - val_loss: 1366640.6250 - val_root_mean_squared_error: 1169.0341\n",
      "Epoch 22/150\n",
      "400/400 [==============================] - 1s 2ms/step - loss: 1203892.6250 - root_mean_squared_error: 1097.2205 - val_loss: 1354530.2500 - val_root_mean_squared_error: 1163.8429\n",
      "Epoch 23/150\n",
      "400/400 [==============================] - 1s 2ms/step - loss: 1198657.1250 - root_mean_squared_error: 1094.8320 - val_loss: 1345137.2500 - val_root_mean_squared_error: 1159.8005\n",
      "Epoch 24/150\n",
      "400/400 [==============================] - 1s 2ms/step - loss: 1193475.6250 - root_mean_squared_error: 1092.4631 - val_loss: 1347858.2500 - val_root_mean_squared_error: 1160.9730\n",
      "Epoch 25/150\n",
      "400/400 [==============================] - 1s 2ms/step - loss: 1186560.5000 - root_mean_squared_error: 1089.2936 - val_loss: 1378841.3750 - val_root_mean_squared_error: 1174.2407\n",
      "Epoch 26/150\n",
      "400/400 [==============================] - 1s 2ms/step - loss: 1185349.0000 - root_mean_squared_error: 1088.7373 - val_loss: 1329419.3750 - val_root_mean_squared_error: 1153.0045\n",
      "Epoch 27/150\n",
      "400/400 [==============================] - 1s 2ms/step - loss: 1182638.5000 - root_mean_squared_error: 1087.4918 - val_loss: 1328890.8750 - val_root_mean_squared_error: 1152.7753\n",
      "Epoch 28/150\n",
      "400/400 [==============================] - 1s 2ms/step - loss: 1178778.1250 - root_mean_squared_error: 1085.7155 - val_loss: 1332244.3750 - val_root_mean_squared_error: 1154.2289\n",
      "Epoch 29/150\n",
      "400/400 [==============================] - 1s 2ms/step - loss: 1175860.0000 - root_mean_squared_error: 1084.3707 - val_loss: 1325149.6250 - val_root_mean_squared_error: 1151.1515\n",
      "Epoch 30/150\n",
      "400/400 [==============================] - 1s 2ms/step - loss: 1173068.5000 - root_mean_squared_error: 1083.0829 - val_loss: 1320832.6250 - val_root_mean_squared_error: 1149.2748\n",
      "Epoch 31/150\n",
      "400/400 [==============================] - 1s 2ms/step - loss: 1170863.1250 - root_mean_squared_error: 1082.0643 - val_loss: 1327295.5000 - val_root_mean_squared_error: 1152.0831\n",
      "Epoch 32/150\n",
      "400/400 [==============================] - 1s 2ms/step - loss: 1170187.3750 - root_mean_squared_error: 1081.7520 - val_loss: 1322354.2500 - val_root_mean_squared_error: 1149.9366\n",
      "Epoch 33/150\n",
      "400/400 [==============================] - 1s 2ms/step - loss: 1166849.6250 - root_mean_squared_error: 1080.2081 - val_loss: 1310385.1250 - val_root_mean_squared_error: 1144.7206\n",
      "Epoch 34/150\n",
      "400/400 [==============================] - 1s 2ms/step - loss: 1164135.6250 - root_mean_squared_error: 1078.9512 - val_loss: 1306262.8750 - val_root_mean_squared_error: 1142.9186\n",
      "Epoch 35/150\n",
      "400/400 [==============================] - 1s 2ms/step - loss: 1164500.7500 - root_mean_squared_error: 1079.1204 - val_loss: 1309718.8750 - val_root_mean_squared_error: 1144.4294\n",
      "Epoch 36/150\n",
      "400/400 [==============================] - 1s 2ms/step - loss: 1162648.8750 - root_mean_squared_error: 1078.2620 - val_loss: 1307685.1250 - val_root_mean_squared_error: 1143.5406\n",
      "Epoch 37/150\n",
      "400/400 [==============================] - 1s 2ms/step - loss: 1160353.5000 - root_mean_squared_error: 1077.1970 - val_loss: 1311369.5000 - val_root_mean_squared_error: 1145.1504\n",
      "Epoch 38/150\n",
      "400/400 [==============================] - 1s 2ms/step - loss: 1159334.2500 - root_mean_squared_error: 1076.7239 - val_loss: 1301428.0000 - val_root_mean_squared_error: 1140.8015\n",
      "Epoch 39/150\n",
      "400/400 [==============================] - 1s 2ms/step - loss: 1158467.5000 - root_mean_squared_error: 1076.3213 - val_loss: 1321181.1250 - val_root_mean_squared_error: 1149.4264\n",
      "Epoch 40/150\n",
      "400/400 [==============================] - 1s 2ms/step - loss: 1158270.8750 - root_mean_squared_error: 1076.2300 - val_loss: 1306635.6250 - val_root_mean_squared_error: 1143.0817\n",
      "Epoch 41/150\n",
      "400/400 [==============================] - 1s 2ms/step - loss: 1156500.0000 - root_mean_squared_error: 1075.4069 - val_loss: 1294862.6250 - val_root_mean_squared_error: 1137.9203\n",
      "Epoch 42/150\n",
      "400/400 [==============================] - 1s 2ms/step - loss: 1154619.3750 - root_mean_squared_error: 1074.5322 - val_loss: 1316125.2500 - val_root_mean_squared_error: 1147.2250\n",
      "Epoch 43/150\n",
      "400/400 [==============================] - 1s 2ms/step - loss: 1156400.8750 - root_mean_squared_error: 1075.3608 - val_loss: 1298894.5000 - val_root_mean_squared_error: 1139.6906\n"
     ]
    },
    {
     "name": "stdout",
     "output_type": "stream",
     "text": [
      "Epoch 44/150\n",
      "400/400 [==============================] - 1s 2ms/step - loss: 1153326.6250 - root_mean_squared_error: 1073.9305 - val_loss: 1299126.0000 - val_root_mean_squared_error: 1139.7921\n",
      "Epoch 45/150\n",
      "400/400 [==============================] - 1s 2ms/step - loss: 1152226.3750 - root_mean_squared_error: 1073.4181 - val_loss: 1309631.8750 - val_root_mean_squared_error: 1144.3915\n",
      "Epoch 46/150\n",
      "400/400 [==============================] - 1s 2ms/step - loss: 1154160.1250 - root_mean_squared_error: 1074.3185 - val_loss: 1297856.1250 - val_root_mean_squared_error: 1139.2349\n",
      "Epoch 47/150\n",
      "400/400 [==============================] - 1s 2ms/step - loss: 1152682.2500 - root_mean_squared_error: 1073.6304 - val_loss: 1298306.7500 - val_root_mean_squared_error: 1139.4326\n",
      "Epoch 48/150\n",
      "400/400 [==============================] - 1s 2ms/step - loss: 1152060.3750 - root_mean_squared_error: 1073.3407 - val_loss: 1312021.3750 - val_root_mean_squared_error: 1145.4351\n",
      "Epoch 49/150\n",
      "400/400 [==============================] - 1s 2ms/step - loss: 1150058.8750 - root_mean_squared_error: 1072.4080 - val_loss: 1315094.2500 - val_root_mean_squared_error: 1146.7756\n",
      "Epoch 50/150\n",
      "400/400 [==============================] - 1s 2ms/step - loss: 1149946.8750 - root_mean_squared_error: 1072.3557 - val_loss: 1294530.1250 - val_root_mean_squared_error: 1137.7742\n",
      "Epoch 51/150\n",
      "400/400 [==============================] - 1s 2ms/step - loss: 1149671.6250 - root_mean_squared_error: 1072.2274 - val_loss: 1291700.1250 - val_root_mean_squared_error: 1136.5299\n",
      "Epoch 52/150\n",
      "400/400 [==============================] - 1s 2ms/step - loss: 1147247.6250 - root_mean_squared_error: 1071.0964 - val_loss: 1296299.2500 - val_root_mean_squared_error: 1138.5514\n",
      "Epoch 53/150\n",
      "400/400 [==============================] - 1s 2ms/step - loss: 1145991.5000 - root_mean_squared_error: 1070.5099 - val_loss: 1311333.1250 - val_root_mean_squared_error: 1145.1345\n",
      "Epoch 54/150\n",
      "400/400 [==============================] - 1s 2ms/step - loss: 1147075.6250 - root_mean_squared_error: 1071.0161 - val_loss: 1299604.7500 - val_root_mean_squared_error: 1140.0021\n",
      "Epoch 55/150\n",
      "400/400 [==============================] - 1s 2ms/step - loss: 1145522.1250 - root_mean_squared_error: 1070.2906 - val_loss: 1299743.2500 - val_root_mean_squared_error: 1140.0629\n",
      "Epoch 56/150\n",
      "400/400 [==============================] - 1s 2ms/step - loss: 1145878.2500 - root_mean_squared_error: 1070.4570 - val_loss: 1291353.0000 - val_root_mean_squared_error: 1136.3772\n",
      "Epoch 57/150\n",
      "400/400 [==============================] - 1s 2ms/step - loss: 1142966.8750 - root_mean_squared_error: 1069.0963 - val_loss: 1309257.3750 - val_root_mean_squared_error: 1144.2279\n",
      "Epoch 58/150\n",
      "400/400 [==============================] - 1s 2ms/step - loss: 1145161.1250 - root_mean_squared_error: 1070.1221 - val_loss: 1297107.6250 - val_root_mean_squared_error: 1138.9064\n",
      "Epoch 59/150\n",
      "400/400 [==============================] - 1s 2ms/step - loss: 1144216.5000 - root_mean_squared_error: 1069.6805 - val_loss: 1295360.5000 - val_root_mean_squared_error: 1138.1390\n",
      "Epoch 60/150\n",
      "400/400 [==============================] - 1s 2ms/step - loss: 1143538.1250 - root_mean_squared_error: 1069.3634 - val_loss: 1299659.5000 - val_root_mean_squared_error: 1140.0261\n",
      "Epoch 61/150\n",
      "400/400 [==============================] - 1s 2ms/step - loss: 1143134.1250 - root_mean_squared_error: 1069.1746 - val_loss: 1288532.1250 - val_root_mean_squared_error: 1135.1353\n",
      "Epoch 62/150\n",
      "400/400 [==============================] - 1s 2ms/step - loss: 1142294.2500 - root_mean_squared_error: 1068.7816 - val_loss: 1303206.1250 - val_root_mean_squared_error: 1141.5806\n",
      "Epoch 63/150\n",
      "400/400 [==============================] - 1s 2ms/step - loss: 1141307.3750 - root_mean_squared_error: 1068.3198 - val_loss: 1283969.7500 - val_root_mean_squared_error: 1133.1239\n",
      "Epoch 64/150\n",
      "400/400 [==============================] - 1s 2ms/step - loss: 1140271.0000 - root_mean_squared_error: 1067.8347 - val_loss: 1293735.5000 - val_root_mean_squared_error: 1137.4249\n",
      "Epoch 65/150\n",
      "400/400 [==============================] - 1s 2ms/step - loss: 1139722.7500 - root_mean_squared_error: 1067.5780 - val_loss: 1286790.2500 - val_root_mean_squared_error: 1134.3678\n",
      "Epoch 66/150\n",
      "400/400 [==============================] - 1s 2ms/step - loss: 1138402.5000 - root_mean_squared_error: 1066.9595 - val_loss: 1279923.8750 - val_root_mean_squared_error: 1131.3372\n",
      "Epoch 67/150\n",
      "400/400 [==============================] - 1s 2ms/step - loss: 1140185.1250 - root_mean_squared_error: 1067.7946 - val_loss: 1288024.6250 - val_root_mean_squared_error: 1134.9117\n",
      "Epoch 68/150\n",
      "400/400 [==============================] - 1s 2ms/step - loss: 1138081.1250 - root_mean_squared_error: 1066.8088 - val_loss: 1290041.5000 - val_root_mean_squared_error: 1135.7999\n",
      "Epoch 69/150\n",
      "400/400 [==============================] - 1s 2ms/step - loss: 1137887.7500 - root_mean_squared_error: 1066.7183 - val_loss: 1286900.8750 - val_root_mean_squared_error: 1134.4165\n",
      "Epoch 70/150\n",
      "400/400 [==============================] - 1s 2ms/step - loss: 1138899.5000 - root_mean_squared_error: 1067.1924 - val_loss: 1304800.1250 - val_root_mean_squared_error: 1142.2784\n",
      "Epoch 71/150\n",
      "400/400 [==============================] - 1s 2ms/step - loss: 1134877.6250 - root_mean_squared_error: 1065.3064 - val_loss: 1280312.7500 - val_root_mean_squared_error: 1131.5090\n",
      "Epoch 72/150\n",
      "400/400 [==============================] - 1s 2ms/step - loss: 1136445.7500 - root_mean_squared_error: 1066.0421 - val_loss: 1280372.1250 - val_root_mean_squared_error: 1131.5353\n",
      "Epoch 73/150\n",
      "400/400 [==============================] - 1s 2ms/step - loss: 1136830.0000 - root_mean_squared_error: 1066.2223 - val_loss: 1288304.7500 - val_root_mean_squared_error: 1135.0352\n",
      "Epoch 74/150\n",
      "400/400 [==============================] - 1s 2ms/step - loss: 1132991.8750 - root_mean_squared_error: 1064.4209 - val_loss: 1287642.1250 - val_root_mean_squared_error: 1134.7432\n",
      "Epoch 75/150\n",
      "400/400 [==============================] - 1s 2ms/step - loss: 1133457.0000 - root_mean_squared_error: 1064.6394 - val_loss: 1280469.6250 - val_root_mean_squared_error: 1131.5784\n",
      "Epoch 76/150\n",
      "400/400 [==============================] - 1s 2ms/step - loss: 1133292.8750 - root_mean_squared_error: 1064.5623 - val_loss: 1292182.1250 - val_root_mean_squared_error: 1136.7419\n",
      "Epoch 77/150\n",
      "400/400 [==============================] - 1s 2ms/step - loss: 1133480.8750 - root_mean_squared_error: 1064.6506 - val_loss: 1274920.7500 - val_root_mean_squared_error: 1129.1239\n",
      "Epoch 78/150\n",
      "400/400 [==============================] - 1s 2ms/step - loss: 1132760.2500 - root_mean_squared_error: 1064.3121 - val_loss: 1282767.0000 - val_root_mean_squared_error: 1132.5930\n",
      "Epoch 79/150\n",
      "400/400 [==============================] - 1s 2ms/step - loss: 1132501.5000 - root_mean_squared_error: 1064.1906 - val_loss: 1280481.3750 - val_root_mean_squared_error: 1131.5836\n",
      "Epoch 80/150\n",
      "400/400 [==============================] - 1s 2ms/step - loss: 1131890.5000 - root_mean_squared_error: 1063.9036 - val_loss: 1280363.1250 - val_root_mean_squared_error: 1131.5314\n",
      "Epoch 81/150\n",
      "400/400 [==============================] - 1s 2ms/step - loss: 1131214.1250 - root_mean_squared_error: 1063.5854 - val_loss: 1273137.0000 - val_root_mean_squared_error: 1128.3337\n",
      "Epoch 82/150\n",
      "400/400 [==============================] - 1s 2ms/step - loss: 1131099.1250 - root_mean_squared_error: 1063.5315 - val_loss: 1282425.1250 - val_root_mean_squared_error: 1132.4420\n",
      "Epoch 83/150\n",
      "400/400 [==============================] - 1s 2ms/step - loss: 1129479.6250 - root_mean_squared_error: 1062.7698 - val_loss: 1277383.7500 - val_root_mean_squared_error: 1130.2140\n",
      "Epoch 84/150\n",
      "400/400 [==============================] - 1s 2ms/step - loss: 1128485.3750 - root_mean_squared_error: 1062.3019 - val_loss: 1277408.2500 - val_root_mean_squared_error: 1130.2249\n",
      "Epoch 85/150\n",
      "400/400 [==============================] - 1s 2ms/step - loss: 1129780.5000 - root_mean_squared_error: 1062.9114 - val_loss: 1273944.3750 - val_root_mean_squared_error: 1128.6914\n",
      "Epoch 86/150\n",
      "400/400 [==============================] - 1s 2ms/step - loss: 1128002.3750 - root_mean_squared_error: 1062.0746 - val_loss: 1291380.8750 - val_root_mean_squared_error: 1136.3894\n"
     ]
    },
    {
     "name": "stdout",
     "output_type": "stream",
     "text": [
      "Epoch 87/150\n",
      "400/400 [==============================] - 1s 2ms/step - loss: 1128310.7500 - root_mean_squared_error: 1062.2197 - val_loss: 1276271.8750 - val_root_mean_squared_error: 1129.7220\n",
      "Epoch 88/150\n",
      "400/400 [==============================] - 1s 2ms/step - loss: 1126487.2500 - root_mean_squared_error: 1061.3611 - val_loss: 1286053.2500 - val_root_mean_squared_error: 1134.0428\n",
      "Epoch 89/150\n",
      "400/400 [==============================] - 1s 2ms/step - loss: 1128187.1250 - root_mean_squared_error: 1062.1615 - val_loss: 1284110.2500 - val_root_mean_squared_error: 1133.1859\n",
      "Epoch 90/150\n",
      "400/400 [==============================] - 1s 2ms/step - loss: 1127514.8750 - root_mean_squared_error: 1061.8451 - val_loss: 1281082.7500 - val_root_mean_squared_error: 1131.8492\n",
      "Epoch 91/150\n",
      "400/400 [==============================] - 1s 2ms/step - loss: 1123048.3750 - root_mean_squared_error: 1059.7397 - val_loss: 1290153.8750 - val_root_mean_squared_error: 1135.8494\n",
      "Epoch 92/150\n",
      "400/400 [==============================] - 1s 2ms/step - loss: 1127241.7500 - root_mean_squared_error: 1061.7164 - val_loss: 1286371.0000 - val_root_mean_squared_error: 1134.1830\n",
      "Epoch 93/150\n",
      "400/400 [==============================] - 1s 2ms/step - loss: 1124702.2500 - root_mean_squared_error: 1060.5198 - val_loss: 1270827.6250 - val_root_mean_squared_error: 1127.3099\n",
      "Epoch 94/150\n",
      "400/400 [==============================] - 1s 2ms/step - loss: 1126365.7500 - root_mean_squared_error: 1061.3038 - val_loss: 1278599.6250 - val_root_mean_squared_error: 1130.7518\n",
      "Epoch 95/150\n",
      "400/400 [==============================] - 1s 2ms/step - loss: 1123245.2500 - root_mean_squared_error: 1059.8326 - val_loss: 1284412.1250 - val_root_mean_squared_error: 1133.3191\n",
      "Epoch 96/150\n",
      "400/400 [==============================] - 1s 2ms/step - loss: 1122999.5000 - root_mean_squared_error: 1059.7167 - val_loss: 1275425.8750 - val_root_mean_squared_error: 1129.3475\n",
      "Epoch 97/150\n",
      "400/400 [==============================] - 1s 2ms/step - loss: 1122360.2500 - root_mean_squared_error: 1059.4150 - val_loss: 1280734.3750 - val_root_mean_squared_error: 1131.6953\n",
      "Epoch 98/150\n",
      "400/400 [==============================] - 1s 2ms/step - loss: 1123097.5000 - root_mean_squared_error: 1059.7629 - val_loss: 1274283.0000 - val_root_mean_squared_error: 1128.8414\n",
      "Epoch 99/150\n",
      "400/400 [==============================] - 1s 2ms/step - loss: 1123873.0000 - root_mean_squared_error: 1060.1288 - val_loss: 1277868.1250 - val_root_mean_squared_error: 1130.4283\n",
      "Epoch 100/150\n",
      "400/400 [==============================] - 1s 2ms/step - loss: 1121160.6250 - root_mean_squared_error: 1058.8488 - val_loss: 1283773.7500 - val_root_mean_squared_error: 1133.0374\n",
      "Epoch 101/150\n",
      "400/400 [==============================] - 1s 2ms/step - loss: 1120445.1250 - root_mean_squared_error: 1058.5109 - val_loss: 1279911.5000 - val_root_mean_squared_error: 1131.3318\n",
      "Epoch 102/150\n",
      "400/400 [==============================] - 1s 2ms/step - loss: 1119996.7500 - root_mean_squared_error: 1058.2990 - val_loss: 1278570.0000 - val_root_mean_squared_error: 1130.7386\n",
      "Epoch 103/150\n",
      "400/400 [==============================] - 1s 2ms/step - loss: 1120689.0000 - root_mean_squared_error: 1058.6260 - val_loss: 1273600.7500 - val_root_mean_squared_error: 1128.5392\n",
      "Epoch 104/150\n",
      "400/400 [==============================] - 1s 2ms/step - loss: 1115739.7500 - root_mean_squared_error: 1056.2859 - val_loss: 1271377.3750 - val_root_mean_squared_error: 1127.5537\n",
      "Epoch 105/150\n",
      "400/400 [==============================] - 1s 2ms/step - loss: 1120822.2500 - root_mean_squared_error: 1058.6890 - val_loss: 1277830.1250 - val_root_mean_squared_error: 1130.4115\n",
      "Epoch 106/150\n",
      "400/400 [==============================] - 1s 2ms/step - loss: 1118811.2500 - root_mean_squared_error: 1057.7388 - val_loss: 1293373.5000 - val_root_mean_squared_error: 1137.2657\n",
      "Epoch 107/150\n",
      "400/400 [==============================] - 1s 2ms/step - loss: 1118517.2500 - root_mean_squared_error: 1057.5997 - val_loss: 1273479.3750 - val_root_mean_squared_error: 1128.4855\n",
      "Epoch 108/150\n",
      "400/400 [==============================] - 1s 2ms/step - loss: 1118007.3750 - root_mean_squared_error: 1057.3586 - val_loss: 1269115.5000 - val_root_mean_squared_error: 1126.5503\n",
      "Epoch 109/150\n",
      "400/400 [==============================] - 1s 2ms/step - loss: 1120028.5000 - root_mean_squared_error: 1058.3140 - val_loss: 1277126.5000 - val_root_mean_squared_error: 1130.1002\n",
      "Epoch 110/150\n",
      "400/400 [==============================] - 1s 2ms/step - loss: 1116841.5000 - root_mean_squared_error: 1056.8073 - val_loss: 1285123.5000 - val_root_mean_squared_error: 1133.6329\n",
      "Epoch 111/150\n",
      "400/400 [==============================] - 1s 2ms/step - loss: 1116659.1250 - root_mean_squared_error: 1056.7209 - val_loss: 1285305.3750 - val_root_mean_squared_error: 1133.7131\n",
      "Epoch 112/150\n",
      "400/400 [==============================] - 1s 2ms/step - loss: 1116879.5000 - root_mean_squared_error: 1056.8252 - val_loss: 1280991.2500 - val_root_mean_squared_error: 1131.8088\n",
      "Epoch 113/150\n",
      "400/400 [==============================] - 1s 2ms/step - loss: 1116534.8750 - root_mean_squared_error: 1056.6621 - val_loss: 1270615.5000 - val_root_mean_squared_error: 1127.2158\n",
      "Epoch 114/150\n",
      "400/400 [==============================] - 1s 2ms/step - loss: 1116137.6250 - root_mean_squared_error: 1056.4741 - val_loss: 1287453.6250 - val_root_mean_squared_error: 1134.6602\n",
      "Epoch 115/150\n",
      "400/400 [==============================] - 1s 2ms/step - loss: 1116209.2500 - root_mean_squared_error: 1056.5081 - val_loss: 1295121.3750 - val_root_mean_squared_error: 1138.0339\n",
      "Epoch 116/150\n",
      "400/400 [==============================] - 1s 2ms/step - loss: 1116101.1250 - root_mean_squared_error: 1056.4569 - val_loss: 1277609.6250 - val_root_mean_squared_error: 1130.3140\n",
      "Epoch 117/150\n",
      "400/400 [==============================] - 1s 2ms/step - loss: 1115166.2500 - root_mean_squared_error: 1056.0143 - val_loss: 1294510.3750 - val_root_mean_squared_error: 1137.7655\n",
      "Epoch 118/150\n",
      "400/400 [==============================] - 1s 2ms/step - loss: 1116414.5000 - root_mean_squared_error: 1056.6052 - val_loss: 1274476.0000 - val_root_mean_squared_error: 1128.9269\n",
      "Epoch 119/150\n",
      "400/400 [==============================] - 1s 2ms/step - loss: 1114519.7500 - root_mean_squared_error: 1055.7081 - val_loss: 1295089.0000 - val_root_mean_squared_error: 1138.0198\n",
      "Epoch 120/150\n",
      "400/400 [==============================] - 1s 2ms/step - loss: 1114108.6250 - root_mean_squared_error: 1055.5134 - val_loss: 1270404.0000 - val_root_mean_squared_error: 1127.1219\n",
      "Epoch 121/150\n",
      "400/400 [==============================] - 1s 2ms/step - loss: 1115570.7500 - root_mean_squared_error: 1056.2058 - val_loss: 1296065.6250 - val_root_mean_squared_error: 1138.4489\n",
      "Epoch 122/150\n",
      "400/400 [==============================] - 1s 2ms/step - loss: 1115272.2500 - root_mean_squared_error: 1056.0645 - val_loss: 1284863.7500 - val_root_mean_squared_error: 1133.5183\n",
      "Epoch 123/150\n",
      "400/400 [==============================] - 1s 2ms/step - loss: 1114394.6250 - root_mean_squared_error: 1055.6489 - val_loss: 1297426.0000 - val_root_mean_squared_error: 1139.0461\n",
      "Epoch 124/150\n",
      "400/400 [==============================] - 1s 2ms/step - loss: 1113810.0000 - root_mean_squared_error: 1055.3719 - val_loss: 1270757.5000 - val_root_mean_squared_error: 1127.2788\n",
      "Epoch 125/150\n",
      "400/400 [==============================] - 1s 2ms/step - loss: 1114406.1250 - root_mean_squared_error: 1055.6544 - val_loss: 1292559.3750 - val_root_mean_squared_error: 1136.9078\n",
      "Epoch 126/150\n",
      "400/400 [==============================] - 1s 2ms/step - loss: 1114717.5000 - root_mean_squared_error: 1055.8019 - val_loss: 1274339.1250 - val_root_mean_squared_error: 1128.8663\n",
      "Epoch 127/150\n",
      "400/400 [==============================] - 1s 2ms/step - loss: 1113021.2500 - root_mean_squared_error: 1054.9982 - val_loss: 1300119.0000 - val_root_mean_squared_error: 1140.2277\n",
      "Epoch 128/150\n",
      "400/400 [==============================] - 1s 2ms/step - loss: 1110068.0000 - root_mean_squared_error: 1053.5977 - val_loss: 1270373.7500 - val_root_mean_squared_error: 1127.1085\n",
      "Epoch 129/150\n",
      "400/400 [==============================] - 1s 2ms/step - loss: 1112837.2500 - root_mean_squared_error: 1054.9110 - val_loss: 1285788.5000 - val_root_mean_squared_error: 1133.9261\n",
      "Epoch 130/150\n",
      "400/400 [==============================] - 1s 2ms/step - loss: 1114148.2500 - root_mean_squared_error: 1055.5322 - val_loss: 1275015.8750 - val_root_mean_squared_error: 1129.1660\n",
      "Epoch 131/150\n",
      "400/400 [==============================] - 1s 2ms/step - loss: 1113673.0000 - root_mean_squared_error: 1055.3070 - val_loss: 1278011.6250 - val_root_mean_squared_error: 1130.4918\n",
      "Epoch 132/150\n",
      "400/400 [==============================] - 1s 2ms/step - loss: 1112594.5000 - root_mean_squared_error: 1054.7959 - val_loss: 1284941.0000 - val_root_mean_squared_error: 1133.5524\n",
      "Epoch 133/150\n",
      "400/400 [==============================] - 1s 2ms/step - loss: 1110603.5000 - root_mean_squared_error: 1053.8517 - val_loss: 1280025.5000 - val_root_mean_squared_error: 1131.3821\n",
      "Epoch 134/150\n",
      "400/400 [==============================] - 1s 2ms/step - loss: 1112485.1250 - root_mean_squared_error: 1054.7441 - val_loss: 1281203.8750 - val_root_mean_squared_error: 1131.9027\n",
      "Epoch 135/150\n",
      "400/400 [==============================] - 1s 2ms/step - loss: 1110222.1250 - root_mean_squared_error: 1053.6708 - val_loss: 1292705.1250 - val_root_mean_squared_error: 1136.9719\n",
      "Epoch 136/150\n",
      "400/400 [==============================] - 1s 2ms/step - loss: 1111879.7500 - root_mean_squared_error: 1054.4570 - val_loss: 1269515.3750 - val_root_mean_squared_error: 1126.7278\n",
      "Epoch 137/150\n",
      "400/400 [==============================] - 1s 2ms/step - loss: 1111166.8750 - root_mean_squared_error: 1054.1190 - val_loss: 1276807.7500 - val_root_mean_squared_error: 1129.9592\n",
      "Epoch 138/150\n",
      "400/400 [==============================] - 1s 2ms/step - loss: 1111460.0000 - root_mean_squared_error: 1054.2581 - val_loss: 1279923.3750 - val_root_mean_squared_error: 1131.3370\n",
      "Epoch 139/150\n",
      "400/400 [==============================] - 1s 2ms/step - loss: 1109067.7500 - root_mean_squared_error: 1053.1228 - val_loss: 1279575.5000 - val_root_mean_squared_error: 1131.1832\n",
      "Epoch 140/150\n",
      "400/400 [==============================] - 1s 2ms/step - loss: 1110626.0000 - root_mean_squared_error: 1053.8624 - val_loss: 1275937.1250 - val_root_mean_squared_error: 1129.5739\n",
      "Epoch 141/150\n",
      "400/400 [==============================] - 1s 2ms/step - loss: 1110298.2500 - root_mean_squared_error: 1053.7069 - val_loss: 1270903.6250 - val_root_mean_squared_error: 1127.3436\n",
      "Epoch 142/150\n",
      "400/400 [==============================] - 1s 2ms/step - loss: 1110133.0000 - root_mean_squared_error: 1053.6285 - val_loss: 1269903.6250 - val_root_mean_squared_error: 1126.9000\n",
      "Epoch 143/150\n",
      "400/400 [==============================] - 1s 2ms/step - loss: 1109221.8750 - root_mean_squared_error: 1053.1960 - val_loss: 1280300.1250 - val_root_mean_squared_error: 1131.5035\n",
      "Epoch 144/150\n",
      "400/400 [==============================] - 1s 2ms/step - loss: 1108479.7500 - root_mean_squared_error: 1052.8436 - val_loss: 1277432.3750 - val_root_mean_squared_error: 1130.2356\n",
      "Epoch 145/150\n",
      "400/400 [==============================] - 1s 2ms/step - loss: 1107007.6250 - root_mean_squared_error: 1052.1443 - val_loss: 1269884.1250 - val_root_mean_squared_error: 1126.8914\n",
      "Epoch 146/150\n",
      "400/400 [==============================] - 1s 2ms/step - loss: 1109616.3750 - root_mean_squared_error: 1053.3833 - val_loss: 1282375.2500 - val_root_mean_squared_error: 1132.4200\n",
      "Epoch 147/150\n",
      "400/400 [==============================] - 1s 2ms/step - loss: 1107428.0000 - root_mean_squared_error: 1052.3440 - val_loss: 1283616.7500 - val_root_mean_squared_error: 1132.9681\n",
      "Epoch 148/150\n",
      "400/400 [==============================] - 1s 2ms/step - loss: 1107889.5000 - root_mean_squared_error: 1052.5634 - val_loss: 1294350.0000 - val_root_mean_squared_error: 1137.6951\n",
      "Epoch 149/150\n",
      "400/400 [==============================] - 1s 2ms/step - loss: 1107088.1250 - root_mean_squared_error: 1052.1825 - val_loss: 1292711.1250 - val_root_mean_squared_error: 1136.9746\n",
      "Epoch 150/150\n",
      "400/400 [==============================] - 1s 2ms/step - loss: 1108014.7500 - root_mean_squared_error: 1052.6228 - val_loss: 1275025.0000 - val_root_mean_squared_error: 1129.1700\n",
      "32/32 [==============================] - 0s 2ms/step - loss: 1275025.2500 - root_mean_squared_error: 1129.1702\n",
      "Test loss: [1275025.25, 1129.170166015625]\n"
     ]
    }
   ],
   "source": [
    "# Train model\n",
    "history = model.fit(X_train, y_train, epochs=150, batch_size=10, validation_data=(X_test, y_test))  # you can adjust epochs and batch_size\n",
    "\n",
    "# Evaluate the model\n",
    "scores = model.evaluate(X_test, y_test)\n",
    "print(f\"Test loss: {scores}\")\n"
   ]
  },
  {
   "cell_type": "code",
   "execution_count": 46,
   "id": "e8967a31",
   "metadata": {},
   "outputs": [
    {
     "name": "stdout",
     "output_type": "stream",
     "text": [
      "32/32 [==============================] - 0s 1ms/step\n",
      "R2 Score: 0.5997205514294013\n"
     ]
    }
   ],
   "source": [
    "from sklearn.metrics import r2_score\n",
    "\n",
    "# Predict\n",
    "y_pred = model.predict(X_test)\n",
    "\n",
    "# R2 Score\n",
    "r2 = r2_score(y_test, y_pred)\n",
    "print(f\"R2 Score: {r2}\")\n"
   ]
  },
  {
   "cell_type": "code",
   "execution_count": 47,
   "id": "11d1a1f1",
   "metadata": {},
   "outputs": [
    {
     "name": "stdout",
     "output_type": "stream",
     "text": [
      "R2 Score of Mean Baseline: -0.0014913393888729143\n"
     ]
    }
   ],
   "source": [
    "# Predict the mean of the training data for all instances in the test set\n",
    "y_train_mean = y_train.mean()\n",
    "y_pred_baseline = [y_train_mean] * len(y_test)\n",
    "\n",
    "# Calculate the R2 score for the baseline\n",
    "r2_baseline = r2_score(y_test, y_pred_baseline)\n",
    "print(f\"R2 Score of Mean Baseline: {r2_baseline}\")\n"
   ]
  },
  {
   "cell_type": "markdown",
   "id": "eb191e7f",
   "metadata": {},
   "source": [
    "Mean Baseline Model:\n",
    "\n",
    "R2 Score: -0.00149\n",
    "This model predicts the mean sales value from the training set for all test instances.\n",
    "An R2 score close to 0 indicates that the model is no better than a horizontal line."
   ]
  },
  {
   "cell_type": "code",
   "execution_count": 48,
   "id": "46d479a6",
   "metadata": {},
   "outputs": [
    {
     "name": "stdout",
     "output_type": "stream",
     "text": [
      "R2 Score of Median Baseline: -0.059552699738150805\n"
     ]
    }
   ],
   "source": [
    "import numpy as np\n",
    "\n",
    "# Predict the median of the training data for all instances in the test set\n",
    "y_train_median = np.median(y_train)\n",
    "y_pred_baseline_median = [y_train_median] * len(y_test)\n",
    "\n",
    "# Calculate the R2 score for the baseline\n",
    "r2_baseline_median = r2_score(y_test, y_pred_baseline_median)\n",
    "print(f\"R2 Score of Median Baseline: {r2_baseline_median}\")\n"
   ]
  },
  {
   "cell_type": "markdown",
   "id": "77a61cae",
   "metadata": {},
   "source": [
    "Median baseline model: \n",
    "\n",
    "R2 Score: -0.05955\n",
    "This model predicts the median sales value from the training set for all test instances.\n",
    "Again, a score close to 0 or negative indicates that the model doesn't capture the variance in the test data."
   ]
  },
  {
   "cell_type": "markdown",
   "id": "e6f1a2bd",
   "metadata": {},
   "source": [
    "## Conclusion :\n",
    "\n",
    "Propotion of total variation of outcomes explained by the model. The value of R2 ranges between 0 and 1.\n",
    "\n",
    "From the model : R2 Score: 0.59. This indicates that approximately 0.59% of variability in the dependent variable(Slaes in this case) is explained by the model. In the context of predicting sales for a retail store using a Multi-Layer Perception, an R2 score 0f 0.598 is decent. However in real world problem. R2 score of 0.598 might be considered insufficient.\n",
    "\n",
    "\n",
    "In summary, R2 score of 0.59 indicates the model has learned some patterns from the data, The negative R2 scores of the baseline models show that they are performing worse than a model that would predict just the mean, reinforcing the fact that Keres is indeed learning meaningful patterns from the data. "
   ]
  },
  {
   "cell_type": "code",
   "execution_count": null,
   "id": "de0ce61e",
   "metadata": {},
   "outputs": [],
   "source": []
  }
 ],
 "metadata": {
  "kernelspec": {
   "display_name": "Python 3 (ipykernel)",
   "language": "python",
   "name": "python3"
  },
  "language_info": {
   "codemirror_mode": {
    "name": "ipython",
    "version": 3
   },
   "file_extension": ".py",
   "mimetype": "text/x-python",
   "name": "python",
   "nbconvert_exporter": "python",
   "pygments_lexer": "ipython3",
   "version": "3.11.4"
  }
 },
 "nbformat": 4,
 "nbformat_minor": 5
}
